{
  "nbformat": 4,
  "nbformat_minor": 0,
  "metadata": {
    "colab": {
      "name": "Phase2.ipynb",
      "provenance": [],
      "collapsed_sections": []
    },
    "kernelspec": {
      "name": "python3",
      "display_name": "Python 3"
    },
    "language_info": {
      "name": "python"
    },
    "gpuClass": "standard"
  },
  "cells": [
    {
      "cell_type": "markdown",
      "source": [
        "# **AI_CA5_Phase2**\n",
        "\n",
        "### Ali Pakdel Samadi\n",
        "### 810198368"
      ],
      "metadata": {
        "id": "bYcyQpErhXg4"
      }
    },
    {
      "cell_type": "code",
      "execution_count": 1,
      "metadata": {
        "colab": {
          "base_uri": "https://localhost:8080/"
        },
        "id": "htvuEH36ZN2l",
        "outputId": "74c1a0d9-10dc-4b4d-c3b9-d2bab1ec846c"
      },
      "outputs": [
        {
          "output_type": "stream",
          "name": "stdout",
          "text": [
            "Drive already mounted at /content/drive; to attempt to forcibly remount, call drive.mount(\"/content/drive\", force_remount=True).\n"
          ]
        }
      ],
      "source": [
        "from google.colab import drive\n",
        "drive.mount('/content/drive')"
      ]
    },
    {
      "cell_type": "code",
      "source": [
        "import pandas as pd\n",
        "import numpy as np\n",
        "import matplotlib.pyplot as plt\n",
        "from PIL import Image\n",
        "from sklearn.model_selection import train_test_split\n",
        "from sklearn.preprocessing import OneHotEncoder\n",
        "import string\n",
        "from keras.preprocessing.image import ImageDataGenerator\n",
        "from sklearn.metrics import classification_report\n",
        "import tensorflow as tf\n",
        "from tensorflow import keras\n",
        "from tensorflow.keras import *\n",
        "from tensorflow.keras.utils import *\n",
        "from functools import partial"
      ],
      "metadata": {
        "id": "s51xBILW_mU_"
      },
      "execution_count": 2,
      "outputs": []
    },
    {
      "cell_type": "markdown",
      "source": [
        "## **Phase 1: Preprocessing**"
      ],
      "metadata": {
        "id": "fpPDFeX_hSDw"
      }
    },
    {
      "cell_type": "markdown",
      "source": [
        "**1.**"
      ],
      "metadata": {
        "id": "1LzwuLVIhPLG"
      }
    },
    {
      "cell_type": "code",
      "source": [
        "df = pd.read_csv(\"/content/drive/MyDrive/CA5/A_Z Handwritten Data.csv\", dtype='uint8')\n",
        "df.describe()"
      ],
      "metadata": {
        "colab": {
          "base_uri": "https://localhost:8080/",
          "height": 394
        },
        "id": "eftd_FGrzvNQ",
        "outputId": "2810d12d-f8c6-4277-aa82-315de1828e55"
      },
      "execution_count": 3,
      "outputs": [
        {
          "output_type": "execute_result",
          "data": {
            "text/plain": [
              "                   0       0.1       0.2       0.3       0.4       0.5  \\\n",
              "count  372450.000000  372450.0  372450.0  372450.0  372450.0  372450.0   \n",
              "mean       13.523490       0.0       0.0       0.0       0.0       0.0   \n",
              "std         6.740824       0.0       0.0       0.0       0.0       0.0   \n",
              "min         0.000000       0.0       0.0       0.0       0.0       0.0   \n",
              "25%        10.000000       0.0       0.0       0.0       0.0       0.0   \n",
              "50%        14.000000       0.0       0.0       0.0       0.0       0.0   \n",
              "75%        18.000000       0.0       0.0       0.0       0.0       0.0   \n",
              "max        25.000000       0.0       0.0       0.0       0.0       0.0   \n",
              "\n",
              "            0.6       0.7       0.8       0.9  ...          0.639  \\\n",
              "count  372450.0  372450.0  372450.0  372450.0  ...  372450.000000   \n",
              "mean        0.0       0.0       0.0       0.0  ...       0.001616   \n",
              "std         0.0       0.0       0.0       0.0  ...       0.490788   \n",
              "min         0.0       0.0       0.0       0.0  ...       0.000000   \n",
              "25%         0.0       0.0       0.0       0.0  ...       0.000000   \n",
              "50%         0.0       0.0       0.0       0.0  ...       0.000000   \n",
              "75%         0.0       0.0       0.0       0.0  ...       0.000000   \n",
              "max         0.0       0.0       0.0       0.0  ...     252.000000   \n",
              "\n",
              "               0.640          0.641          0.642          0.643  \\\n",
              "count  372450.000000  372450.000000  372450.000000  372450.000000   \n",
              "mean        0.001592       0.001117       0.000929       0.000685   \n",
              "std         0.517297       0.421332       0.419180       0.385566   \n",
              "min         0.000000       0.000000       0.000000       0.000000   \n",
              "25%         0.000000       0.000000       0.000000       0.000000   \n",
              "50%         0.000000       0.000000       0.000000       0.000000   \n",
              "75%         0.000000       0.000000       0.000000       0.000000   \n",
              "max       226.000000     229.000000     228.000000     235.000000   \n",
              "\n",
              "               0.644          0.645          0.646          0.647  \\\n",
              "count  372450.000000  372450.000000  372450.000000  372450.000000   \n",
              "mean        0.000596       0.000618       0.000690       0.000239   \n",
              "std         0.319820       0.208942       0.335227       0.134852   \n",
              "min         0.000000       0.000000       0.000000       0.000000   \n",
              "25%         0.000000       0.000000       0.000000       0.000000   \n",
              "50%         0.000000       0.000000       0.000000       0.000000   \n",
              "75%         0.000000       0.000000       0.000000       0.000000   \n",
              "max       194.000000     103.000000     198.000000      82.000000   \n",
              "\n",
              "               0.648  \n",
              "count  372450.000000  \n",
              "mean        0.000011  \n",
              "std         0.006554  \n",
              "min         0.000000  \n",
              "25%         0.000000  \n",
              "50%         0.000000  \n",
              "75%         0.000000  \n",
              "max         4.000000  \n",
              "\n",
              "[8 rows x 785 columns]"
            ],
            "text/html": [
              "\n",
              "  <div id=\"df-eb685fbd-7bea-4b29-aac9-7fe7a7b51a89\">\n",
              "    <div class=\"colab-df-container\">\n",
              "      <div>\n",
              "<style scoped>\n",
              "    .dataframe tbody tr th:only-of-type {\n",
              "        vertical-align: middle;\n",
              "    }\n",
              "\n",
              "    .dataframe tbody tr th {\n",
              "        vertical-align: top;\n",
              "    }\n",
              "\n",
              "    .dataframe thead th {\n",
              "        text-align: right;\n",
              "    }\n",
              "</style>\n",
              "<table border=\"1\" class=\"dataframe\">\n",
              "  <thead>\n",
              "    <tr style=\"text-align: right;\">\n",
              "      <th></th>\n",
              "      <th>0</th>\n",
              "      <th>0.1</th>\n",
              "      <th>0.2</th>\n",
              "      <th>0.3</th>\n",
              "      <th>0.4</th>\n",
              "      <th>0.5</th>\n",
              "      <th>0.6</th>\n",
              "      <th>0.7</th>\n",
              "      <th>0.8</th>\n",
              "      <th>0.9</th>\n",
              "      <th>...</th>\n",
              "      <th>0.639</th>\n",
              "      <th>0.640</th>\n",
              "      <th>0.641</th>\n",
              "      <th>0.642</th>\n",
              "      <th>0.643</th>\n",
              "      <th>0.644</th>\n",
              "      <th>0.645</th>\n",
              "      <th>0.646</th>\n",
              "      <th>0.647</th>\n",
              "      <th>0.648</th>\n",
              "    </tr>\n",
              "  </thead>\n",
              "  <tbody>\n",
              "    <tr>\n",
              "      <th>count</th>\n",
              "      <td>372450.000000</td>\n",
              "      <td>372450.0</td>\n",
              "      <td>372450.0</td>\n",
              "      <td>372450.0</td>\n",
              "      <td>372450.0</td>\n",
              "      <td>372450.0</td>\n",
              "      <td>372450.0</td>\n",
              "      <td>372450.0</td>\n",
              "      <td>372450.0</td>\n",
              "      <td>372450.0</td>\n",
              "      <td>...</td>\n",
              "      <td>372450.000000</td>\n",
              "      <td>372450.000000</td>\n",
              "      <td>372450.000000</td>\n",
              "      <td>372450.000000</td>\n",
              "      <td>372450.000000</td>\n",
              "      <td>372450.000000</td>\n",
              "      <td>372450.000000</td>\n",
              "      <td>372450.000000</td>\n",
              "      <td>372450.000000</td>\n",
              "      <td>372450.000000</td>\n",
              "    </tr>\n",
              "    <tr>\n",
              "      <th>mean</th>\n",
              "      <td>13.523490</td>\n",
              "      <td>0.0</td>\n",
              "      <td>0.0</td>\n",
              "      <td>0.0</td>\n",
              "      <td>0.0</td>\n",
              "      <td>0.0</td>\n",
              "      <td>0.0</td>\n",
              "      <td>0.0</td>\n",
              "      <td>0.0</td>\n",
              "      <td>0.0</td>\n",
              "      <td>...</td>\n",
              "      <td>0.001616</td>\n",
              "      <td>0.001592</td>\n",
              "      <td>0.001117</td>\n",
              "      <td>0.000929</td>\n",
              "      <td>0.000685</td>\n",
              "      <td>0.000596</td>\n",
              "      <td>0.000618</td>\n",
              "      <td>0.000690</td>\n",
              "      <td>0.000239</td>\n",
              "      <td>0.000011</td>\n",
              "    </tr>\n",
              "    <tr>\n",
              "      <th>std</th>\n",
              "      <td>6.740824</td>\n",
              "      <td>0.0</td>\n",
              "      <td>0.0</td>\n",
              "      <td>0.0</td>\n",
              "      <td>0.0</td>\n",
              "      <td>0.0</td>\n",
              "      <td>0.0</td>\n",
              "      <td>0.0</td>\n",
              "      <td>0.0</td>\n",
              "      <td>0.0</td>\n",
              "      <td>...</td>\n",
              "      <td>0.490788</td>\n",
              "      <td>0.517297</td>\n",
              "      <td>0.421332</td>\n",
              "      <td>0.419180</td>\n",
              "      <td>0.385566</td>\n",
              "      <td>0.319820</td>\n",
              "      <td>0.208942</td>\n",
              "      <td>0.335227</td>\n",
              "      <td>0.134852</td>\n",
              "      <td>0.006554</td>\n",
              "    </tr>\n",
              "    <tr>\n",
              "      <th>min</th>\n",
              "      <td>0.000000</td>\n",
              "      <td>0.0</td>\n",
              "      <td>0.0</td>\n",
              "      <td>0.0</td>\n",
              "      <td>0.0</td>\n",
              "      <td>0.0</td>\n",
              "      <td>0.0</td>\n",
              "      <td>0.0</td>\n",
              "      <td>0.0</td>\n",
              "      <td>0.0</td>\n",
              "      <td>...</td>\n",
              "      <td>0.000000</td>\n",
              "      <td>0.000000</td>\n",
              "      <td>0.000000</td>\n",
              "      <td>0.000000</td>\n",
              "      <td>0.000000</td>\n",
              "      <td>0.000000</td>\n",
              "      <td>0.000000</td>\n",
              "      <td>0.000000</td>\n",
              "      <td>0.000000</td>\n",
              "      <td>0.000000</td>\n",
              "    </tr>\n",
              "    <tr>\n",
              "      <th>25%</th>\n",
              "      <td>10.000000</td>\n",
              "      <td>0.0</td>\n",
              "      <td>0.0</td>\n",
              "      <td>0.0</td>\n",
              "      <td>0.0</td>\n",
              "      <td>0.0</td>\n",
              "      <td>0.0</td>\n",
              "      <td>0.0</td>\n",
              "      <td>0.0</td>\n",
              "      <td>0.0</td>\n",
              "      <td>...</td>\n",
              "      <td>0.000000</td>\n",
              "      <td>0.000000</td>\n",
              "      <td>0.000000</td>\n",
              "      <td>0.000000</td>\n",
              "      <td>0.000000</td>\n",
              "      <td>0.000000</td>\n",
              "      <td>0.000000</td>\n",
              "      <td>0.000000</td>\n",
              "      <td>0.000000</td>\n",
              "      <td>0.000000</td>\n",
              "    </tr>\n",
              "    <tr>\n",
              "      <th>50%</th>\n",
              "      <td>14.000000</td>\n",
              "      <td>0.0</td>\n",
              "      <td>0.0</td>\n",
              "      <td>0.0</td>\n",
              "      <td>0.0</td>\n",
              "      <td>0.0</td>\n",
              "      <td>0.0</td>\n",
              "      <td>0.0</td>\n",
              "      <td>0.0</td>\n",
              "      <td>0.0</td>\n",
              "      <td>...</td>\n",
              "      <td>0.000000</td>\n",
              "      <td>0.000000</td>\n",
              "      <td>0.000000</td>\n",
              "      <td>0.000000</td>\n",
              "      <td>0.000000</td>\n",
              "      <td>0.000000</td>\n",
              "      <td>0.000000</td>\n",
              "      <td>0.000000</td>\n",
              "      <td>0.000000</td>\n",
              "      <td>0.000000</td>\n",
              "    </tr>\n",
              "    <tr>\n",
              "      <th>75%</th>\n",
              "      <td>18.000000</td>\n",
              "      <td>0.0</td>\n",
              "      <td>0.0</td>\n",
              "      <td>0.0</td>\n",
              "      <td>0.0</td>\n",
              "      <td>0.0</td>\n",
              "      <td>0.0</td>\n",
              "      <td>0.0</td>\n",
              "      <td>0.0</td>\n",
              "      <td>0.0</td>\n",
              "      <td>...</td>\n",
              "      <td>0.000000</td>\n",
              "      <td>0.000000</td>\n",
              "      <td>0.000000</td>\n",
              "      <td>0.000000</td>\n",
              "      <td>0.000000</td>\n",
              "      <td>0.000000</td>\n",
              "      <td>0.000000</td>\n",
              "      <td>0.000000</td>\n",
              "      <td>0.000000</td>\n",
              "      <td>0.000000</td>\n",
              "    </tr>\n",
              "    <tr>\n",
              "      <th>max</th>\n",
              "      <td>25.000000</td>\n",
              "      <td>0.0</td>\n",
              "      <td>0.0</td>\n",
              "      <td>0.0</td>\n",
              "      <td>0.0</td>\n",
              "      <td>0.0</td>\n",
              "      <td>0.0</td>\n",
              "      <td>0.0</td>\n",
              "      <td>0.0</td>\n",
              "      <td>0.0</td>\n",
              "      <td>...</td>\n",
              "      <td>252.000000</td>\n",
              "      <td>226.000000</td>\n",
              "      <td>229.000000</td>\n",
              "      <td>228.000000</td>\n",
              "      <td>235.000000</td>\n",
              "      <td>194.000000</td>\n",
              "      <td>103.000000</td>\n",
              "      <td>198.000000</td>\n",
              "      <td>82.000000</td>\n",
              "      <td>4.000000</td>\n",
              "    </tr>\n",
              "  </tbody>\n",
              "</table>\n",
              "<p>8 rows × 785 columns</p>\n",
              "</div>\n",
              "      <button class=\"colab-df-convert\" onclick=\"convertToInteractive('df-eb685fbd-7bea-4b29-aac9-7fe7a7b51a89')\"\n",
              "              title=\"Convert this dataframe to an interactive table.\"\n",
              "              style=\"display:none;\">\n",
              "        \n",
              "  <svg xmlns=\"http://www.w3.org/2000/svg\" height=\"24px\"viewBox=\"0 0 24 24\"\n",
              "       width=\"24px\">\n",
              "    <path d=\"M0 0h24v24H0V0z\" fill=\"none\"/>\n",
              "    <path d=\"M18.56 5.44l.94 2.06.94-2.06 2.06-.94-2.06-.94-.94-2.06-.94 2.06-2.06.94zm-11 1L8.5 8.5l.94-2.06 2.06-.94-2.06-.94L8.5 2.5l-.94 2.06-2.06.94zm10 10l.94 2.06.94-2.06 2.06-.94-2.06-.94-.94-2.06-.94 2.06-2.06.94z\"/><path d=\"M17.41 7.96l-1.37-1.37c-.4-.4-.92-.59-1.43-.59-.52 0-1.04.2-1.43.59L10.3 9.45l-7.72 7.72c-.78.78-.78 2.05 0 2.83L4 21.41c.39.39.9.59 1.41.59.51 0 1.02-.2 1.41-.59l7.78-7.78 2.81-2.81c.8-.78.8-2.07 0-2.86zM5.41 20L4 18.59l7.72-7.72 1.47 1.35L5.41 20z\"/>\n",
              "  </svg>\n",
              "      </button>\n",
              "      \n",
              "  <style>\n",
              "    .colab-df-container {\n",
              "      display:flex;\n",
              "      flex-wrap:wrap;\n",
              "      gap: 12px;\n",
              "    }\n",
              "\n",
              "    .colab-df-convert {\n",
              "      background-color: #E8F0FE;\n",
              "      border: none;\n",
              "      border-radius: 50%;\n",
              "      cursor: pointer;\n",
              "      display: none;\n",
              "      fill: #1967D2;\n",
              "      height: 32px;\n",
              "      padding: 0 0 0 0;\n",
              "      width: 32px;\n",
              "    }\n",
              "\n",
              "    .colab-df-convert:hover {\n",
              "      background-color: #E2EBFA;\n",
              "      box-shadow: 0px 1px 2px rgba(60, 64, 67, 0.3), 0px 1px 3px 1px rgba(60, 64, 67, 0.15);\n",
              "      fill: #174EA6;\n",
              "    }\n",
              "\n",
              "    [theme=dark] .colab-df-convert {\n",
              "      background-color: #3B4455;\n",
              "      fill: #D2E3FC;\n",
              "    }\n",
              "\n",
              "    [theme=dark] .colab-df-convert:hover {\n",
              "      background-color: #434B5C;\n",
              "      box-shadow: 0px 1px 3px 1px rgba(0, 0, 0, 0.15);\n",
              "      filter: drop-shadow(0px 1px 2px rgba(0, 0, 0, 0.3));\n",
              "      fill: #FFFFFF;\n",
              "    }\n",
              "  </style>\n",
              "\n",
              "      <script>\n",
              "        const buttonEl =\n",
              "          document.querySelector('#df-eb685fbd-7bea-4b29-aac9-7fe7a7b51a89 button.colab-df-convert');\n",
              "        buttonEl.style.display =\n",
              "          google.colab.kernel.accessAllowed ? 'block' : 'none';\n",
              "\n",
              "        async function convertToInteractive(key) {\n",
              "          const element = document.querySelector('#df-eb685fbd-7bea-4b29-aac9-7fe7a7b51a89');\n",
              "          const dataTable =\n",
              "            await google.colab.kernel.invokeFunction('convertToInteractive',\n",
              "                                                     [key], {});\n",
              "          if (!dataTable) return;\n",
              "\n",
              "          const docLinkHtml = 'Like what you see? Visit the ' +\n",
              "            '<a target=\"_blank\" href=https://colab.research.google.com/notebooks/data_table.ipynb>data table notebook</a>'\n",
              "            + ' to learn more about interactive tables.';\n",
              "          element.innerHTML = '';\n",
              "          dataTable['output_type'] = 'display_data';\n",
              "          await google.colab.output.renderOutput(dataTable, element);\n",
              "          const docLink = document.createElement('div');\n",
              "          docLink.innerHTML = docLinkHtml;\n",
              "          element.appendChild(docLink);\n",
              "        }\n",
              "      </script>\n",
              "    </div>\n",
              "  </div>\n",
              "  "
            ]
          },
          "metadata": {},
          "execution_count": 3
        }
      ]
    },
    {
      "cell_type": "markdown",
      "source": [
        "**2.**"
      ],
      "metadata": {
        "id": "FHsBeRJrhNIi"
      }
    },
    {
      "cell_type": "code",
      "source": [
        "labels = pd.DataFrame(columns = ['label'])\n",
        "labels['label'] = df['0']\n",
        "for i in range(len(labels['label'])):\n",
        "    labels['label'][i] = chr(labels['label'][i] + 65)\n",
        "display(labels)"
      ],
      "metadata": {
        "colab": {
          "base_uri": "https://localhost:8080/",
          "height": 424
        },
        "id": "dkgubMYc2kAs",
        "outputId": "92b13c69-32a3-4395-9a9d-d147b70ad811"
      },
      "execution_count": 4,
      "outputs": [
        {
          "output_type": "display_data",
          "data": {
            "text/plain": [
              "       label\n",
              "0          A\n",
              "1          A\n",
              "2          A\n",
              "3          A\n",
              "4          A\n",
              "...      ...\n",
              "372445     Z\n",
              "372446     Z\n",
              "372447     Z\n",
              "372448     Z\n",
              "372449     Z\n",
              "\n",
              "[372450 rows x 1 columns]"
            ],
            "text/html": [
              "\n",
              "  <div id=\"df-0d697cce-e963-4333-b9db-62efa47ddca1\">\n",
              "    <div class=\"colab-df-container\">\n",
              "      <div>\n",
              "<style scoped>\n",
              "    .dataframe tbody tr th:only-of-type {\n",
              "        vertical-align: middle;\n",
              "    }\n",
              "\n",
              "    .dataframe tbody tr th {\n",
              "        vertical-align: top;\n",
              "    }\n",
              "\n",
              "    .dataframe thead th {\n",
              "        text-align: right;\n",
              "    }\n",
              "</style>\n",
              "<table border=\"1\" class=\"dataframe\">\n",
              "  <thead>\n",
              "    <tr style=\"text-align: right;\">\n",
              "      <th></th>\n",
              "      <th>label</th>\n",
              "    </tr>\n",
              "  </thead>\n",
              "  <tbody>\n",
              "    <tr>\n",
              "      <th>0</th>\n",
              "      <td>A</td>\n",
              "    </tr>\n",
              "    <tr>\n",
              "      <th>1</th>\n",
              "      <td>A</td>\n",
              "    </tr>\n",
              "    <tr>\n",
              "      <th>2</th>\n",
              "      <td>A</td>\n",
              "    </tr>\n",
              "    <tr>\n",
              "      <th>3</th>\n",
              "      <td>A</td>\n",
              "    </tr>\n",
              "    <tr>\n",
              "      <th>4</th>\n",
              "      <td>A</td>\n",
              "    </tr>\n",
              "    <tr>\n",
              "      <th>...</th>\n",
              "      <td>...</td>\n",
              "    </tr>\n",
              "    <tr>\n",
              "      <th>372445</th>\n",
              "      <td>Z</td>\n",
              "    </tr>\n",
              "    <tr>\n",
              "      <th>372446</th>\n",
              "      <td>Z</td>\n",
              "    </tr>\n",
              "    <tr>\n",
              "      <th>372447</th>\n",
              "      <td>Z</td>\n",
              "    </tr>\n",
              "    <tr>\n",
              "      <th>372448</th>\n",
              "      <td>Z</td>\n",
              "    </tr>\n",
              "    <tr>\n",
              "      <th>372449</th>\n",
              "      <td>Z</td>\n",
              "    </tr>\n",
              "  </tbody>\n",
              "</table>\n",
              "<p>372450 rows × 1 columns</p>\n",
              "</div>\n",
              "      <button class=\"colab-df-convert\" onclick=\"convertToInteractive('df-0d697cce-e963-4333-b9db-62efa47ddca1')\"\n",
              "              title=\"Convert this dataframe to an interactive table.\"\n",
              "              style=\"display:none;\">\n",
              "        \n",
              "  <svg xmlns=\"http://www.w3.org/2000/svg\" height=\"24px\"viewBox=\"0 0 24 24\"\n",
              "       width=\"24px\">\n",
              "    <path d=\"M0 0h24v24H0V0z\" fill=\"none\"/>\n",
              "    <path d=\"M18.56 5.44l.94 2.06.94-2.06 2.06-.94-2.06-.94-.94-2.06-.94 2.06-2.06.94zm-11 1L8.5 8.5l.94-2.06 2.06-.94-2.06-.94L8.5 2.5l-.94 2.06-2.06.94zm10 10l.94 2.06.94-2.06 2.06-.94-2.06-.94-.94-2.06-.94 2.06-2.06.94z\"/><path d=\"M17.41 7.96l-1.37-1.37c-.4-.4-.92-.59-1.43-.59-.52 0-1.04.2-1.43.59L10.3 9.45l-7.72 7.72c-.78.78-.78 2.05 0 2.83L4 21.41c.39.39.9.59 1.41.59.51 0 1.02-.2 1.41-.59l7.78-7.78 2.81-2.81c.8-.78.8-2.07 0-2.86zM5.41 20L4 18.59l7.72-7.72 1.47 1.35L5.41 20z\"/>\n",
              "  </svg>\n",
              "      </button>\n",
              "      \n",
              "  <style>\n",
              "    .colab-df-container {\n",
              "      display:flex;\n",
              "      flex-wrap:wrap;\n",
              "      gap: 12px;\n",
              "    }\n",
              "\n",
              "    .colab-df-convert {\n",
              "      background-color: #E8F0FE;\n",
              "      border: none;\n",
              "      border-radius: 50%;\n",
              "      cursor: pointer;\n",
              "      display: none;\n",
              "      fill: #1967D2;\n",
              "      height: 32px;\n",
              "      padding: 0 0 0 0;\n",
              "      width: 32px;\n",
              "    }\n",
              "\n",
              "    .colab-df-convert:hover {\n",
              "      background-color: #E2EBFA;\n",
              "      box-shadow: 0px 1px 2px rgba(60, 64, 67, 0.3), 0px 1px 3px 1px rgba(60, 64, 67, 0.15);\n",
              "      fill: #174EA6;\n",
              "    }\n",
              "\n",
              "    [theme=dark] .colab-df-convert {\n",
              "      background-color: #3B4455;\n",
              "      fill: #D2E3FC;\n",
              "    }\n",
              "\n",
              "    [theme=dark] .colab-df-convert:hover {\n",
              "      background-color: #434B5C;\n",
              "      box-shadow: 0px 1px 3px 1px rgba(0, 0, 0, 0.15);\n",
              "      filter: drop-shadow(0px 1px 2px rgba(0, 0, 0, 0.3));\n",
              "      fill: #FFFFFF;\n",
              "    }\n",
              "  </style>\n",
              "\n",
              "      <script>\n",
              "        const buttonEl =\n",
              "          document.querySelector('#df-0d697cce-e963-4333-b9db-62efa47ddca1 button.colab-df-convert');\n",
              "        buttonEl.style.display =\n",
              "          google.colab.kernel.accessAllowed ? 'block' : 'none';\n",
              "\n",
              "        async function convertToInteractive(key) {\n",
              "          const element = document.querySelector('#df-0d697cce-e963-4333-b9db-62efa47ddca1');\n",
              "          const dataTable =\n",
              "            await google.colab.kernel.invokeFunction('convertToInteractive',\n",
              "                                                     [key], {});\n",
              "          if (!dataTable) return;\n",
              "\n",
              "          const docLinkHtml = 'Like what you see? Visit the ' +\n",
              "            '<a target=\"_blank\" href=https://colab.research.google.com/notebooks/data_table.ipynb>data table notebook</a>'\n",
              "            + ' to learn more about interactive tables.';\n",
              "          element.innerHTML = '';\n",
              "          dataTable['output_type'] = 'display_data';\n",
              "          await google.colab.output.renderOutput(dataTable, element);\n",
              "          const docLink = document.createElement('div');\n",
              "          docLink.innerHTML = docLinkHtml;\n",
              "          element.appendChild(docLink);\n",
              "        }\n",
              "      </script>\n",
              "    </div>\n",
              "  </div>\n",
              "  "
            ]
          },
          "metadata": {}
        }
      ]
    },
    {
      "cell_type": "code",
      "source": [
        "df.drop('0', inplace=True, axis=1)\n",
        "df.describe()"
      ],
      "metadata": {
        "colab": {
          "base_uri": "https://localhost:8080/",
          "height": 394
        },
        "id": "nDL6106ozvTT",
        "outputId": "3243a900-a669-4b65-e509-dee315d02fcc"
      },
      "execution_count": 5,
      "outputs": [
        {
          "output_type": "execute_result",
          "data": {
            "text/plain": [
              "            0.1       0.2       0.3       0.4       0.5       0.6       0.7  \\\n",
              "count  372450.0  372450.0  372450.0  372450.0  372450.0  372450.0  372450.0   \n",
              "mean        0.0       0.0       0.0       0.0       0.0       0.0       0.0   \n",
              "std         0.0       0.0       0.0       0.0       0.0       0.0       0.0   \n",
              "min         0.0       0.0       0.0       0.0       0.0       0.0       0.0   \n",
              "25%         0.0       0.0       0.0       0.0       0.0       0.0       0.0   \n",
              "50%         0.0       0.0       0.0       0.0       0.0       0.0       0.0   \n",
              "75%         0.0       0.0       0.0       0.0       0.0       0.0       0.0   \n",
              "max         0.0       0.0       0.0       0.0       0.0       0.0       0.0   \n",
              "\n",
              "            0.8       0.9      0.10  ...          0.639          0.640  \\\n",
              "count  372450.0  372450.0  372450.0  ...  372450.000000  372450.000000   \n",
              "mean        0.0       0.0       0.0  ...       0.001616       0.001592   \n",
              "std         0.0       0.0       0.0  ...       0.490788       0.517297   \n",
              "min         0.0       0.0       0.0  ...       0.000000       0.000000   \n",
              "25%         0.0       0.0       0.0  ...       0.000000       0.000000   \n",
              "50%         0.0       0.0       0.0  ...       0.000000       0.000000   \n",
              "75%         0.0       0.0       0.0  ...       0.000000       0.000000   \n",
              "max         0.0       0.0       0.0  ...     252.000000     226.000000   \n",
              "\n",
              "               0.641          0.642          0.643          0.644  \\\n",
              "count  372450.000000  372450.000000  372450.000000  372450.000000   \n",
              "mean        0.001117       0.000929       0.000685       0.000596   \n",
              "std         0.421332       0.419180       0.385566       0.319820   \n",
              "min         0.000000       0.000000       0.000000       0.000000   \n",
              "25%         0.000000       0.000000       0.000000       0.000000   \n",
              "50%         0.000000       0.000000       0.000000       0.000000   \n",
              "75%         0.000000       0.000000       0.000000       0.000000   \n",
              "max       229.000000     228.000000     235.000000     194.000000   \n",
              "\n",
              "               0.645          0.646          0.647          0.648  \n",
              "count  372450.000000  372450.000000  372450.000000  372450.000000  \n",
              "mean        0.000618       0.000690       0.000239       0.000011  \n",
              "std         0.208942       0.335227       0.134852       0.006554  \n",
              "min         0.000000       0.000000       0.000000       0.000000  \n",
              "25%         0.000000       0.000000       0.000000       0.000000  \n",
              "50%         0.000000       0.000000       0.000000       0.000000  \n",
              "75%         0.000000       0.000000       0.000000       0.000000  \n",
              "max       103.000000     198.000000      82.000000       4.000000  \n",
              "\n",
              "[8 rows x 784 columns]"
            ],
            "text/html": [
              "\n",
              "  <div id=\"df-de7e2471-c46e-491f-be4d-c253b2784ae7\">\n",
              "    <div class=\"colab-df-container\">\n",
              "      <div>\n",
              "<style scoped>\n",
              "    .dataframe tbody tr th:only-of-type {\n",
              "        vertical-align: middle;\n",
              "    }\n",
              "\n",
              "    .dataframe tbody tr th {\n",
              "        vertical-align: top;\n",
              "    }\n",
              "\n",
              "    .dataframe thead th {\n",
              "        text-align: right;\n",
              "    }\n",
              "</style>\n",
              "<table border=\"1\" class=\"dataframe\">\n",
              "  <thead>\n",
              "    <tr style=\"text-align: right;\">\n",
              "      <th></th>\n",
              "      <th>0.1</th>\n",
              "      <th>0.2</th>\n",
              "      <th>0.3</th>\n",
              "      <th>0.4</th>\n",
              "      <th>0.5</th>\n",
              "      <th>0.6</th>\n",
              "      <th>0.7</th>\n",
              "      <th>0.8</th>\n",
              "      <th>0.9</th>\n",
              "      <th>0.10</th>\n",
              "      <th>...</th>\n",
              "      <th>0.639</th>\n",
              "      <th>0.640</th>\n",
              "      <th>0.641</th>\n",
              "      <th>0.642</th>\n",
              "      <th>0.643</th>\n",
              "      <th>0.644</th>\n",
              "      <th>0.645</th>\n",
              "      <th>0.646</th>\n",
              "      <th>0.647</th>\n",
              "      <th>0.648</th>\n",
              "    </tr>\n",
              "  </thead>\n",
              "  <tbody>\n",
              "    <tr>\n",
              "      <th>count</th>\n",
              "      <td>372450.0</td>\n",
              "      <td>372450.0</td>\n",
              "      <td>372450.0</td>\n",
              "      <td>372450.0</td>\n",
              "      <td>372450.0</td>\n",
              "      <td>372450.0</td>\n",
              "      <td>372450.0</td>\n",
              "      <td>372450.0</td>\n",
              "      <td>372450.0</td>\n",
              "      <td>372450.0</td>\n",
              "      <td>...</td>\n",
              "      <td>372450.000000</td>\n",
              "      <td>372450.000000</td>\n",
              "      <td>372450.000000</td>\n",
              "      <td>372450.000000</td>\n",
              "      <td>372450.000000</td>\n",
              "      <td>372450.000000</td>\n",
              "      <td>372450.000000</td>\n",
              "      <td>372450.000000</td>\n",
              "      <td>372450.000000</td>\n",
              "      <td>372450.000000</td>\n",
              "    </tr>\n",
              "    <tr>\n",
              "      <th>mean</th>\n",
              "      <td>0.0</td>\n",
              "      <td>0.0</td>\n",
              "      <td>0.0</td>\n",
              "      <td>0.0</td>\n",
              "      <td>0.0</td>\n",
              "      <td>0.0</td>\n",
              "      <td>0.0</td>\n",
              "      <td>0.0</td>\n",
              "      <td>0.0</td>\n",
              "      <td>0.0</td>\n",
              "      <td>...</td>\n",
              "      <td>0.001616</td>\n",
              "      <td>0.001592</td>\n",
              "      <td>0.001117</td>\n",
              "      <td>0.000929</td>\n",
              "      <td>0.000685</td>\n",
              "      <td>0.000596</td>\n",
              "      <td>0.000618</td>\n",
              "      <td>0.000690</td>\n",
              "      <td>0.000239</td>\n",
              "      <td>0.000011</td>\n",
              "    </tr>\n",
              "    <tr>\n",
              "      <th>std</th>\n",
              "      <td>0.0</td>\n",
              "      <td>0.0</td>\n",
              "      <td>0.0</td>\n",
              "      <td>0.0</td>\n",
              "      <td>0.0</td>\n",
              "      <td>0.0</td>\n",
              "      <td>0.0</td>\n",
              "      <td>0.0</td>\n",
              "      <td>0.0</td>\n",
              "      <td>0.0</td>\n",
              "      <td>...</td>\n",
              "      <td>0.490788</td>\n",
              "      <td>0.517297</td>\n",
              "      <td>0.421332</td>\n",
              "      <td>0.419180</td>\n",
              "      <td>0.385566</td>\n",
              "      <td>0.319820</td>\n",
              "      <td>0.208942</td>\n",
              "      <td>0.335227</td>\n",
              "      <td>0.134852</td>\n",
              "      <td>0.006554</td>\n",
              "    </tr>\n",
              "    <tr>\n",
              "      <th>min</th>\n",
              "      <td>0.0</td>\n",
              "      <td>0.0</td>\n",
              "      <td>0.0</td>\n",
              "      <td>0.0</td>\n",
              "      <td>0.0</td>\n",
              "      <td>0.0</td>\n",
              "      <td>0.0</td>\n",
              "      <td>0.0</td>\n",
              "      <td>0.0</td>\n",
              "      <td>0.0</td>\n",
              "      <td>...</td>\n",
              "      <td>0.000000</td>\n",
              "      <td>0.000000</td>\n",
              "      <td>0.000000</td>\n",
              "      <td>0.000000</td>\n",
              "      <td>0.000000</td>\n",
              "      <td>0.000000</td>\n",
              "      <td>0.000000</td>\n",
              "      <td>0.000000</td>\n",
              "      <td>0.000000</td>\n",
              "      <td>0.000000</td>\n",
              "    </tr>\n",
              "    <tr>\n",
              "      <th>25%</th>\n",
              "      <td>0.0</td>\n",
              "      <td>0.0</td>\n",
              "      <td>0.0</td>\n",
              "      <td>0.0</td>\n",
              "      <td>0.0</td>\n",
              "      <td>0.0</td>\n",
              "      <td>0.0</td>\n",
              "      <td>0.0</td>\n",
              "      <td>0.0</td>\n",
              "      <td>0.0</td>\n",
              "      <td>...</td>\n",
              "      <td>0.000000</td>\n",
              "      <td>0.000000</td>\n",
              "      <td>0.000000</td>\n",
              "      <td>0.000000</td>\n",
              "      <td>0.000000</td>\n",
              "      <td>0.000000</td>\n",
              "      <td>0.000000</td>\n",
              "      <td>0.000000</td>\n",
              "      <td>0.000000</td>\n",
              "      <td>0.000000</td>\n",
              "    </tr>\n",
              "    <tr>\n",
              "      <th>50%</th>\n",
              "      <td>0.0</td>\n",
              "      <td>0.0</td>\n",
              "      <td>0.0</td>\n",
              "      <td>0.0</td>\n",
              "      <td>0.0</td>\n",
              "      <td>0.0</td>\n",
              "      <td>0.0</td>\n",
              "      <td>0.0</td>\n",
              "      <td>0.0</td>\n",
              "      <td>0.0</td>\n",
              "      <td>...</td>\n",
              "      <td>0.000000</td>\n",
              "      <td>0.000000</td>\n",
              "      <td>0.000000</td>\n",
              "      <td>0.000000</td>\n",
              "      <td>0.000000</td>\n",
              "      <td>0.000000</td>\n",
              "      <td>0.000000</td>\n",
              "      <td>0.000000</td>\n",
              "      <td>0.000000</td>\n",
              "      <td>0.000000</td>\n",
              "    </tr>\n",
              "    <tr>\n",
              "      <th>75%</th>\n",
              "      <td>0.0</td>\n",
              "      <td>0.0</td>\n",
              "      <td>0.0</td>\n",
              "      <td>0.0</td>\n",
              "      <td>0.0</td>\n",
              "      <td>0.0</td>\n",
              "      <td>0.0</td>\n",
              "      <td>0.0</td>\n",
              "      <td>0.0</td>\n",
              "      <td>0.0</td>\n",
              "      <td>...</td>\n",
              "      <td>0.000000</td>\n",
              "      <td>0.000000</td>\n",
              "      <td>0.000000</td>\n",
              "      <td>0.000000</td>\n",
              "      <td>0.000000</td>\n",
              "      <td>0.000000</td>\n",
              "      <td>0.000000</td>\n",
              "      <td>0.000000</td>\n",
              "      <td>0.000000</td>\n",
              "      <td>0.000000</td>\n",
              "    </tr>\n",
              "    <tr>\n",
              "      <th>max</th>\n",
              "      <td>0.0</td>\n",
              "      <td>0.0</td>\n",
              "      <td>0.0</td>\n",
              "      <td>0.0</td>\n",
              "      <td>0.0</td>\n",
              "      <td>0.0</td>\n",
              "      <td>0.0</td>\n",
              "      <td>0.0</td>\n",
              "      <td>0.0</td>\n",
              "      <td>0.0</td>\n",
              "      <td>...</td>\n",
              "      <td>252.000000</td>\n",
              "      <td>226.000000</td>\n",
              "      <td>229.000000</td>\n",
              "      <td>228.000000</td>\n",
              "      <td>235.000000</td>\n",
              "      <td>194.000000</td>\n",
              "      <td>103.000000</td>\n",
              "      <td>198.000000</td>\n",
              "      <td>82.000000</td>\n",
              "      <td>4.000000</td>\n",
              "    </tr>\n",
              "  </tbody>\n",
              "</table>\n",
              "<p>8 rows × 784 columns</p>\n",
              "</div>\n",
              "      <button class=\"colab-df-convert\" onclick=\"convertToInteractive('df-de7e2471-c46e-491f-be4d-c253b2784ae7')\"\n",
              "              title=\"Convert this dataframe to an interactive table.\"\n",
              "              style=\"display:none;\">\n",
              "        \n",
              "  <svg xmlns=\"http://www.w3.org/2000/svg\" height=\"24px\"viewBox=\"0 0 24 24\"\n",
              "       width=\"24px\">\n",
              "    <path d=\"M0 0h24v24H0V0z\" fill=\"none\"/>\n",
              "    <path d=\"M18.56 5.44l.94 2.06.94-2.06 2.06-.94-2.06-.94-.94-2.06-.94 2.06-2.06.94zm-11 1L8.5 8.5l.94-2.06 2.06-.94-2.06-.94L8.5 2.5l-.94 2.06-2.06.94zm10 10l.94 2.06.94-2.06 2.06-.94-2.06-.94-.94-2.06-.94 2.06-2.06.94z\"/><path d=\"M17.41 7.96l-1.37-1.37c-.4-.4-.92-.59-1.43-.59-.52 0-1.04.2-1.43.59L10.3 9.45l-7.72 7.72c-.78.78-.78 2.05 0 2.83L4 21.41c.39.39.9.59 1.41.59.51 0 1.02-.2 1.41-.59l7.78-7.78 2.81-2.81c.8-.78.8-2.07 0-2.86zM5.41 20L4 18.59l7.72-7.72 1.47 1.35L5.41 20z\"/>\n",
              "  </svg>\n",
              "      </button>\n",
              "      \n",
              "  <style>\n",
              "    .colab-df-container {\n",
              "      display:flex;\n",
              "      flex-wrap:wrap;\n",
              "      gap: 12px;\n",
              "    }\n",
              "\n",
              "    .colab-df-convert {\n",
              "      background-color: #E8F0FE;\n",
              "      border: none;\n",
              "      border-radius: 50%;\n",
              "      cursor: pointer;\n",
              "      display: none;\n",
              "      fill: #1967D2;\n",
              "      height: 32px;\n",
              "      padding: 0 0 0 0;\n",
              "      width: 32px;\n",
              "    }\n",
              "\n",
              "    .colab-df-convert:hover {\n",
              "      background-color: #E2EBFA;\n",
              "      box-shadow: 0px 1px 2px rgba(60, 64, 67, 0.3), 0px 1px 3px 1px rgba(60, 64, 67, 0.15);\n",
              "      fill: #174EA6;\n",
              "    }\n",
              "\n",
              "    [theme=dark] .colab-df-convert {\n",
              "      background-color: #3B4455;\n",
              "      fill: #D2E3FC;\n",
              "    }\n",
              "\n",
              "    [theme=dark] .colab-df-convert:hover {\n",
              "      background-color: #434B5C;\n",
              "      box-shadow: 0px 1px 3px 1px rgba(0, 0, 0, 0.15);\n",
              "      filter: drop-shadow(0px 1px 2px rgba(0, 0, 0, 0.3));\n",
              "      fill: #FFFFFF;\n",
              "    }\n",
              "  </style>\n",
              "\n",
              "      <script>\n",
              "        const buttonEl =\n",
              "          document.querySelector('#df-de7e2471-c46e-491f-be4d-c253b2784ae7 button.colab-df-convert');\n",
              "        buttonEl.style.display =\n",
              "          google.colab.kernel.accessAllowed ? 'block' : 'none';\n",
              "\n",
              "        async function convertToInteractive(key) {\n",
              "          const element = document.querySelector('#df-de7e2471-c46e-491f-be4d-c253b2784ae7');\n",
              "          const dataTable =\n",
              "            await google.colab.kernel.invokeFunction('convertToInteractive',\n",
              "                                                     [key], {});\n",
              "          if (!dataTable) return;\n",
              "\n",
              "          const docLinkHtml = 'Like what you see? Visit the ' +\n",
              "            '<a target=\"_blank\" href=https://colab.research.google.com/notebooks/data_table.ipynb>data table notebook</a>'\n",
              "            + ' to learn more about interactive tables.';\n",
              "          element.innerHTML = '';\n",
              "          dataTable['output_type'] = 'display_data';\n",
              "          await google.colab.output.renderOutput(dataTable, element);\n",
              "          const docLink = document.createElement('div');\n",
              "          docLink.innerHTML = docLinkHtml;\n",
              "          element.appendChild(docLink);\n",
              "        }\n",
              "      </script>\n",
              "    </div>\n",
              "  </div>\n",
              "  "
            ]
          },
          "metadata": {},
          "execution_count": 5
        }
      ]
    },
    {
      "cell_type": "markdown",
      "source": [
        "**3.**"
      ],
      "metadata": {
        "id": "AIroaH58ewKb"
      }
    },
    {
      "cell_type": "code",
      "source": [
        "reshaped_data = pd.DataFrame(columns=['image'])\n",
        "img = []\n",
        "for index in range(0, df.shape[0]):\n",
        "    array = np.array(df.iloc[index], dtype=np.uint8)\n",
        "    array = np.reshape(array, (28, 28))\n",
        "    img.append(array)\n",
        "\n",
        "reshaped_data['image'] = img"
      ],
      "metadata": {
        "id": "ySEDSvmgev7X"
      },
      "execution_count": 7,
      "outputs": []
    },
    {
      "cell_type": "code",
      "source": [
        "reshaped_data.head()"
      ],
      "metadata": {
        "colab": {
          "base_uri": "https://localhost:8080/",
          "height": 206
        },
        "id": "wCKqMYhfgWX4",
        "outputId": "53d18cb5-2b3b-4b85-aee2-b5a5c9fe160c"
      },
      "execution_count": 8,
      "outputs": [
        {
          "output_type": "execute_result",
          "data": {
            "text/plain": [
              "                                               image\n",
              "0  [[0, 0, 0, 0, 0, 0, 0, 0, 0, 0, 0, 0, 0, 0, 0,...\n",
              "1  [[0, 0, 0, 0, 0, 0, 0, 0, 0, 0, 0, 0, 0, 0, 0,...\n",
              "2  [[0, 0, 0, 0, 0, 0, 0, 0, 0, 0, 0, 0, 0, 0, 0,...\n",
              "3  [[0, 0, 0, 0, 0, 0, 0, 0, 0, 0, 0, 0, 0, 0, 0,...\n",
              "4  [[0, 0, 0, 0, 0, 0, 0, 0, 0, 0, 0, 0, 0, 0, 0,..."
            ],
            "text/html": [
              "\n",
              "  <div id=\"df-cdb6ee05-37d4-4858-bd48-2857d1331da0\">\n",
              "    <div class=\"colab-df-container\">\n",
              "      <div>\n",
              "<style scoped>\n",
              "    .dataframe tbody tr th:only-of-type {\n",
              "        vertical-align: middle;\n",
              "    }\n",
              "\n",
              "    .dataframe tbody tr th {\n",
              "        vertical-align: top;\n",
              "    }\n",
              "\n",
              "    .dataframe thead th {\n",
              "        text-align: right;\n",
              "    }\n",
              "</style>\n",
              "<table border=\"1\" class=\"dataframe\">\n",
              "  <thead>\n",
              "    <tr style=\"text-align: right;\">\n",
              "      <th></th>\n",
              "      <th>image</th>\n",
              "    </tr>\n",
              "  </thead>\n",
              "  <tbody>\n",
              "    <tr>\n",
              "      <th>0</th>\n",
              "      <td>[[0, 0, 0, 0, 0, 0, 0, 0, 0, 0, 0, 0, 0, 0, 0,...</td>\n",
              "    </tr>\n",
              "    <tr>\n",
              "      <th>1</th>\n",
              "      <td>[[0, 0, 0, 0, 0, 0, 0, 0, 0, 0, 0, 0, 0, 0, 0,...</td>\n",
              "    </tr>\n",
              "    <tr>\n",
              "      <th>2</th>\n",
              "      <td>[[0, 0, 0, 0, 0, 0, 0, 0, 0, 0, 0, 0, 0, 0, 0,...</td>\n",
              "    </tr>\n",
              "    <tr>\n",
              "      <th>3</th>\n",
              "      <td>[[0, 0, 0, 0, 0, 0, 0, 0, 0, 0, 0, 0, 0, 0, 0,...</td>\n",
              "    </tr>\n",
              "    <tr>\n",
              "      <th>4</th>\n",
              "      <td>[[0, 0, 0, 0, 0, 0, 0, 0, 0, 0, 0, 0, 0, 0, 0,...</td>\n",
              "    </tr>\n",
              "  </tbody>\n",
              "</table>\n",
              "</div>\n",
              "      <button class=\"colab-df-convert\" onclick=\"convertToInteractive('df-cdb6ee05-37d4-4858-bd48-2857d1331da0')\"\n",
              "              title=\"Convert this dataframe to an interactive table.\"\n",
              "              style=\"display:none;\">\n",
              "        \n",
              "  <svg xmlns=\"http://www.w3.org/2000/svg\" height=\"24px\"viewBox=\"0 0 24 24\"\n",
              "       width=\"24px\">\n",
              "    <path d=\"M0 0h24v24H0V0z\" fill=\"none\"/>\n",
              "    <path d=\"M18.56 5.44l.94 2.06.94-2.06 2.06-.94-2.06-.94-.94-2.06-.94 2.06-2.06.94zm-11 1L8.5 8.5l.94-2.06 2.06-.94-2.06-.94L8.5 2.5l-.94 2.06-2.06.94zm10 10l.94 2.06.94-2.06 2.06-.94-2.06-.94-.94-2.06-.94 2.06-2.06.94z\"/><path d=\"M17.41 7.96l-1.37-1.37c-.4-.4-.92-.59-1.43-.59-.52 0-1.04.2-1.43.59L10.3 9.45l-7.72 7.72c-.78.78-.78 2.05 0 2.83L4 21.41c.39.39.9.59 1.41.59.51 0 1.02-.2 1.41-.59l7.78-7.78 2.81-2.81c.8-.78.8-2.07 0-2.86zM5.41 20L4 18.59l7.72-7.72 1.47 1.35L5.41 20z\"/>\n",
              "  </svg>\n",
              "      </button>\n",
              "      \n",
              "  <style>\n",
              "    .colab-df-container {\n",
              "      display:flex;\n",
              "      flex-wrap:wrap;\n",
              "      gap: 12px;\n",
              "    }\n",
              "\n",
              "    .colab-df-convert {\n",
              "      background-color: #E8F0FE;\n",
              "      border: none;\n",
              "      border-radius: 50%;\n",
              "      cursor: pointer;\n",
              "      display: none;\n",
              "      fill: #1967D2;\n",
              "      height: 32px;\n",
              "      padding: 0 0 0 0;\n",
              "      width: 32px;\n",
              "    }\n",
              "\n",
              "    .colab-df-convert:hover {\n",
              "      background-color: #E2EBFA;\n",
              "      box-shadow: 0px 1px 2px rgba(60, 64, 67, 0.3), 0px 1px 3px 1px rgba(60, 64, 67, 0.15);\n",
              "      fill: #174EA6;\n",
              "    }\n",
              "\n",
              "    [theme=dark] .colab-df-convert {\n",
              "      background-color: #3B4455;\n",
              "      fill: #D2E3FC;\n",
              "    }\n",
              "\n",
              "    [theme=dark] .colab-df-convert:hover {\n",
              "      background-color: #434B5C;\n",
              "      box-shadow: 0px 1px 3px 1px rgba(0, 0, 0, 0.15);\n",
              "      filter: drop-shadow(0px 1px 2px rgba(0, 0, 0, 0.3));\n",
              "      fill: #FFFFFF;\n",
              "    }\n",
              "  </style>\n",
              "\n",
              "      <script>\n",
              "        const buttonEl =\n",
              "          document.querySelector('#df-cdb6ee05-37d4-4858-bd48-2857d1331da0 button.colab-df-convert');\n",
              "        buttonEl.style.display =\n",
              "          google.colab.kernel.accessAllowed ? 'block' : 'none';\n",
              "\n",
              "        async function convertToInteractive(key) {\n",
              "          const element = document.querySelector('#df-cdb6ee05-37d4-4858-bd48-2857d1331da0');\n",
              "          const dataTable =\n",
              "            await google.colab.kernel.invokeFunction('convertToInteractive',\n",
              "                                                     [key], {});\n",
              "          if (!dataTable) return;\n",
              "\n",
              "          const docLinkHtml = 'Like what you see? Visit the ' +\n",
              "            '<a target=\"_blank\" href=https://colab.research.google.com/notebooks/data_table.ipynb>data table notebook</a>'\n",
              "            + ' to learn more about interactive tables.';\n",
              "          element.innerHTML = '';\n",
              "          dataTable['output_type'] = 'display_data';\n",
              "          await google.colab.output.renderOutput(dataTable, element);\n",
              "          const docLink = document.createElement('div');\n",
              "          docLink.innerHTML = docLinkHtml;\n",
              "          element.appendChild(docLink);\n",
              "        }\n",
              "      </script>\n",
              "    </div>\n",
              "  </div>\n",
              "  "
            ]
          },
          "metadata": {},
          "execution_count": 8
        }
      ]
    },
    {
      "cell_type": "markdown",
      "source": [
        "**4.**"
      ],
      "metadata": {
        "id": "k_sJ9jjk96Yg"
      }
    },
    {
      "cell_type": "code",
      "source": [
        "print(\"Number of images in data:\", df.shape[0])\n",
        "print(\"Number of classes:\", labels['label'].nunique())"
      ],
      "metadata": {
        "colab": {
          "base_uri": "https://localhost:8080/"
        },
        "id": "h18Hsisg7Ztc",
        "outputId": "06428a5d-2988-4040-f1fb-adb9029fcf4c"
      },
      "execution_count": 9,
      "outputs": [
        {
          "output_type": "stream",
          "name": "stdout",
          "text": [
            "Number of images in data: 372450\n",
            "Number of classes: 26\n"
          ]
        }
      ]
    },
    {
      "cell_type": "markdown",
      "source": [
        " **5.**"
      ],
      "metadata": {
        "id": "TdaFUfHJ-ysL"
      }
    },
    {
      "cell_type": "code",
      "source": [
        "print(\"Number of images in each class: \")\n",
        "print(labels['label'].value_counts(sort = False))\n",
        "\n",
        "count_train = labels['label'].value_counts(sort=True)\n",
        "count_train.plot.bar()\n",
        "plt.xticks(rotation=0, ha='right')\n",
        "plt.show()"
      ],
      "metadata": {
        "colab": {
          "base_uri": "https://localhost:8080/",
          "height": 753
        },
        "id": "qTkvYa7S-32D",
        "outputId": "912cd616-6a15-4acc-d64d-99ccd4986eee"
      },
      "execution_count": 10,
      "outputs": [
        {
          "output_type": "stream",
          "name": "stdout",
          "text": [
            "Number of images in each class: \n",
            "A    13869\n",
            "B     8668\n",
            "C    23409\n",
            "D    10134\n",
            "E    11440\n",
            "F     1163\n",
            "G     5762\n",
            "H     7218\n",
            "I     1120\n",
            "J     8493\n",
            "K     5603\n",
            "L    11586\n",
            "M    12336\n",
            "N    19010\n",
            "O    57825\n",
            "P    19341\n",
            "Q     5812\n",
            "R    11566\n",
            "S    48419\n",
            "T    22495\n",
            "U    29008\n",
            "V     4182\n",
            "W    10784\n",
            "X     6272\n",
            "Y    10859\n",
            "Z     6076\n",
            "Name: label, dtype: int64\n"
          ]
        },
        {
          "output_type": "display_data",
          "data": {
            "text/plain": [
              "<Figure size 432x288 with 1 Axes>"
            ],
            "image/png": "[encoded data removed]"
          },
          "metadata": {
            "needs_background": "light"
          }
        }
      ]
    },
    {
      "cell_type": "markdown",
      "source": [
        "**6.**"
      ],
      "metadata": {
        "id": "rHSaLTxBSNIp"
      }
    },
    {
      "cell_type": "code",
      "source": [
        "letters = sorted(labels['label'].unique())\n",
        "\n",
        "for char in letters:\n",
        "    print('Image of class', char)\n",
        "    index = labels['label'].loc[lambda x: x==char].index\n",
        "    plt.imshow(reshaped_data['image'].iloc[index[0]])\n",
        "    plt.show()"
      ],
      "metadata": {
        "id": "sDBNNkKcAt26",
        "colab": {
          "base_uri": "https://localhost:8080/",
          "height": 1000
        },
        "outputId": "4c9ef2e3-b041-4d01-d8cf-4982ea4d5746"
      },
      "execution_count": 12,
      "outputs": [
        {
          "output_type": "stream",
          "name": "stdout",
          "text": [
            "Image of class A\n"
          ]
        },
        {
          "output_type": "display_data",
          "data": {
            "text/plain": [
              "<Figure size 432x288 with 1 Axes>"
            ],
            "image/png": "[encoded data removed]"
          },
          "metadata": {
            "needs_background": "light"
          }
        },
        {
          "output_type": "stream",
          "name": "stdout",
          "text": [
            "Image of class B\n"
          ]
        },
        {
          "output_type": "display_data",
          "data": {
            "text/plain": [
              "<Figure size 432x288 with 1 Axes>"
            ],
            "image/png": "[encoded data removed]"
          },
          "metadata": {
            "needs_background": "light"
          }
        },
        {
          "output_type": "stream",
          "name": "stdout",
          "text": [
            "Image of class C\n"
          ]
        },
        {
          "output_type": "display_data",
          "data": {
            "text/plain": [
              "<Figure size 432x288 with 1 Axes>"
            ],
            "image/png": "[encoded data removed]"
          },
          "metadata": {
            "needs_background": "light"
          }
        },
        {
          "output_type": "stream",
          "name": "stdout",
          "text": [
            "Image of class D\n"
          ]
        },
        {
          "output_type": "display_data",
          "data": {
            "text/plain": [
              "<Figure size 432x288 with 1 Axes>"
            ],
            "image/png": "[encoded data removed]"
          },
          "metadata": {
            "needs_background": "light"
          }
        },
        {
          "output_type": "stream",
          "name": "stdout",
          "text": [
            "Image of class E\n"
          ]
        },
        {
          "output_type": "display_data",
          "data": {
            "text/plain": [
              "<Figure size 432x288 with 1 Axes>"
            ],
            "image/png": "[encoded data removed]"
          },
          "metadata": {
            "needs_background": "light"
          }
        },
        {
          "output_type": "stream",
          "name": "stdout",
          "text": [
            "Image of class F\n"
          ]
        },
        {
          "output_type": "display_data",
          "data": {
            "text/plain": [
              "<Figure size 432x288 with 1 Axes>"
            ],
            "image/png": "[encoded data removed]"
          },
          "metadata": {
            "needs_background": "light"
          }
        },
        {
          "output_type": "stream",
          "name": "stdout",
          "text": [
            "Image of class G\n"
          ]
        },
        {
          "output_type": "display_data",
          "data": {
            "text/plain": [
              "<Figure size 432x288 with 1 Axes>"
            ],
            "image/png": "[encoded data removed]"
          },
          "metadata": {
            "needs_background": "light"
          }
        },
        {
          "output_type": "stream",
          "name": "stdout",
          "text": [
            "Image of class H\n"
          ]
        },
        {
          "output_type": "display_data",
          "data": {
            "text/plain": [
              "<Figure size 432x288 with 1 Axes>"
            ],
            "image/png": "[encoded data removed]"
          },
          "metadata": {
            "needs_background": "light"
          }
        },
        {
          "output_type": "stream",
          "name": "stdout",
          "text": [
            "Image of class I\n"
          ]
        },
        {
          "output_type": "display_data",
          "data": {
            "text/plain": [
              "<Figure size 432x288 with 1 Axes>"
            ],
            "image/png": "[encoded data removed]"
          },
          "metadata": {
            "needs_background": "light"
          }
        },
        {
          "output_type": "stream",
          "name": "stdout",
          "text": [
            "Image of class J\n"
          ]
        },
        {
          "output_type": "display_data",
          "data": {
            "text/plain": [
              "<Figure size 432x288 with 1 Axes>"
            ],
            "image/png": "[encoded data removed]"
          },
          "metadata": {
            "needs_background": "light"
          }
        },
        {
          "output_type": "stream",
          "name": "stdout",
          "text": [
            "Image of class K\n"
          ]
        },
        {
          "output_type": "display_data",
          "data": {
            "text/plain": [
              "<Figure size 432x288 with 1 Axes>"
            ],
            "image/png": "[encoded data removed]"
          },
          "metadata": {
            "needs_background": "light"
          }
        },
        {
          "output_type": "stream",
          "name": "stdout",
          "text": [
            "Image of class L\n"
          ]
        },
        {
          "output_type": "display_data",
          "data": {
            "text/plain": [
              "<Figure size 432x288 with 1 Axes>"
            ],
            "image/png": "[encoded data removed]"
          },
          "metadata": {
            "needs_background": "light"
          }
        },
        {
          "output_type": "stream",
          "name": "stdout",
          "text": [
            "Image of class M\n"
          ]
        },
        {
          "output_type": "display_data",
          "data": {
            "text/plain": [
              "<Figure size 432x288 with 1 Axes>"
            ],
            "image/png": "[encoded data removed]"
          },
          "metadata": {
            "needs_background": "light"
          }
        },
        {
          "output_type": "stream",
          "name": "stdout",
          "text": [
            "Image of class N\n"
          ]
        },
        {
          "output_type": "display_data",
          "data": {
            "text/plain": [
              "<Figure size 432x288 with 1 Axes>"
            ],
            "image/png": "[encoded data removed]"
          },
          "metadata": {
            "needs_background": "light"
          }
        },
        {
          "output_type": "stream",
          "name": "stdout",
          "text": [
            "Image of class O\n"
          ]
        },
        {
          "output_type": "display_data",
          "data": {
            "text/plain": [
              "<Figure size 432x288 with 1 Axes>"
            ],
            "image/png": "[encoded data removed]"
          },
          "metadata": {
            "needs_background": "light"
          }
        },
        {
          "output_type": "stream",
          "name": "stdout",
          "text": [
            "Image of class P\n"
          ]
        },
        {
          "output_type": "display_data",
          "data": {
            "text/plain": [
              "<Figure size 432x288 with 1 Axes>"
            ],
            "image/png": "[encoded data removed]"
          },
          "metadata": {
            "needs_background": "light"
          }
        },
        {
          "output_type": "stream",
          "name": "stdout",
          "text": [
            "Image of class Q\n"
          ]
        },
        {
          "output_type": "display_data",
          "data": {
            "text/plain": [
              "<Figure size 432x288 with 1 Axes>"
            ],
            "image/png": "[encoded data removed]"
          },
          "metadata": {
            "needs_background": "light"
          }
        },
        {
          "output_type": "stream",
          "name": "stdout",
          "text": [
            "Image of class R\n"
          ]
        },
        {
          "output_type": "display_data",
          "data": {
            "text/plain": [
              "<Figure size 432x288 with 1 Axes>"
            ],
            "image/png": "[encoded data removed]"
          },
          "metadata": {
            "needs_background": "light"
          }
        },
        {
          "output_type": "stream",
          "name": "stdout",
          "text": [
            "Image of class S\n"
          ]
        },
        {
          "output_type": "display_data",
          "data": {
            "text/plain": [
              "<Figure size 432x288 with 1 Axes>"
            ],
            "image/png": "[encoded data removed]"
          },
          "metadata": {
            "needs_background": "light"
          }
        },
        {
          "output_type": "stream",
          "name": "stdout",
          "text": [
            "Image of class T\n"
          ]
        },
        {
          "output_type": "display_data",
          "data": {
            "text/plain": [
              "<Figure size 432x288 with 1 Axes>"
            ],
            "image/png": "[encoded data removed]"
          },
          "metadata": {
            "needs_background": "light"
          }
        },
        {
          "output_type": "stream",
          "name": "stdout",
          "text": [
            "Image of class U\n"
          ]
        },
        {
          "output_type": "display_data",
          "data": {
            "text/plain": [
              "<Figure size 432x288 with 1 Axes>"
            ],
            "image/png": "[encoded data removed]"
          },
          "metadata": {
            "needs_background": "light"
          }
        },
        {
          "output_type": "stream",
          "name": "stdout",
          "text": [
            "Image of class V\n"
          ]
        },
        {
          "output_type": "display_data",
          "data": {
            "text/plain": [
              "<Figure size 432x288 with 1 Axes>"
            ],
            "image/png": "[encoded data removed]"
          },
          "metadata": {
            "needs_background": "light"
          }
        },
        {
          "output_type": "stream",
          "name": "stdout",
          "text": [
            "Image of class W\n"
          ]
        },
        {
          "output_type": "display_data",
          "data": {
            "text/plain": [
              "<Figure size 432x288 with 1 Axes>"
            ],
            "image/png": "[encoded data removed]"
          },
          "metadata": {
            "needs_background": "light"
          }
        },
        {
          "output_type": "stream",
          "name": "stdout",
          "text": [
            "Image of class X\n"
          ]
        },
        {
          "output_type": "display_data",
          "data": {
            "text/plain": [
              "<Figure size 432x288 with 1 Axes>"
            ],
            "image/png": "[encoded data removed]"
          },
          "metadata": {
            "needs_background": "light"
          }
        },
        {
          "output_type": "stream",
          "name": "stdout",
          "text": [
            "Image of class Y\n"
          ]
        },
        {
          "output_type": "display_data",
          "data": {
            "text/plain": [
              "<Figure size 432x288 with 1 Axes>"
            ],
            "image/png": "[encoded data removed]"
          },
          "metadata": {
            "needs_background": "light"
          }
        },
        {
          "output_type": "stream",
          "name": "stdout",
          "text": [
            "Image of class Z\n"
          ]
        },
        {
          "output_type": "display_data",
          "data": {
            "text/plain": [
              "<Figure size 432x288 with 1 Axes>"
            ],
            "image/png": "[encoded data removed]"
          },
          "metadata": {
            "needs_background": "light"
          }
        }
      ]
    },
    {
      "cell_type": "code",
      "source": [
        "onehot_labels = pd.get_dummies(labels)"
      ],
      "metadata": {
        "id": "tkhHMi7OhvUa"
      },
      "execution_count": 6,
      "outputs": []
    },
    {
      "cell_type": "markdown",
      "source": [
        "**7.**"
      ],
      "metadata": {
        "id": "8EfIDcrmicDv"
      }
    },
    {
      "cell_type": "code",
      "source": [
        "x_train, x_test, y_train, y_test = train_test_split(df, onehot_labels, test_size=0.2, random_state=42)\n",
        "\n",
        "display(x_train)\n",
        "display(y_train)\n",
        "display(x_test)\n",
        "display(y_test)"
      ],
      "metadata": {
        "colab": {
          "base_uri": "https://localhost:8080/",
          "height": 1000
        },
        "id": "0BLWITydxjc3",
        "outputId": "56453af4-707a-4743-c5f0-456ddd0569b3"
      },
      "execution_count": 7,
      "outputs": [
        {
          "output_type": "display_data",
          "data": {
            "text/plain": [
              "        0.1  0.2  0.3  0.4  0.5  0.6  0.7  0.8  0.9  0.10  ...  0.639  0.640  \\\n",
              "20675     0    0    0    0    0    0    0    0    0     0  ...      0      0   \n",
              "234698    0    0    0    0    0    0    0    0    0     0  ...      0      0   \n",
              "21507     0    0    0    0    0    0    0    0    0     0  ...      0      0   \n",
              "270540    0    0    0    0    0    0    0    0    0     0  ...      0      0   \n",
              "248793    0    0    0    0    0    0    0    0    0     0  ...      0      0   \n",
              "...     ...  ...  ...  ...  ...  ...  ...  ...  ...   ...  ...    ...    ...   \n",
              "259178    0    0    0    0    0    0    0    0    0     0  ...      0      0   \n",
              "365838    0    0    0    0    0    0    0    0    0     0  ...      0      0   \n",
              "131932    0    0    0    0    0    0    0    0    0     0  ...      0      0   \n",
              "146867    0    0    0    0    0    0    0    0    0     0  ...      0      0   \n",
              "121958    0    0    0    0    0    0    0    0    0     0  ...      0      0   \n",
              "\n",
              "        0.641  0.642  0.643  0.644  0.645  0.646  0.647  0.648  \n",
              "20675       0      0      0      0      0      0      0      0  \n",
              "234698      0      0      0      0      0      0      0      0  \n",
              "21507       0      0      0      0      0      0      0      0  \n",
              "270540      0      0      0      0      0      0      0      0  \n",
              "248793      0      0      0      0      0      0      0      0  \n",
              "...       ...    ...    ...    ...    ...    ...    ...    ...  \n",
              "259178      0      0      0      0      0      0      0      0  \n",
              "365838      0      0      0      0      0      0      0      0  \n",
              "131932      0      0      0      0      0      0      0      0  \n",
              "146867      0      0      0      0      0      0      0      0  \n",
              "121958      0      0      0      0      0      0      0      0  \n",
              "\n",
              "[297960 rows x 784 columns]"
            ],
            "text/html": [
              "\n",
              "  <div id=\"df-16e772c3-b1d5-489b-bc43-fd96f84e2e62\">\n",
              "    <div class=\"colab-df-container\">\n",
              "      <div>\n",
              "<style scoped>\n",
              "    .dataframe tbody tr th:only-of-type {\n",
              "        vertical-align: middle;\n",
              "    }\n",
              "\n",
              "    .dataframe tbody tr th {\n",
              "        vertical-align: top;\n",
              "    }\n",
              "\n",
              "    .dataframe thead th {\n",
              "        text-align: right;\n",
              "    }\n",
              "</style>\n",
              "<table border=\"1\" class=\"dataframe\">\n",
              "  <thead>\n",
              "    <tr style=\"text-align: right;\">\n",
              "      <th></th>\n",
              "      <th>0.1</th>\n",
              "      <th>0.2</th>\n",
              "      <th>0.3</th>\n",
              "      <th>0.4</th>\n",
              "      <th>0.5</th>\n",
              "      <th>0.6</th>\n",
              "      <th>0.7</th>\n",
              "      <th>0.8</th>\n",
              "      <th>0.9</th>\n",
              "      <th>0.10</th>\n",
              "      <th>...</th>\n",
              "      <th>0.639</th>\n",
              "      <th>0.640</th>\n",
              "      <th>0.641</th>\n",
              "      <th>0.642</th>\n",
              "      <th>0.643</th>\n",
              "      <th>0.644</th>\n",
              "      <th>0.645</th>\n",
              "      <th>0.646</th>\n",
              "      <th>0.647</th>\n",
              "      <th>0.648</th>\n",
              "    </tr>\n",
              "  </thead>\n",
              "  <tbody>\n",
              "    <tr>\n",
              "      <th>20675</th>\n",
              "      <td>0</td>\n",
              "      <td>0</td>\n",
              "      <td>0</td>\n",
              "      <td>0</td>\n",
              "      <td>0</td>\n",
              "      <td>0</td>\n",
              "      <td>0</td>\n",
              "      <td>0</td>\n",
              "      <td>0</td>\n",
              "      <td>0</td>\n",
              "      <td>...</td>\n",
              "      <td>0</td>\n",
              "      <td>0</td>\n",
              "      <td>0</td>\n",
              "      <td>0</td>\n",
              "      <td>0</td>\n",
              "      <td>0</td>\n",
              "      <td>0</td>\n",
              "      <td>0</td>\n",
              "      <td>0</td>\n",
              "      <td>0</td>\n",
              "    </tr>\n",
              "    <tr>\n",
              "      <th>234698</th>\n",
              "      <td>0</td>\n",
              "      <td>0</td>\n",
              "      <td>0</td>\n",
              "      <td>0</td>\n",
              "      <td>0</td>\n",
              "      <td>0</td>\n",
              "      <td>0</td>\n",
              "      <td>0</td>\n",
              "      <td>0</td>\n",
              "      <td>0</td>\n",
              "      <td>...</td>\n",
              "      <td>0</td>\n",
              "      <td>0</td>\n",
              "      <td>0</td>\n",
              "      <td>0</td>\n",
              "      <td>0</td>\n",
              "      <td>0</td>\n",
              "      <td>0</td>\n",
              "      <td>0</td>\n",
              "      <td>0</td>\n",
              "      <td>0</td>\n",
              "    </tr>\n",
              "    <tr>\n",
              "      <th>21507</th>\n",
              "      <td>0</td>\n",
              "      <td>0</td>\n",
              "      <td>0</td>\n",
              "      <td>0</td>\n",
              "      <td>0</td>\n",
              "      <td>0</td>\n",
              "      <td>0</td>\n",
              "      <td>0</td>\n",
              "      <td>0</td>\n",
              "      <td>0</td>\n",
              "      <td>...</td>\n",
              "      <td>0</td>\n",
              "      <td>0</td>\n",
              "      <td>0</td>\n",
              "      <td>0</td>\n",
              "      <td>0</td>\n",
              "      <td>0</td>\n",
              "      <td>0</td>\n",
              "      <td>0</td>\n",
              "      <td>0</td>\n",
              "      <td>0</td>\n",
              "    </tr>\n",
              "    <tr>\n",
              "      <th>270540</th>\n",
              "      <td>0</td>\n",
              "      <td>0</td>\n",
              "      <td>0</td>\n",
              "      <td>0</td>\n",
              "      <td>0</td>\n",
              "      <td>0</td>\n",
              "      <td>0</td>\n",
              "      <td>0</td>\n",
              "      <td>0</td>\n",
              "      <td>0</td>\n",
              "      <td>...</td>\n",
              "      <td>0</td>\n",
              "      <td>0</td>\n",
              "      <td>0</td>\n",
              "      <td>0</td>\n",
              "      <td>0</td>\n",
              "      <td>0</td>\n",
              "      <td>0</td>\n",
              "      <td>0</td>\n",
              "      <td>0</td>\n",
              "      <td>0</td>\n",
              "    </tr>\n",
              "    <tr>\n",
              "      <th>248793</th>\n",
              "      <td>0</td>\n",
              "      <td>0</td>\n",
              "      <td>0</td>\n",
              "      <td>0</td>\n",
              "      <td>0</td>\n",
              "      <td>0</td>\n",
              "      <td>0</td>\n",
              "      <td>0</td>\n",
              "      <td>0</td>\n",
              "      <td>0</td>\n",
              "      <td>...</td>\n",
              "      <td>0</td>\n",
              "      <td>0</td>\n",
              "      <td>0</td>\n",
              "      <td>0</td>\n",
              "      <td>0</td>\n",
              "      <td>0</td>\n",
              "      <td>0</td>\n",
              "      <td>0</td>\n",
              "      <td>0</td>\n",
              "      <td>0</td>\n",
              "    </tr>\n",
              "    <tr>\n",
              "      <th>...</th>\n",
              "      <td>...</td>\n",
              "      <td>...</td>\n",
              "      <td>...</td>\n",
              "      <td>...</td>\n",
              "      <td>...</td>\n",
              "      <td>...</td>\n",
              "      <td>...</td>\n",
              "      <td>...</td>\n",
              "      <td>...</td>\n",
              "      <td>...</td>\n",
              "      <td>...</td>\n",
              "      <td>...</td>\n",
              "      <td>...</td>\n",
              "      <td>...</td>\n",
              "      <td>...</td>\n",
              "      <td>...</td>\n",
              "      <td>...</td>\n",
              "      <td>...</td>\n",
              "      <td>...</td>\n",
              "      <td>...</td>\n",
              "      <td>...</td>\n",
              "    </tr>\n",
              "    <tr>\n",
              "      <th>259178</th>\n",
              "      <td>0</td>\n",
              "      <td>0</td>\n",
              "      <td>0</td>\n",
              "      <td>0</td>\n",
              "      <td>0</td>\n",
              "      <td>0</td>\n",
              "      <td>0</td>\n",
              "      <td>0</td>\n",
              "      <td>0</td>\n",
              "      <td>0</td>\n",
              "      <td>...</td>\n",
              "      <td>0</td>\n",
              "      <td>0</td>\n",
              "      <td>0</td>\n",
              "      <td>0</td>\n",
              "      <td>0</td>\n",
              "      <td>0</td>\n",
              "      <td>0</td>\n",
              "      <td>0</td>\n",
              "      <td>0</td>\n",
              "      <td>0</td>\n",
              "    </tr>\n",
              "    <tr>\n",
              "      <th>365838</th>\n",
              "      <td>0</td>\n",
              "      <td>0</td>\n",
              "      <td>0</td>\n",
              "      <td>0</td>\n",
              "      <td>0</td>\n",
              "      <td>0</td>\n",
              "      <td>0</td>\n",
              "      <td>0</td>\n",
              "      <td>0</td>\n",
              "      <td>0</td>\n",
              "      <td>...</td>\n",
              "      <td>0</td>\n",
              "      <td>0</td>\n",
              "      <td>0</td>\n",
              "      <td>0</td>\n",
              "      <td>0</td>\n",
              "      <td>0</td>\n",
              "      <td>0</td>\n",
              "      <td>0</td>\n",
              "      <td>0</td>\n",
              "      <td>0</td>\n",
              "    </tr>\n",
              "    <tr>\n",
              "      <th>131932</th>\n",
              "      <td>0</td>\n",
              "      <td>0</td>\n",
              "      <td>0</td>\n",
              "      <td>0</td>\n",
              "      <td>0</td>\n",
              "      <td>0</td>\n",
              "      <td>0</td>\n",
              "      <td>0</td>\n",
              "      <td>0</td>\n",
              "      <td>0</td>\n",
              "      <td>...</td>\n",
              "      <td>0</td>\n",
              "      <td>0</td>\n",
              "      <td>0</td>\n",
              "      <td>0</td>\n",
              "      <td>0</td>\n",
              "      <td>0</td>\n",
              "      <td>0</td>\n",
              "      <td>0</td>\n",
              "      <td>0</td>\n",
              "      <td>0</td>\n",
              "    </tr>\n",
              "    <tr>\n",
              "      <th>146867</th>\n",
              "      <td>0</td>\n",
              "      <td>0</td>\n",
              "      <td>0</td>\n",
              "      <td>0</td>\n",
              "      <td>0</td>\n",
              "      <td>0</td>\n",
              "      <td>0</td>\n",
              "      <td>0</td>\n",
              "      <td>0</td>\n",
              "      <td>0</td>\n",
              "      <td>...</td>\n",
              "      <td>0</td>\n",
              "      <td>0</td>\n",
              "      <td>0</td>\n",
              "      <td>0</td>\n",
              "      <td>0</td>\n",
              "      <td>0</td>\n",
              "      <td>0</td>\n",
              "      <td>0</td>\n",
              "      <td>0</td>\n",
              "      <td>0</td>\n",
              "    </tr>\n",
              "    <tr>\n",
              "      <th>121958</th>\n",
              "      <td>0</td>\n",
              "      <td>0</td>\n",
              "      <td>0</td>\n",
              "      <td>0</td>\n",
              "      <td>0</td>\n",
              "      <td>0</td>\n",
              "      <td>0</td>\n",
              "      <td>0</td>\n",
              "      <td>0</td>\n",
              "      <td>0</td>\n",
              "      <td>...</td>\n",
              "      <td>0</td>\n",
              "      <td>0</td>\n",
              "      <td>0</td>\n",
              "      <td>0</td>\n",
              "      <td>0</td>\n",
              "      <td>0</td>\n",
              "      <td>0</td>\n",
              "      <td>0</td>\n",
              "      <td>0</td>\n",
              "      <td>0</td>\n",
              "    </tr>\n",
              "  </tbody>\n",
              "</table>\n",
              "<p>297960 rows × 784 columns</p>\n",
              "</div>\n",
              "      <button class=\"colab-df-convert\" onclick=\"convertToInteractive('df-16e772c3-b1d5-489b-bc43-fd96f84e2e62')\"\n",
              "              title=\"Convert this dataframe to an interactive table.\"\n",
              "              style=\"display:none;\">\n",
              "        \n",
              "  <svg xmlns=\"http://www.w3.org/2000/svg\" height=\"24px\"viewBox=\"0 0 24 24\"\n",
              "       width=\"24px\">\n",
              "    <path d=\"M0 0h24v24H0V0z\" fill=\"none\"/>\n",
              "    <path d=\"M18.56 5.44l.94 2.06.94-2.06 2.06-.94-2.06-.94-.94-2.06-.94 2.06-2.06.94zm-11 1L8.5 8.5l.94-2.06 2.06-.94-2.06-.94L8.5 2.5l-.94 2.06-2.06.94zm10 10l.94 2.06.94-2.06 2.06-.94-2.06-.94-.94-2.06-.94 2.06-2.06.94z\"/><path d=\"M17.41 7.96l-1.37-1.37c-.4-.4-.92-.59-1.43-.59-.52 0-1.04.2-1.43.59L10.3 9.45l-7.72 7.72c-.78.78-.78 2.05 0 2.83L4 21.41c.39.39.9.59 1.41.59.51 0 1.02-.2 1.41-.59l7.78-7.78 2.81-2.81c.8-.78.8-2.07 0-2.86zM5.41 20L4 18.59l7.72-7.72 1.47 1.35L5.41 20z\"/>\n",
              "  </svg>\n",
              "      </button>\n",
              "      \n",
              "  <style>\n",
              "    .colab-df-container {\n",
              "      display:flex;\n",
              "      flex-wrap:wrap;\n",
              "      gap: 12px;\n",
              "    }\n",
              "\n",
              "    .colab-df-convert {\n",
              "      background-color: #E8F0FE;\n",
              "      border: none;\n",
              "      border-radius: 50%;\n",
              "      cursor: pointer;\n",
              "      display: none;\n",
              "      fill: #1967D2;\n",
              "      height: 32px;\n",
              "      padding: 0 0 0 0;\n",
              "      width: 32px;\n",
              "    }\n",
              "\n",
              "    .colab-df-convert:hover {\n",
              "      background-color: #E2EBFA;\n",
              "      box-shadow: 0px 1px 2px rgba(60, 64, 67, 0.3), 0px 1px 3px 1px rgba(60, 64, 67, 0.15);\n",
              "      fill: #174EA6;\n",
              "    }\n",
              "\n",
              "    [theme=dark] .colab-df-convert {\n",
              "      background-color: #3B4455;\n",
              "      fill: #D2E3FC;\n",
              "    }\n",
              "\n",
              "    [theme=dark] .colab-df-convert:hover {\n",
              "      background-color: #434B5C;\n",
              "      box-shadow: 0px 1px 3px 1px rgba(0, 0, 0, 0.15);\n",
              "      filter: drop-shadow(0px 1px 2px rgba(0, 0, 0, 0.3));\n",
              "      fill: #FFFFFF;\n",
              "    }\n",
              "  </style>\n",
              "\n",
              "      <script>\n",
              "        const buttonEl =\n",
              "          document.querySelector('#df-16e772c3-b1d5-489b-bc43-fd96f84e2e62 button.colab-df-convert');\n",
              "        buttonEl.style.display =\n",
              "          google.colab.kernel.accessAllowed ? 'block' : 'none';\n",
              "\n",
              "        async function convertToInteractive(key) {\n",
              "          const element = document.querySelector('#df-16e772c3-b1d5-489b-bc43-fd96f84e2e62');\n",
              "          const dataTable =\n",
              "            await google.colab.kernel.invokeFunction('convertToInteractive',\n",
              "                                                     [key], {});\n",
              "          if (!dataTable) return;\n",
              "\n",
              "          const docLinkHtml = 'Like what you see? Visit the ' +\n",
              "            '<a target=\"_blank\" href=https://colab.research.google.com/notebooks/data_table.ipynb>data table notebook</a>'\n",
              "            + ' to learn more about interactive tables.';\n",
              "          element.innerHTML = '';\n",
              "          dataTable['output_type'] = 'display_data';\n",
              "          await google.colab.output.renderOutput(dataTable, element);\n",
              "          const docLink = document.createElement('div');\n",
              "          docLink.innerHTML = docLinkHtml;\n",
              "          element.appendChild(docLink);\n",
              "        }\n",
              "      </script>\n",
              "    </div>\n",
              "  </div>\n",
              "  "
            ]
          },
          "metadata": {}
        },
        {
          "output_type": "display_data",
          "data": {
            "text/plain": [
              "        label_A  label_B  label_C  label_D  label_E  label_F  label_G  \\\n",
              "20675         0        1        0        0        0        0        0   \n",
              "234698        0        0        0        0        0        0        0   \n",
              "21507         0        1        0        0        0        0        0   \n",
              "270540        0        0        0        0        0        0        0   \n",
              "248793        0        0        0        0        0        0        0   \n",
              "...         ...      ...      ...      ...      ...      ...      ...   \n",
              "259178        0        0        0        0        0        0        0   \n",
              "365838        0        0        0        0        0        0        0   \n",
              "131932        0        0        0        0        0        0        0   \n",
              "146867        0        0        0        0        0        0        0   \n",
              "121958        0        0        0        0        0        0        0   \n",
              "\n",
              "        label_H  label_I  label_J  ...  label_Q  label_R  label_S  label_T  \\\n",
              "20675         0        0        0  ...        0        0        0        0   \n",
              "234698        0        0        0  ...        0        0        1        0   \n",
              "21507         0        0        0  ...        0        0        0        0   \n",
              "270540        0        0        0  ...        0        0        1        0   \n",
              "248793        0        0        0  ...        0        0        1        0   \n",
              "...         ...      ...      ...  ...      ...      ...      ...      ...   \n",
              "259178        0        0        0  ...        0        0        1        0   \n",
              "365838        0        0        0  ...        0        0        0        0   \n",
              "131932        0        0        0  ...        0        0        0        0   \n",
              "146867        0        0        0  ...        0        0        0        0   \n",
              "121958        0        0        0  ...        0        0        0        0   \n",
              "\n",
              "        label_U  label_V  label_W  label_X  label_Y  label_Z  \n",
              "20675         0        0        0        0        0        0  \n",
              "234698        0        0        0        0        0        0  \n",
              "21507         0        0        0        0        0        0  \n",
              "270540        0        0        0        0        0        0  \n",
              "248793        0        0        0        0        0        0  \n",
              "...         ...      ...      ...      ...      ...      ...  \n",
              "259178        0        0        0        0        0        0  \n",
              "365838        0        0        0        0        1        0  \n",
              "131932        0        0        0        0        0        0  \n",
              "146867        0        0        0        0        0        0  \n",
              "121958        0        0        0        0        0        0  \n",
              "\n",
              "[297960 rows x 26 columns]"
            ],
            "text/html": [
              "\n",
              "  <div id=\"df-a19d4caf-06bb-4cdd-b6b3-1abba040f8f9\">\n",
              "    <div class=\"colab-df-container\">\n",
              "      <div>\n",
              "<style scoped>\n",
              "    .dataframe tbody tr th:only-of-type {\n",
              "        vertical-align: middle;\n",
              "    }\n",
              "\n",
              "    .dataframe tbody tr th {\n",
              "        vertical-align: top;\n",
              "    }\n",
              "\n",
              "    .dataframe thead th {\n",
              "        text-align: right;\n",
              "    }\n",
              "</style>\n",
              "<table border=\"1\" class=\"dataframe\">\n",
              "  <thead>\n",
              "    <tr style=\"text-align: right;\">\n",
              "      <th></th>\n",
              "      <th>label_A</th>\n",
              "      <th>label_B</th>\n",
              "      <th>label_C</th>\n",
              "      <th>label_D</th>\n",
              "      <th>label_E</th>\n",
              "      <th>label_F</th>\n",
              "      <th>label_G</th>\n",
              "      <th>label_H</th>\n",
              "      <th>label_I</th>\n",
              "      <th>label_J</th>\n",
              "      <th>...</th>\n",
              "      <th>label_Q</th>\n",
              "      <th>label_R</th>\n",
              "      <th>label_S</th>\n",
              "      <th>label_T</th>\n",
              "      <th>label_U</th>\n",
              "      <th>label_V</th>\n",
              "      <th>label_W</th>\n",
              "      <th>label_X</th>\n",
              "      <th>label_Y</th>\n",
              "      <th>label_Z</th>\n",
              "    </tr>\n",
              "  </thead>\n",
              "  <tbody>\n",
              "    <tr>\n",
              "      <th>20675</th>\n",
              "      <td>0</td>\n",
              "      <td>1</td>\n",
              "      <td>0</td>\n",
              "      <td>0</td>\n",
              "      <td>0</td>\n",
              "      <td>0</td>\n",
              "      <td>0</td>\n",
              "      <td>0</td>\n",
              "      <td>0</td>\n",
              "      <td>0</td>\n",
              "      <td>...</td>\n",
              "      <td>0</td>\n",
              "      <td>0</td>\n",
              "      <td>0</td>\n",
              "      <td>0</td>\n",
              "      <td>0</td>\n",
              "      <td>0</td>\n",
              "      <td>0</td>\n",
              "      <td>0</td>\n",
              "      <td>0</td>\n",
              "      <td>0</td>\n",
              "    </tr>\n",
              "    <tr>\n",
              "      <th>234698</th>\n",
              "      <td>0</td>\n",
              "      <td>0</td>\n",
              "      <td>0</td>\n",
              "      <td>0</td>\n",
              "      <td>0</td>\n",
              "      <td>0</td>\n",
              "      <td>0</td>\n",
              "      <td>0</td>\n",
              "      <td>0</td>\n",
              "      <td>0</td>\n",
              "      <td>...</td>\n",
              "      <td>0</td>\n",
              "      <td>0</td>\n",
              "      <td>1</td>\n",
              "      <td>0</td>\n",
              "      <td>0</td>\n",
              "      <td>0</td>\n",
              "      <td>0</td>\n",
              "      <td>0</td>\n",
              "      <td>0</td>\n",
              "      <td>0</td>\n",
              "    </tr>\n",
              "    <tr>\n",
              "      <th>21507</th>\n",
              "      <td>0</td>\n",
              "      <td>1</td>\n",
              "      <td>0</td>\n",
              "      <td>0</td>\n",
              "      <td>0</td>\n",
              "      <td>0</td>\n",
              "      <td>0</td>\n",
              "      <td>0</td>\n",
              "      <td>0</td>\n",
              "      <td>0</td>\n",
              "      <td>...</td>\n",
              "      <td>0</td>\n",
              "      <td>0</td>\n",
              "      <td>0</td>\n",
              "      <td>0</td>\n",
              "      <td>0</td>\n",
              "      <td>0</td>\n",
              "      <td>0</td>\n",
              "      <td>0</td>\n",
              "      <td>0</td>\n",
              "      <td>0</td>\n",
              "    </tr>\n",
              "    <tr>\n",
              "      <th>270540</th>\n",
              "      <td>0</td>\n",
              "      <td>0</td>\n",
              "      <td>0</td>\n",
              "      <td>0</td>\n",
              "      <td>0</td>\n",
              "      <td>0</td>\n",
              "      <td>0</td>\n",
              "      <td>0</td>\n",
              "      <td>0</td>\n",
              "      <td>0</td>\n",
              "      <td>...</td>\n",
              "      <td>0</td>\n",
              "      <td>0</td>\n",
              "      <td>1</td>\n",
              "      <td>0</td>\n",
              "      <td>0</td>\n",
              "      <td>0</td>\n",
              "      <td>0</td>\n",
              "      <td>0</td>\n",
              "      <td>0</td>\n",
              "      <td>0</td>\n",
              "    </tr>\n",
              "    <tr>\n",
              "      <th>248793</th>\n",
              "      <td>0</td>\n",
              "      <td>0</td>\n",
              "      <td>0</td>\n",
              "      <td>0</td>\n",
              "      <td>0</td>\n",
              "      <td>0</td>\n",
              "      <td>0</td>\n",
              "      <td>0</td>\n",
              "      <td>0</td>\n",
              "      <td>0</td>\n",
              "      <td>...</td>\n",
              "      <td>0</td>\n",
              "      <td>0</td>\n",
              "      <td>1</td>\n",
              "      <td>0</td>\n",
              "      <td>0</td>\n",
              "      <td>0</td>\n",
              "      <td>0</td>\n",
              "      <td>0</td>\n",
              "      <td>0</td>\n",
              "      <td>0</td>\n",
              "    </tr>\n",
              "    <tr>\n",
              "      <th>...</th>\n",
              "      <td>...</td>\n",
              "      <td>...</td>\n",
              "      <td>...</td>\n",
              "      <td>...</td>\n",
              "      <td>...</td>\n",
              "      <td>...</td>\n",
              "      <td>...</td>\n",
              "      <td>...</td>\n",
              "      <td>...</td>\n",
              "      <td>...</td>\n",
              "      <td>...</td>\n",
              "      <td>...</td>\n",
              "      <td>...</td>\n",
              "      <td>...</td>\n",
              "      <td>...</td>\n",
              "      <td>...</td>\n",
              "      <td>...</td>\n",
              "      <td>...</td>\n",
              "      <td>...</td>\n",
              "      <td>...</td>\n",
              "      <td>...</td>\n",
              "    </tr>\n",
              "    <tr>\n",
              "      <th>259178</th>\n",
              "      <td>0</td>\n",
              "      <td>0</td>\n",
              "      <td>0</td>\n",
              "      <td>0</td>\n",
              "      <td>0</td>\n",
              "      <td>0</td>\n",
              "      <td>0</td>\n",
              "      <td>0</td>\n",
              "      <td>0</td>\n",
              "      <td>0</td>\n",
              "      <td>...</td>\n",
              "      <td>0</td>\n",
              "      <td>0</td>\n",
              "      <td>1</td>\n",
              "      <td>0</td>\n",
              "      <td>0</td>\n",
              "      <td>0</td>\n",
              "      <td>0</td>\n",
              "      <td>0</td>\n",
              "      <td>0</td>\n",
              "      <td>0</td>\n",
              "    </tr>\n",
              "    <tr>\n",
              "      <th>365838</th>\n",
              "      <td>0</td>\n",
              "      <td>0</td>\n",
              "      <td>0</td>\n",
              "      <td>0</td>\n",
              "      <td>0</td>\n",
              "      <td>0</td>\n",
              "      <td>0</td>\n",
              "      <td>0</td>\n",
              "      <td>0</td>\n",
              "      <td>0</td>\n",
              "      <td>...</td>\n",
              "      <td>0</td>\n",
              "      <td>0</td>\n",
              "      <td>0</td>\n",
              "      <td>0</td>\n",
              "      <td>0</td>\n",
              "      <td>0</td>\n",
              "      <td>0</td>\n",
              "      <td>0</td>\n",
              "      <td>1</td>\n",
              "      <td>0</td>\n",
              "    </tr>\n",
              "    <tr>\n",
              "      <th>131932</th>\n",
              "      <td>0</td>\n",
              "      <td>0</td>\n",
              "      <td>0</td>\n",
              "      <td>0</td>\n",
              "      <td>0</td>\n",
              "      <td>0</td>\n",
              "      <td>0</td>\n",
              "      <td>0</td>\n",
              "      <td>0</td>\n",
              "      <td>0</td>\n",
              "      <td>...</td>\n",
              "      <td>0</td>\n",
              "      <td>0</td>\n",
              "      <td>0</td>\n",
              "      <td>0</td>\n",
              "      <td>0</td>\n",
              "      <td>0</td>\n",
              "      <td>0</td>\n",
              "      <td>0</td>\n",
              "      <td>0</td>\n",
              "      <td>0</td>\n",
              "    </tr>\n",
              "    <tr>\n",
              "      <th>146867</th>\n",
              "      <td>0</td>\n",
              "      <td>0</td>\n",
              "      <td>0</td>\n",
              "      <td>0</td>\n",
              "      <td>0</td>\n",
              "      <td>0</td>\n",
              "      <td>0</td>\n",
              "      <td>0</td>\n",
              "      <td>0</td>\n",
              "      <td>0</td>\n",
              "      <td>...</td>\n",
              "      <td>0</td>\n",
              "      <td>0</td>\n",
              "      <td>0</td>\n",
              "      <td>0</td>\n",
              "      <td>0</td>\n",
              "      <td>0</td>\n",
              "      <td>0</td>\n",
              "      <td>0</td>\n",
              "      <td>0</td>\n",
              "      <td>0</td>\n",
              "    </tr>\n",
              "    <tr>\n",
              "      <th>121958</th>\n",
              "      <td>0</td>\n",
              "      <td>0</td>\n",
              "      <td>0</td>\n",
              "      <td>0</td>\n",
              "      <td>0</td>\n",
              "      <td>0</td>\n",
              "      <td>0</td>\n",
              "      <td>0</td>\n",
              "      <td>0</td>\n",
              "      <td>0</td>\n",
              "      <td>...</td>\n",
              "      <td>0</td>\n",
              "      <td>0</td>\n",
              "      <td>0</td>\n",
              "      <td>0</td>\n",
              "      <td>0</td>\n",
              "      <td>0</td>\n",
              "      <td>0</td>\n",
              "      <td>0</td>\n",
              "      <td>0</td>\n",
              "      <td>0</td>\n",
              "    </tr>\n",
              "  </tbody>\n",
              "</table>\n",
              "<p>297960 rows × 26 columns</p>\n",
              "</div>\n",
              "      <button class=\"colab-df-convert\" onclick=\"convertToInteractive('df-a19d4caf-06bb-4cdd-b6b3-1abba040f8f9')\"\n",
              "              title=\"Convert this dataframe to an interactive table.\"\n",
              "              style=\"display:none;\">\n",
              "        \n",
              "  <svg xmlns=\"http://www.w3.org/2000/svg\" height=\"24px\"viewBox=\"0 0 24 24\"\n",
              "       width=\"24px\">\n",
              "    <path d=\"M0 0h24v24H0V0z\" fill=\"none\"/>\n",
              "    <path d=\"M18.56 5.44l.94 2.06.94-2.06 2.06-.94-2.06-.94-.94-2.06-.94 2.06-2.06.94zm-11 1L8.5 8.5l.94-2.06 2.06-.94-2.06-.94L8.5 2.5l-.94 2.06-2.06.94zm10 10l.94 2.06.94-2.06 2.06-.94-2.06-.94-.94-2.06-.94 2.06-2.06.94z\"/><path d=\"M17.41 7.96l-1.37-1.37c-.4-.4-.92-.59-1.43-.59-.52 0-1.04.2-1.43.59L10.3 9.45l-7.72 7.72c-.78.78-.78 2.05 0 2.83L4 21.41c.39.39.9.59 1.41.59.51 0 1.02-.2 1.41-.59l7.78-7.78 2.81-2.81c.8-.78.8-2.07 0-2.86zM5.41 20L4 18.59l7.72-7.72 1.47 1.35L5.41 20z\"/>\n",
              "  </svg>\n",
              "      </button>\n",
              "      \n",
              "  <style>\n",
              "    .colab-df-container {\n",
              "      display:flex;\n",
              "      flex-wrap:wrap;\n",
              "      gap: 12px;\n",
              "    }\n",
              "\n",
              "    .colab-df-convert {\n",
              "      background-color: #E8F0FE;\n",
              "      border: none;\n",
              "      border-radius: 50%;\n",
              "      cursor: pointer;\n",
              "      display: none;\n",
              "      fill: #1967D2;\n",
              "      height: 32px;\n",
              "      padding: 0 0 0 0;\n",
              "      width: 32px;\n",
              "    }\n",
              "\n",
              "    .colab-df-convert:hover {\n",
              "      background-color: #E2EBFA;\n",
              "      box-shadow: 0px 1px 2px rgba(60, 64, 67, 0.3), 0px 1px 3px 1px rgba(60, 64, 67, 0.15);\n",
              "      fill: #174EA6;\n",
              "    }\n",
              "\n",
              "    [theme=dark] .colab-df-convert {\n",
              "      background-color: #3B4455;\n",
              "      fill: #D2E3FC;\n",
              "    }\n",
              "\n",
              "    [theme=dark] .colab-df-convert:hover {\n",
              "      background-color: #434B5C;\n",
              "      box-shadow: 0px 1px 3px 1px rgba(0, 0, 0, 0.15);\n",
              "      filter: drop-shadow(0px 1px 2px rgba(0, 0, 0, 0.3));\n",
              "      fill: #FFFFFF;\n",
              "    }\n",
              "  </style>\n",
              "\n",
              "      <script>\n",
              "        const buttonEl =\n",
              "          document.querySelector('#df-a19d4caf-06bb-4cdd-b6b3-1abba040f8f9 button.colab-df-convert');\n",
              "        buttonEl.style.display =\n",
              "          google.colab.kernel.accessAllowed ? 'block' : 'none';\n",
              "\n",
              "        async function convertToInteractive(key) {\n",
              "          const element = document.querySelector('#df-a19d4caf-06bb-4cdd-b6b3-1abba040f8f9');\n",
              "          const dataTable =\n",
              "            await google.colab.kernel.invokeFunction('convertToInteractive',\n",
              "                                                     [key], {});\n",
              "          if (!dataTable) return;\n",
              "\n",
              "          const docLinkHtml = 'Like what you see? Visit the ' +\n",
              "            '<a target=\"_blank\" href=https://colab.research.google.com/notebooks/data_table.ipynb>data table notebook</a>'\n",
              "            + ' to learn more about interactive tables.';\n",
              "          element.innerHTML = '';\n",
              "          dataTable['output_type'] = 'display_data';\n",
              "          await google.colab.output.renderOutput(dataTable, element);\n",
              "          const docLink = document.createElement('div');\n",
              "          docLink.innerHTML = docLinkHtml;\n",
              "          element.appendChild(docLink);\n",
              "        }\n",
              "      </script>\n",
              "    </div>\n",
              "  </div>\n",
              "  "
            ]
          },
          "metadata": {}
        },
        {
          "output_type": "display_data",
          "data": {
            "text/plain": [
              "        0.1  0.2  0.3  0.4  0.5  0.6  0.7  0.8  0.9  0.10  ...  0.639  0.640  \\\n",
              "114871    0    0    0    0    0    0    0    0    0     0  ...      0      0   \n",
              "270469    0    0    0    0    0    0    0    0    0     0  ...      0      0   \n",
              "27001     0    0    0    0    0    0    0    0    0     0  ...      0      0   \n",
              "180911    0    0    0    0    0    0    0    0    0     0  ...      0      0   \n",
              "4997      0    0    0    0    0    0    0    0    0     0  ...      0      0   \n",
              "...     ...  ...  ...  ...  ...  ...  ...  ...  ...   ...  ...    ...    ...   \n",
              "128300    0    0    0    0    0    0    0    0    0     0  ...      0      0   \n",
              "182739    0    0    0    0    0    0    0    0    0     0  ...      0      0   \n",
              "90200     0    0    0    0    0    0    0    0    0     0  ...      0      0   \n",
              "117835    0    0    0    0    0    0    0    0    0     0  ...      0      0   \n",
              "252200    0    0    0    0    0    0    0    0    0     0  ...      0      0   \n",
              "\n",
              "        0.641  0.642  0.643  0.644  0.645  0.646  0.647  0.648  \n",
              "114871      0      0      0      0      0      0      0      0  \n",
              "270469      0      0      0      0      0      0      0      0  \n",
              "27001       0      0      0      0      0      0      0      0  \n",
              "180911      0      0      0      0      0      0      0      0  \n",
              "4997        0      0      0      0      0      0      0      0  \n",
              "...       ...    ...    ...    ...    ...    ...    ...    ...  \n",
              "128300      0      0      0      0      0      0      0      0  \n",
              "182739      0      0      0      0      0      0      0      0  \n",
              "90200       0      0      0      0      0      0      0      0  \n",
              "117835      0      0      0      0      0      0      0      0  \n",
              "252200      0      0      0      0      0      0      0      0  \n",
              "\n",
              "[74490 rows x 784 columns]"
            ],
            "text/html": [
              "\n",
              "  <div id=\"df-fe0c09af-0228-42fe-9b22-560b2f8e088d\">\n",
              "    <div class=\"colab-df-container\">\n",
              "      <div>\n",
              "<style scoped>\n",
              "    .dataframe tbody tr th:only-of-type {\n",
              "        vertical-align: middle;\n",
              "    }\n",
              "\n",
              "    .dataframe tbody tr th {\n",
              "        vertical-align: top;\n",
              "    }\n",
              "\n",
              "    .dataframe thead th {\n",
              "        text-align: right;\n",
              "    }\n",
              "</style>\n",
              "<table border=\"1\" class=\"dataframe\">\n",
              "  <thead>\n",
              "    <tr style=\"text-align: right;\">\n",
              "      <th></th>\n",
              "      <th>0.1</th>\n",
              "      <th>0.2</th>\n",
              "      <th>0.3</th>\n",
              "      <th>0.4</th>\n",
              "      <th>0.5</th>\n",
              "      <th>0.6</th>\n",
              "      <th>0.7</th>\n",
              "      <th>0.8</th>\n",
              "      <th>0.9</th>\n",
              "      <th>0.10</th>\n",
              "      <th>...</th>\n",
              "      <th>0.639</th>\n",
              "      <th>0.640</th>\n",
              "      <th>0.641</th>\n",
              "      <th>0.642</th>\n",
              "      <th>0.643</th>\n",
              "      <th>0.644</th>\n",
              "      <th>0.645</th>\n",
              "      <th>0.646</th>\n",
              "      <th>0.647</th>\n",
              "      <th>0.648</th>\n",
              "    </tr>\n",
              "  </thead>\n",
              "  <tbody>\n",
              "    <tr>\n",
              "      <th>114871</th>\n",
              "      <td>0</td>\n",
              "      <td>0</td>\n",
              "      <td>0</td>\n",
              "      <td>0</td>\n",
              "      <td>0</td>\n",
              "      <td>0</td>\n",
              "      <td>0</td>\n",
              "      <td>0</td>\n",
              "      <td>0</td>\n",
              "      <td>0</td>\n",
              "      <td>...</td>\n",
              "      <td>0</td>\n",
              "      <td>0</td>\n",
              "      <td>0</td>\n",
              "      <td>0</td>\n",
              "      <td>0</td>\n",
              "      <td>0</td>\n",
              "      <td>0</td>\n",
              "      <td>0</td>\n",
              "      <td>0</td>\n",
              "      <td>0</td>\n",
              "    </tr>\n",
              "    <tr>\n",
              "      <th>270469</th>\n",
              "      <td>0</td>\n",
              "      <td>0</td>\n",
              "      <td>0</td>\n",
              "      <td>0</td>\n",
              "      <td>0</td>\n",
              "      <td>0</td>\n",
              "      <td>0</td>\n",
              "      <td>0</td>\n",
              "      <td>0</td>\n",
              "      <td>0</td>\n",
              "      <td>...</td>\n",
              "      <td>0</td>\n",
              "      <td>0</td>\n",
              "      <td>0</td>\n",
              "      <td>0</td>\n",
              "      <td>0</td>\n",
              "      <td>0</td>\n",
              "      <td>0</td>\n",
              "      <td>0</td>\n",
              "      <td>0</td>\n",
              "      <td>0</td>\n",
              "    </tr>\n",
              "    <tr>\n",
              "      <th>27001</th>\n",
              "      <td>0</td>\n",
              "      <td>0</td>\n",
              "      <td>0</td>\n",
              "      <td>0</td>\n",
              "      <td>0</td>\n",
              "      <td>0</td>\n",
              "      <td>0</td>\n",
              "      <td>0</td>\n",
              "      <td>0</td>\n",
              "      <td>0</td>\n",
              "      <td>...</td>\n",
              "      <td>0</td>\n",
              "      <td>0</td>\n",
              "      <td>0</td>\n",
              "      <td>0</td>\n",
              "      <td>0</td>\n",
              "      <td>0</td>\n",
              "      <td>0</td>\n",
              "      <td>0</td>\n",
              "      <td>0</td>\n",
              "      <td>0</td>\n",
              "    </tr>\n",
              "    <tr>\n",
              "      <th>180911</th>\n",
              "      <td>0</td>\n",
              "      <td>0</td>\n",
              "      <td>0</td>\n",
              "      <td>0</td>\n",
              "      <td>0</td>\n",
              "      <td>0</td>\n",
              "      <td>0</td>\n",
              "      <td>0</td>\n",
              "      <td>0</td>\n",
              "      <td>0</td>\n",
              "      <td>...</td>\n",
              "      <td>0</td>\n",
              "      <td>0</td>\n",
              "      <td>0</td>\n",
              "      <td>0</td>\n",
              "      <td>0</td>\n",
              "      <td>0</td>\n",
              "      <td>0</td>\n",
              "      <td>0</td>\n",
              "      <td>0</td>\n",
              "      <td>0</td>\n",
              "    </tr>\n",
              "    <tr>\n",
              "      <th>4997</th>\n",
              "      <td>0</td>\n",
              "      <td>0</td>\n",
              "      <td>0</td>\n",
              "      <td>0</td>\n",
              "      <td>0</td>\n",
              "      <td>0</td>\n",
              "      <td>0</td>\n",
              "      <td>0</td>\n",
              "      <td>0</td>\n",
              "      <td>0</td>\n",
              "      <td>...</td>\n",
              "      <td>0</td>\n",
              "      <td>0</td>\n",
              "      <td>0</td>\n",
              "      <td>0</td>\n",
              "      <td>0</td>\n",
              "      <td>0</td>\n",
              "      <td>0</td>\n",
              "      <td>0</td>\n",
              "      <td>0</td>\n",
              "      <td>0</td>\n",
              "    </tr>\n",
              "    <tr>\n",
              "      <th>...</th>\n",
              "      <td>...</td>\n",
              "      <td>...</td>\n",
              "      <td>...</td>\n",
              "      <td>...</td>\n",
              "      <td>...</td>\n",
              "      <td>...</td>\n",
              "      <td>...</td>\n",
              "      <td>...</td>\n",
              "      <td>...</td>\n",
              "      <td>...</td>\n",
              "      <td>...</td>\n",
              "      <td>...</td>\n",
              "      <td>...</td>\n",
              "      <td>...</td>\n",
              "      <td>...</td>\n",
              "      <td>...</td>\n",
              "      <td>...</td>\n",
              "      <td>...</td>\n",
              "      <td>...</td>\n",
              "      <td>...</td>\n",
              "      <td>...</td>\n",
              "    </tr>\n",
              "    <tr>\n",
              "      <th>128300</th>\n",
              "      <td>0</td>\n",
              "      <td>0</td>\n",
              "      <td>0</td>\n",
              "      <td>0</td>\n",
              "      <td>0</td>\n",
              "      <td>0</td>\n",
              "      <td>0</td>\n",
              "      <td>0</td>\n",
              "      <td>0</td>\n",
              "      <td>0</td>\n",
              "      <td>...</td>\n",
              "      <td>0</td>\n",
              "      <td>0</td>\n",
              "      <td>0</td>\n",
              "      <td>0</td>\n",
              "      <td>0</td>\n",
              "      <td>0</td>\n",
              "      <td>0</td>\n",
              "      <td>0</td>\n",
              "      <td>0</td>\n",
              "      <td>0</td>\n",
              "    </tr>\n",
              "    <tr>\n",
              "      <th>182739</th>\n",
              "      <td>0</td>\n",
              "      <td>0</td>\n",
              "      <td>0</td>\n",
              "      <td>0</td>\n",
              "      <td>0</td>\n",
              "      <td>0</td>\n",
              "      <td>0</td>\n",
              "      <td>0</td>\n",
              "      <td>0</td>\n",
              "      <td>0</td>\n",
              "      <td>...</td>\n",
              "      <td>0</td>\n",
              "      <td>0</td>\n",
              "      <td>0</td>\n",
              "      <td>0</td>\n",
              "      <td>0</td>\n",
              "      <td>0</td>\n",
              "      <td>0</td>\n",
              "      <td>0</td>\n",
              "      <td>0</td>\n",
              "      <td>0</td>\n",
              "    </tr>\n",
              "    <tr>\n",
              "      <th>90200</th>\n",
              "      <td>0</td>\n",
              "      <td>0</td>\n",
              "      <td>0</td>\n",
              "      <td>0</td>\n",
              "      <td>0</td>\n",
              "      <td>0</td>\n",
              "      <td>0</td>\n",
              "      <td>0</td>\n",
              "      <td>0</td>\n",
              "      <td>0</td>\n",
              "      <td>...</td>\n",
              "      <td>0</td>\n",
              "      <td>0</td>\n",
              "      <td>0</td>\n",
              "      <td>0</td>\n",
              "      <td>0</td>\n",
              "      <td>0</td>\n",
              "      <td>0</td>\n",
              "      <td>0</td>\n",
              "      <td>0</td>\n",
              "      <td>0</td>\n",
              "    </tr>\n",
              "    <tr>\n",
              "      <th>117835</th>\n",
              "      <td>0</td>\n",
              "      <td>0</td>\n",
              "      <td>0</td>\n",
              "      <td>0</td>\n",
              "      <td>0</td>\n",
              "      <td>0</td>\n",
              "      <td>0</td>\n",
              "      <td>0</td>\n",
              "      <td>0</td>\n",
              "      <td>0</td>\n",
              "      <td>...</td>\n",
              "      <td>0</td>\n",
              "      <td>0</td>\n",
              "      <td>0</td>\n",
              "      <td>0</td>\n",
              "      <td>0</td>\n",
              "      <td>0</td>\n",
              "      <td>0</td>\n",
              "      <td>0</td>\n",
              "      <td>0</td>\n",
              "      <td>0</td>\n",
              "    </tr>\n",
              "    <tr>\n",
              "      <th>252200</th>\n",
              "      <td>0</td>\n",
              "      <td>0</td>\n",
              "      <td>0</td>\n",
              "      <td>0</td>\n",
              "      <td>0</td>\n",
              "      <td>0</td>\n",
              "      <td>0</td>\n",
              "      <td>0</td>\n",
              "      <td>0</td>\n",
              "      <td>0</td>\n",
              "      <td>...</td>\n",
              "      <td>0</td>\n",
              "      <td>0</td>\n",
              "      <td>0</td>\n",
              "      <td>0</td>\n",
              "      <td>0</td>\n",
              "      <td>0</td>\n",
              "      <td>0</td>\n",
              "      <td>0</td>\n",
              "      <td>0</td>\n",
              "      <td>0</td>\n",
              "    </tr>\n",
              "  </tbody>\n",
              "</table>\n",
              "<p>74490 rows × 784 columns</p>\n",
              "</div>\n",
              "      <button class=\"colab-df-convert\" onclick=\"convertToInteractive('df-fe0c09af-0228-42fe-9b22-560b2f8e088d')\"\n",
              "              title=\"Convert this dataframe to an interactive table.\"\n",
              "              style=\"display:none;\">\n",
              "        \n",
              "  <svg xmlns=\"http://www.w3.org/2000/svg\" height=\"24px\"viewBox=\"0 0 24 24\"\n",
              "       width=\"24px\">\n",
              "    <path d=\"M0 0h24v24H0V0z\" fill=\"none\"/>\n",
              "    <path d=\"M18.56 5.44l.94 2.06.94-2.06 2.06-.94-2.06-.94-.94-2.06-.94 2.06-2.06.94zm-11 1L8.5 8.5l.94-2.06 2.06-.94-2.06-.94L8.5 2.5l-.94 2.06-2.06.94zm10 10l.94 2.06.94-2.06 2.06-.94-2.06-.94-.94-2.06-.94 2.06-2.06.94z\"/><path d=\"M17.41 7.96l-1.37-1.37c-.4-.4-.92-.59-1.43-.59-.52 0-1.04.2-1.43.59L10.3 9.45l-7.72 7.72c-.78.78-.78 2.05 0 2.83L4 21.41c.39.39.9.59 1.41.59.51 0 1.02-.2 1.41-.59l7.78-7.78 2.81-2.81c.8-.78.8-2.07 0-2.86zM5.41 20L4 18.59l7.72-7.72 1.47 1.35L5.41 20z\"/>\n",
              "  </svg>\n",
              "      </button>\n",
              "      \n",
              "  <style>\n",
              "    .colab-df-container {\n",
              "      display:flex;\n",
              "      flex-wrap:wrap;\n",
              "      gap: 12px;\n",
              "    }\n",
              "\n",
              "    .colab-df-convert {\n",
              "      background-color: #E8F0FE;\n",
              "      border: none;\n",
              "      border-radius: 50%;\n",
              "      cursor: pointer;\n",
              "      display: none;\n",
              "      fill: #1967D2;\n",
              "      height: 32px;\n",
              "      padding: 0 0 0 0;\n",
              "      width: 32px;\n",
              "    }\n",
              "\n",
              "    .colab-df-convert:hover {\n",
              "      background-color: #E2EBFA;\n",
              "      box-shadow: 0px 1px 2px rgba(60, 64, 67, 0.3), 0px 1px 3px 1px rgba(60, 64, 67, 0.15);\n",
              "      fill: #174EA6;\n",
              "    }\n",
              "\n",
              "    [theme=dark] .colab-df-convert {\n",
              "      background-color: #3B4455;\n",
              "      fill: #D2E3FC;\n",
              "    }\n",
              "\n",
              "    [theme=dark] .colab-df-convert:hover {\n",
              "      background-color: #434B5C;\n",
              "      box-shadow: 0px 1px 3px 1px rgba(0, 0, 0, 0.15);\n",
              "      filter: drop-shadow(0px 1px 2px rgba(0, 0, 0, 0.3));\n",
              "      fill: #FFFFFF;\n",
              "    }\n",
              "  </style>\n",
              "\n",
              "      <script>\n",
              "        const buttonEl =\n",
              "          document.querySelector('#df-fe0c09af-0228-42fe-9b22-560b2f8e088d button.colab-df-convert');\n",
              "        buttonEl.style.display =\n",
              "          google.colab.kernel.accessAllowed ? 'block' : 'none';\n",
              "\n",
              "        async function convertToInteractive(key) {\n",
              "          const element = document.querySelector('#df-fe0c09af-0228-42fe-9b22-560b2f8e088d');\n",
              "          const dataTable =\n",
              "            await google.colab.kernel.invokeFunction('convertToInteractive',\n",
              "                                                     [key], {});\n",
              "          if (!dataTable) return;\n",
              "\n",
              "          const docLinkHtml = 'Like what you see? Visit the ' +\n",
              "            '<a target=\"_blank\" href=https://colab.research.google.com/notebooks/data_table.ipynb>data table notebook</a>'\n",
              "            + ' to learn more about interactive tables.';\n",
              "          element.innerHTML = '';\n",
              "          dataTable['output_type'] = 'display_data';\n",
              "          await google.colab.output.renderOutput(dataTable, element);\n",
              "          const docLink = document.createElement('div');\n",
              "          docLink.innerHTML = docLinkHtml;\n",
              "          element.appendChild(docLink);\n",
              "        }\n",
              "      </script>\n",
              "    </div>\n",
              "  </div>\n",
              "  "
            ]
          },
          "metadata": {}
        },
        {
          "output_type": "display_data",
          "data": {
            "text/plain": [
              "        label_A  label_B  label_C  label_D  label_E  label_F  label_G  \\\n",
              "114871        0        0        0        0        0        0        0   \n",
              "270469        0        0        0        0        0        0        0   \n",
              "27001         0        0        1        0        0        0        0   \n",
              "180911        0        0        0        0        0        0        0   \n",
              "4997          1        0        0        0        0        0        0   \n",
              "...         ...      ...      ...      ...      ...      ...      ...   \n",
              "128300        0        0        0        0        0        0        0   \n",
              "182739        0        0        0        0        0        0        0   \n",
              "90200         0        0        0        0        0        0        0   \n",
              "117835        0        0        0        0        0        0        0   \n",
              "252200        0        0        0        0        0        0        0   \n",
              "\n",
              "        label_H  label_I  label_J  ...  label_Q  label_R  label_S  label_T  \\\n",
              "114871        0        0        0  ...        0        0        0        0   \n",
              "270469        0        0        0  ...        0        0        1        0   \n",
              "27001         0        0        0  ...        0        0        0        0   \n",
              "180911        0        0        0  ...        0        0        0        0   \n",
              "4997          0        0        0  ...        0        0        0        0   \n",
              "...         ...      ...      ...  ...      ...      ...      ...      ...   \n",
              "128300        0        0        0  ...        0        0        0        0   \n",
              "182739        0        0        0  ...        0        0        0        0   \n",
              "90200         0        0        1  ...        0        0        0        0   \n",
              "117835        0        0        0  ...        0        0        0        0   \n",
              "252200        0        0        0  ...        0        0        1        0   \n",
              "\n",
              "        label_U  label_V  label_W  label_X  label_Y  label_Z  \n",
              "114871        0        0        0        0        0        0  \n",
              "270469        0        0        0        0        0        0  \n",
              "27001         0        0        0        0        0        0  \n",
              "180911        0        0        0        0        0        0  \n",
              "4997          0        0        0        0        0        0  \n",
              "...         ...      ...      ...      ...      ...      ...  \n",
              "128300        0        0        0        0        0        0  \n",
              "182739        0        0        0        0        0        0  \n",
              "90200         0        0        0        0        0        0  \n",
              "117835        0        0        0        0        0        0  \n",
              "252200        0        0        0        0        0        0  \n",
              "\n",
              "[74490 rows x 26 columns]"
            ],
            "text/html": [
              "\n",
              "  <div id=\"df-37e3b53c-3395-483d-b8e4-620fc2be53b3\">\n",
              "    <div class=\"colab-df-container\">\n",
              "      <div>\n",
              "<style scoped>\n",
              "    .dataframe tbody tr th:only-of-type {\n",
              "        vertical-align: middle;\n",
              "    }\n",
              "\n",
              "    .dataframe tbody tr th {\n",
              "        vertical-align: top;\n",
              "    }\n",
              "\n",
              "    .dataframe thead th {\n",
              "        text-align: right;\n",
              "    }\n",
              "</style>\n",
              "<table border=\"1\" class=\"dataframe\">\n",
              "  <thead>\n",
              "    <tr style=\"text-align: right;\">\n",
              "      <th></th>\n",
              "      <th>label_A</th>\n",
              "      <th>label_B</th>\n",
              "      <th>label_C</th>\n",
              "      <th>label_D</th>\n",
              "      <th>label_E</th>\n",
              "      <th>label_F</th>\n",
              "      <th>label_G</th>\n",
              "      <th>label_H</th>\n",
              "      <th>label_I</th>\n",
              "      <th>label_J</th>\n",
              "      <th>...</th>\n",
              "      <th>label_Q</th>\n",
              "      <th>label_R</th>\n",
              "      <th>label_S</th>\n",
              "      <th>label_T</th>\n",
              "      <th>label_U</th>\n",
              "      <th>label_V</th>\n",
              "      <th>label_W</th>\n",
              "      <th>label_X</th>\n",
              "      <th>label_Y</th>\n",
              "      <th>label_Z</th>\n",
              "    </tr>\n",
              "  </thead>\n",
              "  <tbody>\n",
              "    <tr>\n",
              "      <th>114871</th>\n",
              "      <td>0</td>\n",
              "      <td>0</td>\n",
              "      <td>0</td>\n",
              "      <td>0</td>\n",
              "      <td>0</td>\n",
              "      <td>0</td>\n",
              "      <td>0</td>\n",
              "      <td>0</td>\n",
              "      <td>0</td>\n",
              "      <td>0</td>\n",
              "      <td>...</td>\n",
              "      <td>0</td>\n",
              "      <td>0</td>\n",
              "      <td>0</td>\n",
              "      <td>0</td>\n",
              "      <td>0</td>\n",
              "      <td>0</td>\n",
              "      <td>0</td>\n",
              "      <td>0</td>\n",
              "      <td>0</td>\n",
              "      <td>0</td>\n",
              "    </tr>\n",
              "    <tr>\n",
              "      <th>270469</th>\n",
              "      <td>0</td>\n",
              "      <td>0</td>\n",
              "      <td>0</td>\n",
              "      <td>0</td>\n",
              "      <td>0</td>\n",
              "      <td>0</td>\n",
              "      <td>0</td>\n",
              "      <td>0</td>\n",
              "      <td>0</td>\n",
              "      <td>0</td>\n",
              "      <td>...</td>\n",
              "      <td>0</td>\n",
              "      <td>0</td>\n",
              "      <td>1</td>\n",
              "      <td>0</td>\n",
              "      <td>0</td>\n",
              "      <td>0</td>\n",
              "      <td>0</td>\n",
              "      <td>0</td>\n",
              "      <td>0</td>\n",
              "      <td>0</td>\n",
              "    </tr>\n",
              "    <tr>\n",
              "      <th>27001</th>\n",
              "      <td>0</td>\n",
              "      <td>0</td>\n",
              "      <td>1</td>\n",
              "      <td>0</td>\n",
              "      <td>0</td>\n",
              "      <td>0</td>\n",
              "      <td>0</td>\n",
              "      <td>0</td>\n",
              "      <td>0</td>\n",
              "      <td>0</td>\n",
              "      <td>...</td>\n",
              "      <td>0</td>\n",
              "      <td>0</td>\n",
              "      <td>0</td>\n",
              "      <td>0</td>\n",
              "      <td>0</td>\n",
              "      <td>0</td>\n",
              "      <td>0</td>\n",
              "      <td>0</td>\n",
              "      <td>0</td>\n",
              "      <td>0</td>\n",
              "    </tr>\n",
              "    <tr>\n",
              "      <th>180911</th>\n",
              "      <td>0</td>\n",
              "      <td>0</td>\n",
              "      <td>0</td>\n",
              "      <td>0</td>\n",
              "      <td>0</td>\n",
              "      <td>0</td>\n",
              "      <td>0</td>\n",
              "      <td>0</td>\n",
              "      <td>0</td>\n",
              "      <td>0</td>\n",
              "      <td>...</td>\n",
              "      <td>0</td>\n",
              "      <td>0</td>\n",
              "      <td>0</td>\n",
              "      <td>0</td>\n",
              "      <td>0</td>\n",
              "      <td>0</td>\n",
              "      <td>0</td>\n",
              "      <td>0</td>\n",
              "      <td>0</td>\n",
              "      <td>0</td>\n",
              "    </tr>\n",
              "    <tr>\n",
              "      <th>4997</th>\n",
              "      <td>1</td>\n",
              "      <td>0</td>\n",
              "      <td>0</td>\n",
              "      <td>0</td>\n",
              "      <td>0</td>\n",
              "      <td>0</td>\n",
              "      <td>0</td>\n",
              "      <td>0</td>\n",
              "      <td>0</td>\n",
              "      <td>0</td>\n",
              "      <td>...</td>\n",
              "      <td>0</td>\n",
              "      <td>0</td>\n",
              "      <td>0</td>\n",
              "      <td>0</td>\n",
              "      <td>0</td>\n",
              "      <td>0</td>\n",
              "      <td>0</td>\n",
              "      <td>0</td>\n",
              "      <td>0</td>\n",
              "      <td>0</td>\n",
              "    </tr>\n",
              "    <tr>\n",
              "      <th>...</th>\n",
              "      <td>...</td>\n",
              "      <td>...</td>\n",
              "      <td>...</td>\n",
              "      <td>...</td>\n",
              "      <td>...</td>\n",
              "      <td>...</td>\n",
              "      <td>...</td>\n",
              "      <td>...</td>\n",
              "      <td>...</td>\n",
              "      <td>...</td>\n",
              "      <td>...</td>\n",
              "      <td>...</td>\n",
              "      <td>...</td>\n",
              "      <td>...</td>\n",
              "      <td>...</td>\n",
              "      <td>...</td>\n",
              "      <td>...</td>\n",
              "      <td>...</td>\n",
              "      <td>...</td>\n",
              "      <td>...</td>\n",
              "      <td>...</td>\n",
              "    </tr>\n",
              "    <tr>\n",
              "      <th>128300</th>\n",
              "      <td>0</td>\n",
              "      <td>0</td>\n",
              "      <td>0</td>\n",
              "      <td>0</td>\n",
              "      <td>0</td>\n",
              "      <td>0</td>\n",
              "      <td>0</td>\n",
              "      <td>0</td>\n",
              "      <td>0</td>\n",
              "      <td>0</td>\n",
              "      <td>...</td>\n",
              "      <td>0</td>\n",
              "      <td>0</td>\n",
              "      <td>0</td>\n",
              "      <td>0</td>\n",
              "      <td>0</td>\n",
              "      <td>0</td>\n",
              "      <td>0</td>\n",
              "      <td>0</td>\n",
              "      <td>0</td>\n",
              "      <td>0</td>\n",
              "    </tr>\n",
              "    <tr>\n",
              "      <th>182739</th>\n",
              "      <td>0</td>\n",
              "      <td>0</td>\n",
              "      <td>0</td>\n",
              "      <td>0</td>\n",
              "      <td>0</td>\n",
              "      <td>0</td>\n",
              "      <td>0</td>\n",
              "      <td>0</td>\n",
              "      <td>0</td>\n",
              "      <td>0</td>\n",
              "      <td>...</td>\n",
              "      <td>0</td>\n",
              "      <td>0</td>\n",
              "      <td>0</td>\n",
              "      <td>0</td>\n",
              "      <td>0</td>\n",
              "      <td>0</td>\n",
              "      <td>0</td>\n",
              "      <td>0</td>\n",
              "      <td>0</td>\n",
              "      <td>0</td>\n",
              "    </tr>\n",
              "    <tr>\n",
              "      <th>90200</th>\n",
              "      <td>0</td>\n",
              "      <td>0</td>\n",
              "      <td>0</td>\n",
              "      <td>0</td>\n",
              "      <td>0</td>\n",
              "      <td>0</td>\n",
              "      <td>0</td>\n",
              "      <td>0</td>\n",
              "      <td>0</td>\n",
              "      <td>1</td>\n",
              "      <td>...</td>\n",
              "      <td>0</td>\n",
              "      <td>0</td>\n",
              "      <td>0</td>\n",
              "      <td>0</td>\n",
              "      <td>0</td>\n",
              "      <td>0</td>\n",
              "      <td>0</td>\n",
              "      <td>0</td>\n",
              "      <td>0</td>\n",
              "      <td>0</td>\n",
              "    </tr>\n",
              "    <tr>\n",
              "      <th>117835</th>\n",
              "      <td>0</td>\n",
              "      <td>0</td>\n",
              "      <td>0</td>\n",
              "      <td>0</td>\n",
              "      <td>0</td>\n",
              "      <td>0</td>\n",
              "      <td>0</td>\n",
              "      <td>0</td>\n",
              "      <td>0</td>\n",
              "      <td>0</td>\n",
              "      <td>...</td>\n",
              "      <td>0</td>\n",
              "      <td>0</td>\n",
              "      <td>0</td>\n",
              "      <td>0</td>\n",
              "      <td>0</td>\n",
              "      <td>0</td>\n",
              "      <td>0</td>\n",
              "      <td>0</td>\n",
              "      <td>0</td>\n",
              "      <td>0</td>\n",
              "    </tr>\n",
              "    <tr>\n",
              "      <th>252200</th>\n",
              "      <td>0</td>\n",
              "      <td>0</td>\n",
              "      <td>0</td>\n",
              "      <td>0</td>\n",
              "      <td>0</td>\n",
              "      <td>0</td>\n",
              "      <td>0</td>\n",
              "      <td>0</td>\n",
              "      <td>0</td>\n",
              "      <td>0</td>\n",
              "      <td>...</td>\n",
              "      <td>0</td>\n",
              "      <td>0</td>\n",
              "      <td>1</td>\n",
              "      <td>0</td>\n",
              "      <td>0</td>\n",
              "      <td>0</td>\n",
              "      <td>0</td>\n",
              "      <td>0</td>\n",
              "      <td>0</td>\n",
              "      <td>0</td>\n",
              "    </tr>\n",
              "  </tbody>\n",
              "</table>\n",
              "<p>74490 rows × 26 columns</p>\n",
              "</div>\n",
              "      <button class=\"colab-df-convert\" onclick=\"convertToInteractive('df-37e3b53c-3395-483d-b8e4-620fc2be53b3')\"\n",
              "              title=\"Convert this dataframe to an interactive table.\"\n",
              "              style=\"display:none;\">\n",
              "        \n",
              "  <svg xmlns=\"http://www.w3.org/2000/svg\" height=\"24px\"viewBox=\"0 0 24 24\"\n",
              "       width=\"24px\">\n",
              "    <path d=\"M0 0h24v24H0V0z\" fill=\"none\"/>\n",
              "    <path d=\"M18.56 5.44l.94 2.06.94-2.06 2.06-.94-2.06-.94-.94-2.06-.94 2.06-2.06.94zm-11 1L8.5 8.5l.94-2.06 2.06-.94-2.06-.94L8.5 2.5l-.94 2.06-2.06.94zm10 10l.94 2.06.94-2.06 2.06-.94-2.06-.94-.94-2.06-.94 2.06-2.06.94z\"/><path d=\"M17.41 7.96l-1.37-1.37c-.4-.4-.92-.59-1.43-.59-.52 0-1.04.2-1.43.59L10.3 9.45l-7.72 7.72c-.78.78-.78 2.05 0 2.83L4 21.41c.39.39.9.59 1.41.59.51 0 1.02-.2 1.41-.59l7.78-7.78 2.81-2.81c.8-.78.8-2.07 0-2.86zM5.41 20L4 18.59l7.72-7.72 1.47 1.35L5.41 20z\"/>\n",
              "  </svg>\n",
              "      </button>\n",
              "      \n",
              "  <style>\n",
              "    .colab-df-container {\n",
              "      display:flex;\n",
              "      flex-wrap:wrap;\n",
              "      gap: 12px;\n",
              "    }\n",
              "\n",
              "    .colab-df-convert {\n",
              "      background-color: #E8F0FE;\n",
              "      border: none;\n",
              "      border-radius: 50%;\n",
              "      cursor: pointer;\n",
              "      display: none;\n",
              "      fill: #1967D2;\n",
              "      height: 32px;\n",
              "      padding: 0 0 0 0;\n",
              "      width: 32px;\n",
              "    }\n",
              "\n",
              "    .colab-df-convert:hover {\n",
              "      background-color: #E2EBFA;\n",
              "      box-shadow: 0px 1px 2px rgba(60, 64, 67, 0.3), 0px 1px 3px 1px rgba(60, 64, 67, 0.15);\n",
              "      fill: #174EA6;\n",
              "    }\n",
              "\n",
              "    [theme=dark] .colab-df-convert {\n",
              "      background-color: #3B4455;\n",
              "      fill: #D2E3FC;\n",
              "    }\n",
              "\n",
              "    [theme=dark] .colab-df-convert:hover {\n",
              "      background-color: #434B5C;\n",
              "      box-shadow: 0px 1px 3px 1px rgba(0, 0, 0, 0.15);\n",
              "      filter: drop-shadow(0px 1px 2px rgba(0, 0, 0, 0.3));\n",
              "      fill: #FFFFFF;\n",
              "    }\n",
              "  </style>\n",
              "\n",
              "      <script>\n",
              "        const buttonEl =\n",
              "          document.querySelector('#df-37e3b53c-3395-483d-b8e4-620fc2be53b3 button.colab-df-convert');\n",
              "        buttonEl.style.display =\n",
              "          google.colab.kernel.accessAllowed ? 'block' : 'none';\n",
              "\n",
              "        async function convertToInteractive(key) {\n",
              "          const element = document.querySelector('#df-37e3b53c-3395-483d-b8e4-620fc2be53b3');\n",
              "          const dataTable =\n",
              "            await google.colab.kernel.invokeFunction('convertToInteractive',\n",
              "                                                     [key], {});\n",
              "          if (!dataTable) return;\n",
              "\n",
              "          const docLinkHtml = 'Like what you see? Visit the ' +\n",
              "            '<a target=\"_blank\" href=https://colab.research.google.com/notebooks/data_table.ipynb>data table notebook</a>'\n",
              "            + ' to learn more about interactive tables.';\n",
              "          element.innerHTML = '';\n",
              "          dataTable['output_type'] = 'display_data';\n",
              "          await google.colab.output.renderOutput(dataTable, element);\n",
              "          const docLink = document.createElement('div');\n",
              "          docLink.innerHTML = docLinkHtml;\n",
              "          element.appendChild(docLink);\n",
              "        }\n",
              "      </script>\n",
              "    </div>\n",
              "  </div>\n",
              "  "
            ]
          },
          "metadata": {}
        }
      ]
    },
    {
      "cell_type": "markdown",
      "source": [
        "**8.**"
      ],
      "metadata": {
        "id": "Zj9hwwyT3JJS"
      }
    },
    {
      "cell_type": "code",
      "source": [
        "onehot_labels = pd.get_dummies(labels)"
      ],
      "metadata": {
        "id": "kTz2qQUdBaKB"
      },
      "execution_count": 15,
      "outputs": []
    },
    {
      "cell_type": "markdown",
      "source": [
        "## **Phase 2: Implementing Neural Network**"
      ],
      "metadata": {
        "id": "-oxQpzyh3BDI"
      }
    },
    {
      "cell_type": "code",
      "source": [
        "def acc_loss_plot(log):\n",
        "    f = plt.figure()    \n",
        "    f, axes = plt.subplots(nrows = 1, ncols = 2,figsize=(15,10))\n",
        "    axes[0].plot(log.history['accuracy'])\n",
        "    axes[0].plot(log.history['val_accuracy'])\n",
        "    axes[0].legend(['train', 'test'])\n",
        "    axes[0].set_title(\"accuracy\")\n",
        "    axes[0].set(xlabel='epochs')\n",
        "\n",
        "    axes[1].plot(log.history['loss'])\n",
        "    axes[1].plot(log.history['val_loss'])\n",
        "    axes[1].legend(['train', 'test'])\n",
        "    axes[1].set_title(\"loss\")\n",
        "    axes[1].set(xlabel='epochs')\n",
        "    del f\n",
        "    del axes"
      ],
      "metadata": {
        "id": "YzmDXmv_VpIe"
      },
      "execution_count": 8,
      "outputs": []
    },
    {
      "cell_type": "code",
      "source": [
        "def criterion_report(x, y):\n",
        "    y_predict = model.predict(x, verbose = 1)\n",
        "    y_predict = np.argmax(y_predict, axis = 1)\n",
        "\n",
        "    y_true = np.argmax(y, axis=1)\n",
        "\n",
        "    print(classification_report(y_true, y_predict))\n",
        "    del y_predict\n",
        "    del y_true"
      ],
      "metadata": {
        "id": "QGbqGrDnXycW"
      },
      "execution_count": 9,
      "outputs": []
    },
    {
      "cell_type": "code",
      "source": [
        "LEARNING_RATE = 0.01\n",
        "EPOCHS = 10\n",
        "MOMENTUM = 0\n",
        "BATCH_SIZE = 32\n",
        "INPUT_DIM = 28 * 28\n",
        "RELU = 'relu'\n",
        "SIGIMOID = 'sigimoid'\n",
        "TANH = 'tanh'\n",
        "SOFTMAX = 'softmax'"
      ],
      "metadata": {
        "id": "eztrhC2X3UwZ"
      },
      "execution_count": 10,
      "outputs": []
    },
    {
      "cell_type": "code",
      "source": [
        "sgd_optimizer = tf.keras.optimizers.SGD(learning_rate=LEARNING_RATE, momentum=MOMENTUM, nesterov=False, name='SGD')\n",
        "\n",
        "model = tf.keras.Sequential([\n",
        "    tf.keras.layers.Dense(30, activation=RELU),\n",
        "    tf.keras.layers.Dense(30, activation=RELU),\n",
        "    tf.keras.layers.Dense(26, activation=SOFTMAX)\n",
        "])\n",
        "\n",
        "model.compile(optimizer=sgd_optimizer, loss='categorical_crossentropy', metrics=['accuracy'])"
      ],
      "metadata": {
        "id": "ZFW7ic3wOgbH"
      },
      "execution_count": 21,
      "outputs": []
    },
    {
      "cell_type": "markdown",
      "source": [
        "## **Phase 3: Data Classification**"
      ],
      "metadata": {
        "id": "SMzvyt3UGBHR"
      }
    },
    {
      "cell_type": "code",
      "source": [
        "rescaled_x_train = x_train.div(255)\n",
        "rescaled_x_test = x_test.div(255)"
      ],
      "metadata": {
        "id": "ZosDck5JGGIc"
      },
      "execution_count": 26,
      "outputs": []
    },
    {
      "cell_type": "code",
      "source": [
        "xx_train = rescaled_x_train.to_numpy()\n",
        "yy_train = y_train.to_numpy()\n",
        "xx_test = rescaled_x_test.to_numpy()\n",
        "yy_test = y_test.to_numpy()"
      ],
      "metadata": {
        "id": "HS4TsDVl2gUH"
      },
      "execution_count": 11,
      "outputs": []
    },
    {
      "cell_type": "code",
      "source": [
        "log = model.fit(x=xx_train, y=yy_train, epochs=EPOCHS, batch_size = BATCH_SIZE, validation_data=(xx_test, yy_test))"
      ],
      "metadata": {
        "colab": {
          "base_uri": "https://localhost:8080/"
        },
        "id": "57nNmUTsGL3Y",
        "outputId": "fc157aee-df2c-46ee-9328-012f0dc3a23a"
      },
      "execution_count": 22,
      "outputs": [
        {
          "output_type": "stream",
          "name": "stdout",
          "text": [
            "Epoch 1/10\n",
            "9312/9312 [==============================] - 18s 2ms/step - loss: 0.8306 - accuracy: 0.7726 - val_loss: 0.4751 - val_accuracy: 0.8714\n",
            "Epoch 2/10\n",
            "9312/9312 [==============================] - 17s 2ms/step - loss: 0.4036 - accuracy: 0.8901 - val_loss: 0.3513 - val_accuracy: 0.9026\n",
            "Epoch 3/10\n",
            "9312/9312 [==============================] - 18s 2ms/step - loss: 0.3159 - accuracy: 0.9138 - val_loss: 0.2900 - val_accuracy: 0.9216\n",
            "Epoch 4/10\n",
            "9312/9312 [==============================] - 17s 2ms/step - loss: 0.2712 - accuracy: 0.9257 - val_loss: 0.2805 - val_accuracy: 0.9228\n",
            "Epoch 5/10\n",
            "9312/9312 [==============================] - 18s 2ms/step - loss: 0.2449 - accuracy: 0.9327 - val_loss: 0.2452 - val_accuracy: 0.9330\n",
            "Epoch 6/10\n",
            "9312/9312 [==============================] - 18s 2ms/step - loss: 0.2270 - accuracy: 0.9375 - val_loss: 0.2269 - val_accuracy: 0.9381\n",
            "Epoch 7/10\n",
            "9312/9312 [==============================] - 17s 2ms/step - loss: 0.2134 - accuracy: 0.9410 - val_loss: 0.2175 - val_accuracy: 0.9414\n",
            "Epoch 8/10\n",
            "9312/9312 [==============================] - 20s 2ms/step - loss: 0.2024 - accuracy: 0.9441 - val_loss: 0.2110 - val_accuracy: 0.9422\n",
            "Epoch 9/10\n",
            "9312/9312 [==============================] - 17s 2ms/step - loss: 0.1940 - accuracy: 0.9463 - val_loss: 0.2062 - val_accuracy: 0.9429\n",
            "Epoch 10/10\n",
            "9312/9312 [==============================] - 18s 2ms/step - loss: 0.1868 - accuracy: 0.9484 - val_loss: 0.1904 - val_accuracy: 0.9475\n"
          ]
        }
      ]
    },
    {
      "cell_type": "code",
      "source": [
        "acc_loss_plot(log)"
      ],
      "metadata": {
        "colab": {
          "base_uri": "https://localhost:8080/",
          "height": 638
        },
        "id": "p4ycUWUpVcIg",
        "outputId": "0c5be9e2-e3d3-4cef-a629-1e0f5258dc4e"
      },
      "execution_count": 23,
      "outputs": [
        {
          "output_type": "display_data",
          "data": {
            "text/plain": [
              "<Figure size 432x288 with 0 Axes>"
            ]
          },
          "metadata": {}
        },
        {
          "output_type": "display_data",
          "data": {
            "text/plain": [
              "<Figure size 1080x720 with 2 Axes>"
            ],
            "image/png": "[encoded data removed]"
          },
          "metadata": {
            "needs_background": "light"
          }
        }
      ]
    },
    {
      "cell_type": "code",
      "source": [
        "print(\"Train Report: \\n\")\n",
        "criterion_report(xx_train, yy_train)\n",
        "print(\"\\n\\n\\nTest Report: \\n\")\n",
        "criterion_report(xx_test, yy_test)"
      ],
      "metadata": {
        "colab": {
          "base_uri": "https://localhost:8080/"
        },
        "id": "jQWR5QGiWCyG",
        "outputId": "9fdc727b-9872-4937-a17d-a019fd55500c"
      },
      "execution_count": 24,
      "outputs": [
        {
          "output_type": "stream",
          "name": "stdout",
          "text": [
            "Train Report: \n",
            "\n",
            "9312/9312 [==============================] - 11s 1ms/step\n",
            "              precision    recall  f1-score   support\n",
            "\n",
            "           0       0.92      0.96      0.94     11063\n",
            "           1       0.94      0.89      0.91      6995\n",
            "           2       0.96      0.97      0.96     18667\n",
            "           3       0.92      0.87      0.90      8090\n",
            "           4       0.93      0.92      0.92      9226\n",
            "           5       0.91      0.87      0.89       932\n",
            "           6       0.91      0.89      0.90      4579\n",
            "           7       0.88      0.88      0.88      5752\n",
            "           8       0.97      0.83      0.90       883\n",
            "           9       0.93      0.92      0.92      6825\n",
            "          10       0.88      0.85      0.87      4471\n",
            "          11       0.96      0.97      0.96      9267\n",
            "          12       0.94      0.96      0.95      9849\n",
            "          13       0.93      0.94      0.94     15254\n",
            "          14       0.97      0.98      0.98     46196\n",
            "          15       0.96      0.97      0.97     15473\n",
            "          16       0.91      0.88      0.90      4653\n",
            "          17       0.93      0.90      0.91      9270\n",
            "          18       0.97      0.98      0.98     38863\n",
            "          19       0.97      0.98      0.98     18048\n",
            "          20       0.98      0.96      0.97     23148\n",
            "          21       0.97      0.97      0.97      3359\n",
            "          22       0.94      0.93      0.93      8586\n",
            "          23       0.93      0.91      0.92      5003\n",
            "          24       0.93      0.95      0.94      8657\n",
            "          25       0.94      0.93      0.94      4851\n",
            "\n",
            "    accuracy                           0.95    297960\n",
            "   macro avg       0.94      0.93      0.93    297960\n",
            "weighted avg       0.95      0.95      0.95    297960\n",
            "\n",
            "\n",
            "\n",
            "\n",
            "Test Report: \n",
            "\n",
            "2328/2328 [==============================] - 3s 1ms/step\n",
            "              precision    recall  f1-score   support\n",
            "\n",
            "           0       0.91      0.94      0.93      2806\n",
            "           1       0.93      0.88      0.90      1673\n",
            "           2       0.96      0.97      0.96      4742\n",
            "           3       0.92      0.87      0.89      2044\n",
            "           4       0.92      0.92      0.92      2214\n",
            "           5       0.93      0.85      0.89       231\n",
            "           6       0.90      0.88      0.89      1183\n",
            "           7       0.87      0.87      0.87      1466\n",
            "           8       0.96      0.78      0.87       237\n",
            "           9       0.92      0.91      0.92      1668\n",
            "          10       0.89      0.85      0.87      1132\n",
            "          11       0.96      0.97      0.96      2319\n",
            "          12       0.93      0.96      0.94      2487\n",
            "          13       0.93      0.93      0.93      3756\n",
            "          14       0.97      0.98      0.97     11629\n",
            "          15       0.96      0.96      0.96      3868\n",
            "          16       0.92      0.87      0.89      1159\n",
            "          17       0.93      0.89      0.91      2296\n",
            "          18       0.98      0.98      0.98      9556\n",
            "          19       0.97      0.98      0.97      4447\n",
            "          20       0.97      0.95      0.96      5860\n",
            "          21       0.95      0.98      0.96       823\n",
            "          22       0.92      0.92      0.92      2198\n",
            "          23       0.92      0.92      0.92      1269\n",
            "          24       0.92      0.94      0.93      2202\n",
            "          25       0.94      0.93      0.94      1225\n",
            "\n",
            "    accuracy                           0.95     74490\n",
            "   macro avg       0.93      0.92      0.93     74490\n",
            "weighted avg       0.95      0.95      0.95     74490\n",
            "\n"
          ]
        }
      ]
    },
    {
      "cell_type": "code",
      "source": [
        "model.summary()"
      ],
      "metadata": {
        "colab": {
          "base_uri": "https://localhost:8080/"
        },
        "id": "yB-ebbmNYCeE",
        "outputId": "a7d1cf0a-cbf2-4ebe-e566-6a6a1e68736a"
      },
      "execution_count": 25,
      "outputs": [
        {
          "output_type": "stream",
          "name": "stdout",
          "text": [
            "Model: \"sequential_1\"\n",
            "_________________________________________________________________\n",
            " Layer (type)                Output Shape              Param #   \n",
            "=================================================================\n",
            " dense_3 (Dense)             (None, 30)                23550     \n",
            "                                                                 \n",
            " dense_4 (Dense)             (None, 30)                930       \n",
            "                                                                 \n",
            " dense_5 (Dense)             (None, 26)                806       \n",
            "                                                                 \n",
            "=================================================================\n",
            "Total params: 25,286\n",
            "Trainable params: 25,286\n",
            "Non-trainable params: 0\n",
            "_________________________________________________________________\n"
          ]
        }
      ]
    },
    {
      "cell_type": "code",
      "source": [
        "sgd_optimizer = tf.keras.optimizers.SGD(learning_rate=LEARNING_RATE, momentum=MOMENTUM, nesterov=False, name='SGD')\n",
        "\n",
        "model = tf.keras.Sequential([\n",
        "    tf.keras.layers.Dense(30, activation=partial(tf.nn.leaky_relu, alpha=0.01)),\n",
        "    tf.keras.layers.Dense(30, activation=partial(tf.nn.leaky_relu, alpha=0.01)),\n",
        "    tf.keras.layers.Dense(26, activation=SOFTMAX)\n",
        "])\n",
        "\n",
        "model.compile(optimizer=sgd_optimizer, loss='categorical_crossentropy', metrics=['accuracy'])"
      ],
      "metadata": {
        "id": "JEMwHoHrlk8O"
      },
      "execution_count": 26,
      "outputs": []
    },
    {
      "cell_type": "code",
      "source": [
        "log = model.fit(x=xx_train, y=yy_train, epochs=EPOCHS, batch_size = BATCH_SIZE, validation_data=(xx_test, yy_test))"
      ],
      "metadata": {
        "colab": {
          "base_uri": "https://localhost:8080/"
        },
        "id": "SnnITlkBl8bh",
        "outputId": "a5278b1d-2a30-468a-c3f3-7e13df98f54f"
      },
      "execution_count": 27,
      "outputs": [
        {
          "output_type": "stream",
          "name": "stdout",
          "text": [
            "Epoch 1/10\n",
            "9312/9312 [==============================] - 19s 2ms/step - loss: 0.8026 - accuracy: 0.7797 - val_loss: 0.4890 - val_accuracy: 0.8645\n",
            "Epoch 2/10\n",
            "9312/9312 [==============================] - 17s 2ms/step - loss: 0.4096 - accuracy: 0.8883 - val_loss: 0.3553 - val_accuracy: 0.9047\n",
            "Epoch 3/10\n",
            "9312/9312 [==============================] - 18s 2ms/step - loss: 0.3199 - accuracy: 0.9130 - val_loss: 0.2985 - val_accuracy: 0.9188\n",
            "Epoch 4/10\n",
            "9312/9312 [==============================] - 17s 2ms/step - loss: 0.2728 - accuracy: 0.9255 - val_loss: 0.2616 - val_accuracy: 0.9289\n",
            "Epoch 5/10\n",
            "9312/9312 [==============================] - 17s 2ms/step - loss: 0.2444 - accuracy: 0.9328 - val_loss: 0.2407 - val_accuracy: 0.9339\n",
            "Epoch 6/10\n",
            "9312/9312 [==============================] - 18s 2ms/step - loss: 0.2256 - accuracy: 0.9380 - val_loss: 0.2255 - val_accuracy: 0.9391\n",
            "Epoch 7/10\n",
            "9312/9312 [==============================] - 17s 2ms/step - loss: 0.2116 - accuracy: 0.9421 - val_loss: 0.2168 - val_accuracy: 0.9408\n",
            "Epoch 8/10\n",
            "9312/9312 [==============================] - 17s 2ms/step - loss: 0.2014 - accuracy: 0.9450 - val_loss: 0.2033 - val_accuracy: 0.9453\n",
            "Epoch 9/10\n",
            "9312/9312 [==============================] - 18s 2ms/step - loss: 0.1927 - accuracy: 0.9474 - val_loss: 0.1969 - val_accuracy: 0.9474\n",
            "Epoch 10/10\n",
            "9312/9312 [==============================] - 17s 2ms/step - loss: 0.1853 - accuracy: 0.9493 - val_loss: 0.1932 - val_accuracy: 0.9468\n"
          ]
        }
      ]
    },
    {
      "cell_type": "code",
      "source": [
        "acc_loss_plot(log)"
      ],
      "metadata": {
        "colab": {
          "base_uri": "https://localhost:8080/",
          "height": 638
        },
        "id": "EW2_qMwkm4N-",
        "outputId": "08e34dfe-8cfa-411f-867b-270c00a2c651"
      },
      "execution_count": 28,
      "outputs": [
        {
          "output_type": "display_data",
          "data": {
            "text/plain": [
              "<Figure size 432x288 with 0 Axes>"
            ]
          },
          "metadata": {}
        },
        {
          "output_type": "display_data",
          "data": {
            "text/plain": [
              "<Figure size 1080x720 with 2 Axes>"
            ],
            "image/png": "[encoded data removed]"
          },
          "metadata": {
            "needs_background": "light"
          }
        }
      ]
    },
    {
      "cell_type": "code",
      "source": [
        "print(\"Train Report: \\n\")\n",
        "criterion_report(xx_train, yy_train)\n",
        "print(\"\\n\\n\\nTest Report: \\n\")\n",
        "criterion_report(xx_test, yy_test)"
      ],
      "metadata": {
        "colab": {
          "base_uri": "https://localhost:8080/"
        },
        "id": "rDt6bWcUnRYo",
        "outputId": "48d5a289-f15c-4594-e285-ce497fd6fb58"
      },
      "execution_count": 29,
      "outputs": [
        {
          "output_type": "stream",
          "name": "stdout",
          "text": [
            "Train Report: \n",
            "\n",
            "9312/9312 [==============================] - 11s 1ms/step\n",
            "              precision    recall  f1-score   support\n",
            "\n",
            "           0       0.92      0.95      0.93     11063\n",
            "           1       0.94      0.89      0.91      6995\n",
            "           2       0.98      0.95      0.96     18667\n",
            "           3       0.95      0.84      0.89      8090\n",
            "           4       0.92      0.92      0.92      9226\n",
            "           5       0.91      0.93      0.92       932\n",
            "           6       0.89      0.90      0.90      4579\n",
            "           7       0.94      0.88      0.91      5752\n",
            "           8       0.92      0.87      0.89       883\n",
            "           9       0.92      0.92      0.92      6825\n",
            "          10       0.88      0.90      0.89      4471\n",
            "          11       0.95      0.97      0.96      9267\n",
            "          12       0.95      0.94      0.94      9849\n",
            "          13       0.92      0.94      0.93     15254\n",
            "          14       0.96      0.99      0.97     46196\n",
            "          15       0.96      0.97      0.97     15473\n",
            "          16       0.95      0.85      0.89      4653\n",
            "          17       0.94      0.88      0.91      9270\n",
            "          18       0.98      0.98      0.98     38863\n",
            "          19       0.97      0.98      0.97     18048\n",
            "          20       0.96      0.97      0.97     23148\n",
            "          21       0.96      0.97      0.97      3359\n",
            "          22       0.90      0.95      0.93      8586\n",
            "          23       0.94      0.91      0.93      5003\n",
            "          24       0.93      0.94      0.93      8657\n",
            "          25       0.97      0.91      0.94      4851\n",
            "\n",
            "    accuracy                           0.95    297960\n",
            "   macro avg       0.94      0.93      0.93    297960\n",
            "weighted avg       0.95      0.95      0.95    297960\n",
            "\n",
            "\n",
            "\n",
            "\n",
            "Test Report: \n",
            "\n",
            "2328/2328 [==============================] - 4s 2ms/step\n",
            "              precision    recall  f1-score   support\n",
            "\n",
            "           0       0.91      0.94      0.92      2806\n",
            "           1       0.94      0.89      0.91      1673\n",
            "           2       0.98      0.95      0.96      4742\n",
            "           3       0.94      0.84      0.89      2044\n",
            "           4       0.91      0.92      0.91      2214\n",
            "           5       0.92      0.90      0.91       231\n",
            "           6       0.89      0.90      0.89      1183\n",
            "           7       0.93      0.88      0.91      1466\n",
            "           8       0.93      0.88      0.90       237\n",
            "           9       0.92      0.91      0.91      1668\n",
            "          10       0.87      0.90      0.88      1132\n",
            "          11       0.95      0.97      0.96      2319\n",
            "          12       0.95      0.93      0.94      2487\n",
            "          13       0.91      0.93      0.92      3756\n",
            "          14       0.96      0.99      0.97     11629\n",
            "          15       0.96      0.97      0.96      3868\n",
            "          16       0.94      0.85      0.89      1159\n",
            "          17       0.93      0.87      0.90      2296\n",
            "          18       0.98      0.98      0.98      9556\n",
            "          19       0.96      0.98      0.97      4447\n",
            "          20       0.96      0.97      0.96      5860\n",
            "          21       0.95      0.97      0.96       823\n",
            "          22       0.89      0.94      0.91      2198\n",
            "          23       0.93      0.91      0.92      1269\n",
            "          24       0.93      0.92      0.93      2202\n",
            "          25       0.97      0.91      0.94      1225\n",
            "\n",
            "    accuracy                           0.95     74490\n",
            "   macro avg       0.93      0.92      0.93     74490\n",
            "weighted avg       0.95      0.95      0.95     74490\n",
            "\n"
          ]
        }
      ]
    },
    {
      "cell_type": "code",
      "source": [
        "model.summary()"
      ],
      "metadata": {
        "colab": {
          "base_uri": "https://localhost:8080/"
        },
        "id": "FTEXcgoUnVxj",
        "outputId": "9c67156d-7fc1-48ac-978d-e1fe10b88206"
      },
      "execution_count": 30,
      "outputs": [
        {
          "output_type": "stream",
          "name": "stdout",
          "text": [
            "Model: \"sequential_2\"\n",
            "_________________________________________________________________\n",
            " Layer (type)                Output Shape              Param #   \n",
            "=================================================================\n",
            " dense_6 (Dense)             (None, 30)                23550     \n",
            "                                                                 \n",
            " dense_7 (Dense)             (None, 30)                930       \n",
            "                                                                 \n",
            " dense_8 (Dense)             (None, 26)                806       \n",
            "                                                                 \n",
            "=================================================================\n",
            "Total params: 25,286\n",
            "Trainable params: 25,286\n",
            "Non-trainable params: 0\n",
            "_________________________________________________________________\n"
          ]
        }
      ]
    },
    {
      "cell_type": "markdown",
      "source": [
        "## **Investigate the impact of offending changes and questions**"
      ],
      "metadata": {
        "id": "VXXf8ru74o0-"
      }
    },
    {
      "cell_type": "markdown",
      "source": [
        "### **First Section) Impact of Optimizer:**"
      ],
      "metadata": {
        "id": "TaRMYfdY5Ixa"
      }
    },
    {
      "cell_type": "code",
      "source": [
        "MOMENTUM = 0.5"
      ],
      "metadata": {
        "id": "svqGiqGT5G7A"
      },
      "execution_count": 31,
      "outputs": []
    },
    {
      "cell_type": "code",
      "source": [
        "sgd_optimizer = tf.keras.optimizers.SGD(learning_rate=LEARNING_RATE, momentum=MOMENTUM, nesterov=False, name='SGD')\n",
        "\n",
        "model = tf.keras.Sequential([\n",
        "    tf.keras.layers.Dense(30, activation=RELU),\n",
        "    tf.keras.layers.Dense(30, activation=RELU),\n",
        "    tf.keras.layers.Dense(26, activation=SOFTMAX)\n",
        "])\n",
        "\n",
        "model.compile(optimizer=sgd_optimizer, loss='categorical_crossentropy', metrics=['accuracy'])"
      ],
      "metadata": {
        "id": "iaQgO41c5bsp"
      },
      "execution_count": 32,
      "outputs": []
    },
    {
      "cell_type": "code",
      "source": [
        "log = model.fit(x=xx_train, y=yy_train, epochs=EPOCHS, batch_size = BATCH_SIZE, validation_data=(xx_test, yy_test))"
      ],
      "metadata": {
        "colab": {
          "base_uri": "https://localhost:8080/"
        },
        "id": "JcNnNjBl5tXJ",
        "outputId": "a31a1f31-181a-433c-fe09-69556b8a6405"
      },
      "execution_count": 33,
      "outputs": [
        {
          "output_type": "stream",
          "name": "stdout",
          "text": [
            "Epoch 1/10\n",
            "9312/9312 [==============================] - 18s 2ms/step - loss: 0.6608 - accuracy: 0.8169 - val_loss: 0.3764 - val_accuracy: 0.8985\n",
            "Epoch 2/10\n",
            "9312/9312 [==============================] - 17s 2ms/step - loss: 0.3363 - accuracy: 0.9086 - val_loss: 0.2924 - val_accuracy: 0.9208\n",
            "Epoch 3/10\n",
            "9312/9312 [==============================] - 17s 2ms/step - loss: 0.2732 - accuracy: 0.9254 - val_loss: 0.2716 - val_accuracy: 0.9247\n",
            "Epoch 4/10\n",
            "9312/9312 [==============================] - 17s 2ms/step - loss: 0.2393 - accuracy: 0.9349 - val_loss: 0.2457 - val_accuracy: 0.9330\n",
            "Epoch 5/10\n",
            "9312/9312 [==============================] - 17s 2ms/step - loss: 0.2175 - accuracy: 0.9406 - val_loss: 0.2126 - val_accuracy: 0.9418\n",
            "Epoch 6/10\n",
            "9312/9312 [==============================] - 17s 2ms/step - loss: 0.2019 - accuracy: 0.9446 - val_loss: 0.1962 - val_accuracy: 0.9474\n",
            "Epoch 7/10\n",
            "9312/9312 [==============================] - 18s 2ms/step - loss: 0.1902 - accuracy: 0.9476 - val_loss: 0.1996 - val_accuracy: 0.9455\n",
            "Epoch 8/10\n",
            "9312/9312 [==============================] - 21s 2ms/step - loss: 0.1812 - accuracy: 0.9500 - val_loss: 0.1843 - val_accuracy: 0.9504\n",
            "Epoch 9/10\n",
            "9312/9312 [==============================] - 17s 2ms/step - loss: 0.1731 - accuracy: 0.9524 - val_loss: 0.1805 - val_accuracy: 0.9509\n",
            "Epoch 10/10\n",
            "9312/9312 [==============================] - 17s 2ms/step - loss: 0.1675 - accuracy: 0.9536 - val_loss: 0.1834 - val_accuracy: 0.9497\n"
          ]
        }
      ]
    },
    {
      "cell_type": "code",
      "source": [
        "acc_loss_plot(log)"
      ],
      "metadata": {
        "colab": {
          "base_uri": "https://localhost:8080/",
          "height": 638
        },
        "id": "Z6W7a5oe6_tL",
        "outputId": "8f7be949-65f7-4bda-fa9a-cd5b77ac4494"
      },
      "execution_count": 34,
      "outputs": [
        {
          "output_type": "display_data",
          "data": {
            "text/plain": [
              "<Figure size 432x288 with 0 Axes>"
            ]
          },
          "metadata": {}
        },
        {
          "output_type": "display_data",
          "data": {
            "text/plain": [
              "<Figure size 1080x720 with 2 Axes>"
            ],
            "image/png": "[encoded data removed]"
          },
          "metadata": {
            "needs_background": "light"
          }
        }
      ]
    },
    {
      "cell_type": "code",
      "source": [
        "print(\"Train Report: \\n\")\n",
        "criterion_report(xx_train, yy_train)\n",
        "print(\"\\n\\n\\nTest Report: \\n\")\n",
        "criterion_report(xx_test, yy_test)"
      ],
      "metadata": {
        "colab": {
          "base_uri": "https://localhost:8080/"
        },
        "id": "v-5IsypO7Elj",
        "outputId": "a67c0c81-3978-4a5c-cd70-7d3ff613d8c4"
      },
      "execution_count": 35,
      "outputs": [
        {
          "output_type": "stream",
          "name": "stdout",
          "text": [
            "Train Report: \n",
            "\n",
            "9312/9312 [==============================] - 13s 1ms/step\n",
            "              precision    recall  f1-score   support\n",
            "\n",
            "           0       0.91      0.97      0.94     11063\n",
            "           1       0.95      0.90      0.92      6995\n",
            "           2       0.96      0.97      0.97     18667\n",
            "           3       0.94      0.86      0.90      8090\n",
            "           4       0.96      0.92      0.94      9226\n",
            "           5       0.94      0.87      0.91       932\n",
            "           6       0.88      0.94      0.91      4579\n",
            "           7       0.95      0.84      0.89      5752\n",
            "           8       0.89      0.92      0.90       883\n",
            "           9       0.94      0.92      0.93      6825\n",
            "          10       0.93      0.83      0.88      4471\n",
            "          11       0.96      0.97      0.96      9267\n",
            "          12       0.95      0.95      0.95      9849\n",
            "          13       0.94      0.94      0.94     15254\n",
            "          14       0.96      0.99      0.97     46196\n",
            "          15       0.94      0.98      0.96     15473\n",
            "          16       0.85      0.94      0.90      4653\n",
            "          17       0.88      0.94      0.91      9270\n",
            "          18       0.99      0.98      0.98     38863\n",
            "          19       0.99      0.98      0.98     18048\n",
            "          20       0.98      0.95      0.96     23148\n",
            "          21       0.97      0.94      0.95      3359\n",
            "          22       0.97      0.92      0.94      8586\n",
            "          23       0.97      0.91      0.94      5003\n",
            "          24       0.91      0.95      0.93      8657\n",
            "          25       0.96      0.96      0.96      4851\n",
            "\n",
            "    accuracy                           0.95    297960\n",
            "   macro avg       0.94      0.93      0.94    297960\n",
            "weighted avg       0.95      0.95      0.95    297960\n",
            "\n",
            "\n",
            "\n",
            "\n",
            "Test Report: \n",
            "\n",
            "2328/2328 [==============================] - 3s 1ms/step\n",
            "              precision    recall  f1-score   support\n",
            "\n",
            "           0       0.90      0.96      0.93      2806\n",
            "           1       0.94      0.89      0.92      1673\n",
            "           2       0.96      0.97      0.97      4742\n",
            "           3       0.93      0.85      0.89      2044\n",
            "           4       0.94      0.93      0.93      2214\n",
            "           5       0.95      0.83      0.88       231\n",
            "           6       0.88      0.93      0.90      1183\n",
            "           7       0.93      0.82      0.87      1466\n",
            "           8       0.92      0.90      0.91       237\n",
            "           9       0.93      0.91      0.92      1668\n",
            "          10       0.93      0.83      0.87      1132\n",
            "          11       0.95      0.97      0.96      2319\n",
            "          12       0.95      0.95      0.95      2487\n",
            "          13       0.94      0.94      0.94      3756\n",
            "          14       0.96      0.99      0.97     11629\n",
            "          15       0.94      0.98      0.96      3868\n",
            "          16       0.85      0.92      0.89      1159\n",
            "          17       0.87      0.92      0.89      2296\n",
            "          18       0.98      0.98      0.98      9556\n",
            "          19       0.98      0.97      0.98      4447\n",
            "          20       0.98      0.94      0.96      5860\n",
            "          21       0.95      0.95      0.95       823\n",
            "          22       0.97      0.91      0.94      2198\n",
            "          23       0.95      0.91      0.93      1269\n",
            "          24       0.91      0.94      0.92      2202\n",
            "          25       0.96      0.95      0.95      1225\n",
            "\n",
            "    accuracy                           0.95     74490\n",
            "   macro avg       0.94      0.92      0.93     74490\n",
            "weighted avg       0.95      0.95      0.95     74490\n",
            "\n"
          ]
        }
      ]
    },
    {
      "cell_type": "code",
      "source": [
        "model.summary()"
      ],
      "metadata": {
        "colab": {
          "base_uri": "https://localhost:8080/"
        },
        "id": "TJluZ86pHGEH",
        "outputId": "30c1972f-a734-40e1-db2f-97c33a1e60f4"
      },
      "execution_count": 36,
      "outputs": [
        {
          "output_type": "stream",
          "name": "stdout",
          "text": [
            "Model: \"sequential_3\"\n",
            "_________________________________________________________________\n",
            " Layer (type)                Output Shape              Param #   \n",
            "=================================================================\n",
            " dense_9 (Dense)             (None, 30)                23550     \n",
            "                                                                 \n",
            " dense_10 (Dense)            (None, 30)                930       \n",
            "                                                                 \n",
            " dense_11 (Dense)            (None, 26)                806       \n",
            "                                                                 \n",
            "=================================================================\n",
            "Total params: 25,286\n",
            "Trainable params: 25,286\n",
            "Non-trainable params: 0\n",
            "_________________________________________________________________\n"
          ]
        }
      ]
    },
    {
      "cell_type": "code",
      "source": [
        "MOMENTUM = 0.9"
      ],
      "metadata": {
        "id": "XA-0ZQyd6Esn"
      },
      "execution_count": 37,
      "outputs": []
    },
    {
      "cell_type": "code",
      "source": [
        "sgd_optimizer = tf.keras.optimizers.SGD(learning_rate=LEARNING_RATE, momentum=MOMENTUM, nesterov=False, name='SGD')\n",
        "\n",
        "model = tf.keras.Sequential([\n",
        "    tf.keras.layers.Dense(30, activation=RELU),\n",
        "    tf.keras.layers.Dense(30, activation=RELU),\n",
        "    tf.keras.layers.Dense(26, activation=SOFTMAX)\n",
        "])\n",
        "\n",
        "model.compile(optimizer=sgd_optimizer, loss='categorical_crossentropy', metrics=['accuracy'])"
      ],
      "metadata": {
        "id": "OC9SN6SZ6G1I"
      },
      "execution_count": 38,
      "outputs": []
    },
    {
      "cell_type": "code",
      "source": [
        "log = model.fit(x=xx_train, y=yy_train, epochs=EPOCHS, batch_size = BATCH_SIZE, validation_data=(xx_test, yy_test))"
      ],
      "metadata": {
        "colab": {
          "base_uri": "https://localhost:8080/"
        },
        "id": "KvxkDeCu6Gcp",
        "outputId": "f9f91a77-c49d-49d2-9e83-6584f1a8e50e"
      },
      "execution_count": 39,
      "outputs": [
        {
          "output_type": "stream",
          "name": "stdout",
          "text": [
            "Epoch 1/10\n",
            "9312/9312 [==============================] - 18s 2ms/step - loss: 0.4184 - accuracy: 0.8816 - val_loss: 0.2705 - val_accuracy: 0.9237\n",
            "Epoch 2/10\n",
            "9312/9312 [==============================] - 17s 2ms/step - loss: 0.2355 - accuracy: 0.9332 - val_loss: 0.2264 - val_accuracy: 0.9350\n",
            "Epoch 3/10\n",
            "9312/9312 [==============================] - 17s 2ms/step - loss: 0.2050 - accuracy: 0.9420 - val_loss: 0.1884 - val_accuracy: 0.9463\n",
            "Epoch 4/10\n",
            "9312/9312 [==============================] - 18s 2ms/step - loss: 0.1896 - accuracy: 0.9457 - val_loss: 0.1829 - val_accuracy: 0.9489\n",
            "Epoch 5/10\n",
            "9312/9312 [==============================] - 17s 2ms/step - loss: 0.1794 - accuracy: 0.9488 - val_loss: 0.1821 - val_accuracy: 0.9478\n",
            "Epoch 6/10\n",
            "9312/9312 [==============================] - 17s 2ms/step - loss: 0.1735 - accuracy: 0.9500 - val_loss: 0.1789 - val_accuracy: 0.9487\n",
            "Epoch 7/10\n",
            "9312/9312 [==============================] - 17s 2ms/step - loss: 0.1669 - accuracy: 0.9516 - val_loss: 0.1894 - val_accuracy: 0.9456\n",
            "Epoch 8/10\n",
            "9312/9312 [==============================] - 19s 2ms/step - loss: 0.1616 - accuracy: 0.9533 - val_loss: 0.1656 - val_accuracy: 0.9535\n",
            "Epoch 9/10\n",
            "9312/9312 [==============================] - 17s 2ms/step - loss: 0.1570 - accuracy: 0.9546 - val_loss: 0.1782 - val_accuracy: 0.9487\n",
            "Epoch 10/10\n",
            "9312/9312 [==============================] - 18s 2ms/step - loss: 0.1532 - accuracy: 0.9560 - val_loss: 0.1635 - val_accuracy: 0.9533\n"
          ]
        }
      ]
    },
    {
      "cell_type": "code",
      "source": [
        "acc_loss_plot(log)"
      ],
      "metadata": {
        "colab": {
          "base_uri": "https://localhost:8080/",
          "height": 638
        },
        "id": "GXFGQxzb8uPc",
        "outputId": "57fa50be-92e7-4d3a-8e95-e36f1a034d26"
      },
      "execution_count": 40,
      "outputs": [
        {
          "output_type": "display_data",
          "data": {
            "text/plain": [
              "<Figure size 432x288 with 0 Axes>"
            ]
          },
          "metadata": {}
        },
        {
          "output_type": "display_data",
          "data": {
            "text/plain": [
              "<Figure size 1080x720 with 2 Axes>"
            ],
            "image/png": "[encoded data removed]"
          },
          "metadata": {
            "needs_background": "light"
          }
        }
      ]
    },
    {
      "cell_type": "code",
      "source": [
        "print(\"Train Report: \\n\")\n",
        "criterion_report(xx_train, yy_train)\n",
        "print(\"\\n\\n\\nTest Report: \\n\")\n",
        "criterion_report(xx_test, yy_test)"
      ],
      "metadata": {
        "colab": {
          "base_uri": "https://localhost:8080/"
        },
        "id": "WPJx5VJM8xJo",
        "outputId": "91276a34-2c85-498d-c7c0-eb053f6f8e7f"
      },
      "execution_count": 41,
      "outputs": [
        {
          "output_type": "stream",
          "name": "stdout",
          "text": [
            "Train Report: \n",
            "\n",
            "9312/9312 [==============================] - 11s 1ms/step\n",
            "              precision    recall  f1-score   support\n",
            "\n",
            "           0       0.94      0.96      0.95     11063\n",
            "           1       0.92      0.94      0.93      6995\n",
            "           2       0.97      0.97      0.97     18667\n",
            "           3       0.78      0.97      0.87      8090\n",
            "           4       0.96      0.94      0.95      9226\n",
            "           5       0.95      0.92      0.93       932\n",
            "           6       0.95      0.88      0.92      4579\n",
            "           7       0.96      0.88      0.92      5752\n",
            "           8       0.96      0.90      0.93       883\n",
            "           9       0.90      0.95      0.93      6825\n",
            "          10       0.94      0.86      0.90      4471\n",
            "          11       0.94      0.98      0.96      9267\n",
            "          12       0.96      0.97      0.97      9849\n",
            "          13       0.96      0.94      0.95     15254\n",
            "          14       0.99      0.96      0.97     46196\n",
            "          15       0.97      0.98      0.98     15473\n",
            "          16       0.96      0.88      0.92      4653\n",
            "          17       0.92      0.95      0.93      9270\n",
            "          18       0.99      0.98      0.98     38863\n",
            "          19       0.99      0.98      0.98     18048\n",
            "          20       0.97      0.97      0.97     23148\n",
            "          21       0.96      0.98      0.97      3359\n",
            "          22       0.92      0.96      0.94      8586\n",
            "          23       0.94      0.95      0.95      5003\n",
            "          24       0.95      0.95      0.95      8657\n",
            "          25       0.95      0.96      0.96      4851\n",
            "\n",
            "    accuracy                           0.96    297960\n",
            "   macro avg       0.95      0.94      0.95    297960\n",
            "weighted avg       0.96      0.96      0.96    297960\n",
            "\n",
            "\n",
            "\n",
            "\n",
            "Test Report: \n",
            "\n",
            "2328/2328 [==============================] - 3s 1ms/step\n",
            "              precision    recall  f1-score   support\n",
            "\n",
            "           0       0.93      0.95      0.94      2806\n",
            "           1       0.90      0.93      0.92      1673\n",
            "           2       0.97      0.97      0.97      4742\n",
            "           3       0.78      0.96      0.86      2044\n",
            "           4       0.94      0.94      0.94      2214\n",
            "           5       0.95      0.92      0.94       231\n",
            "           6       0.96      0.88      0.92      1183\n",
            "           7       0.94      0.85      0.89      1466\n",
            "           8       0.96      0.88      0.92       237\n",
            "           9       0.90      0.94      0.92      1668\n",
            "          10       0.94      0.85      0.89      1132\n",
            "          11       0.94      0.98      0.96      2319\n",
            "          12       0.96      0.97      0.96      2487\n",
            "          13       0.96      0.94      0.95      3756\n",
            "          14       0.98      0.95      0.97     11629\n",
            "          15       0.96      0.98      0.97      3868\n",
            "          16       0.95      0.86      0.90      1159\n",
            "          17       0.91      0.93      0.92      2296\n",
            "          18       0.98      0.98      0.98      9556\n",
            "          19       0.99      0.98      0.98      4447\n",
            "          20       0.97      0.96      0.97      5860\n",
            "          21       0.95      0.99      0.97       823\n",
            "          22       0.92      0.95      0.94      2198\n",
            "          23       0.93      0.95      0.94      1269\n",
            "          24       0.95      0.94      0.94      2202\n",
            "          25       0.95      0.96      0.95      1225\n",
            "\n",
            "    accuracy                           0.95     74490\n",
            "   macro avg       0.94      0.94      0.94     74490\n",
            "weighted avg       0.95      0.95      0.95     74490\n",
            "\n"
          ]
        }
      ]
    },
    {
      "cell_type": "code",
      "source": [
        "model.summary()"
      ],
      "metadata": {
        "colab": {
          "base_uri": "https://localhost:8080/"
        },
        "id": "Si9j1LukHTB5",
        "outputId": "f026f092-344e-472f-e447-3431b4d878b5"
      },
      "execution_count": 42,
      "outputs": [
        {
          "output_type": "stream",
          "name": "stdout",
          "text": [
            "Model: \"sequential_4\"\n",
            "_________________________________________________________________\n",
            " Layer (type)                Output Shape              Param #   \n",
            "=================================================================\n",
            " dense_12 (Dense)            (None, 30)                23550     \n",
            "                                                                 \n",
            " dense_13 (Dense)            (None, 30)                930       \n",
            "                                                                 \n",
            " dense_14 (Dense)            (None, 26)                806       \n",
            "                                                                 \n",
            "=================================================================\n",
            "Total params: 25,286\n",
            "Trainable params: 25,286\n",
            "Non-trainable params: 0\n",
            "_________________________________________________________________\n"
          ]
        }
      ]
    },
    {
      "cell_type": "code",
      "source": [
        "MOMENTUM = 0.98"
      ],
      "metadata": {
        "id": "2KnapKmS6Mrs"
      },
      "execution_count": 43,
      "outputs": []
    },
    {
      "cell_type": "code",
      "source": [
        "sgd_optimizer = tf.keras.optimizers.SGD(learning_rate=LEARNING_RATE, momentum=MOMENTUM, nesterov=False, name='SGD')\n",
        "\n",
        "model = tf.keras.Sequential([\n",
        "    tf.keras.layers.Dense(30, activation=RELU),\n",
        "    tf.keras.layers.Dense(30, activation=RELU),\n",
        "    tf.keras.layers.Dense(26, activation=SOFTMAX)\n",
        "])\n",
        "\n",
        "model.compile(optimizer=sgd_optimizer, loss='categorical_crossentropy', metrics=['accuracy'])"
      ],
      "metadata": {
        "id": "8uClVt996N7y"
      },
      "execution_count": 44,
      "outputs": []
    },
    {
      "cell_type": "code",
      "source": [
        "log = model.fit(x=xx_train, y=yy_train, epochs=EPOCHS, batch_size = BATCH_SIZE, validation_data=(xx_test, yy_test))"
      ],
      "metadata": {
        "colab": {
          "base_uri": "https://localhost:8080/"
        },
        "id": "s3HKgasb6PVp",
        "outputId": "a15276cf-38a5-4818-ce8e-4465b304c49c"
      },
      "execution_count": 45,
      "outputs": [
        {
          "output_type": "stream",
          "name": "stdout",
          "text": [
            "Epoch 1/10\n",
            "9312/9312 [==============================] - 18s 2ms/step - loss: 0.6588 - accuracy: 0.8239 - val_loss: 0.4863 - val_accuracy: 0.8740\n",
            "Epoch 2/10\n",
            "9312/9312 [==============================] - 17s 2ms/step - loss: 0.5248 - accuracy: 0.8657 - val_loss: 0.5447 - val_accuracy: 0.8643\n",
            "Epoch 3/10\n",
            "9312/9312 [==============================] - 17s 2ms/step - loss: 0.4925 - accuracy: 0.8764 - val_loss: 0.5147 - val_accuracy: 0.8722\n",
            "Epoch 4/10\n",
            "9312/9312 [==============================] - 17s 2ms/step - loss: 0.4793 - accuracy: 0.8814 - val_loss: 0.4618 - val_accuracy: 0.8874\n",
            "Epoch 5/10\n",
            "9312/9312 [==============================] - 17s 2ms/step - loss: 0.4833 - accuracy: 0.8835 - val_loss: 0.4625 - val_accuracy: 0.8898\n",
            "Epoch 6/10\n",
            "9312/9312 [==============================] - 18s 2ms/step - loss: 0.4709 - accuracy: 0.8874 - val_loss: 0.5261 - val_accuracy: 0.8752\n",
            "Epoch 7/10\n",
            "9312/9312 [==============================] - 17s 2ms/step - loss: 0.4816 - accuracy: 0.8858 - val_loss: 0.5447 - val_accuracy: 0.8785\n",
            "Epoch 8/10\n",
            "9312/9312 [==============================] - 17s 2ms/step - loss: 0.4760 - accuracy: 0.8871 - val_loss: 0.5206 - val_accuracy: 0.8737\n",
            "Epoch 9/10\n",
            "9312/9312 [==============================] - 19s 2ms/step - loss: 0.4869 - accuracy: 0.8856 - val_loss: 0.4794 - val_accuracy: 0.8856\n",
            "Epoch 10/10\n",
            "9312/9312 [==============================] - 17s 2ms/step - loss: 0.4679 - accuracy: 0.8895 - val_loss: 0.4542 - val_accuracy: 0.8874\n"
          ]
        }
      ]
    },
    {
      "cell_type": "code",
      "source": [
        "acc_loss_plot(log)"
      ],
      "metadata": {
        "colab": {
          "base_uri": "https://localhost:8080/",
          "height": 638
        },
        "id": "Yr55C4NqCmIm",
        "outputId": "0086b778-e1d3-4d5a-a006-2242b58ef511"
      },
      "execution_count": 46,
      "outputs": [
        {
          "output_type": "display_data",
          "data": {
            "text/plain": [
              "<Figure size 432x288 with 0 Axes>"
            ]
          },
          "metadata": {}
        },
        {
          "output_type": "display_data",
          "data": {
            "text/plain": [
              "<Figure size 1080x720 with 2 Axes>"
            ],
            "image/png": "[encoded data removed]"
          },
          "metadata": {
            "needs_background": "light"
          }
        }
      ]
    },
    {
      "cell_type": "code",
      "source": [
        "print(\"Train Report: \\n\")\n",
        "criterion_report(xx_train, yy_train)\n",
        "print(\"\\n\\n\\nTest Report: \\n\")\n",
        "criterion_report(xx_test, yy_test)"
      ],
      "metadata": {
        "colab": {
          "base_uri": "https://localhost:8080/"
        },
        "id": "EpLHlEDNCpNl",
        "outputId": "18c2b1b3-302a-4741-d1d0-66d4afd42df1"
      },
      "execution_count": 47,
      "outputs": [
        {
          "output_type": "stream",
          "name": "stdout",
          "text": [
            "Train Report: \n",
            "\n",
            "9312/9312 [==============================] - 11s 1ms/step\n",
            "              precision    recall  f1-score   support\n",
            "\n",
            "           0       0.83      0.87      0.85     11063\n",
            "           1       0.93      0.72      0.81      6995\n",
            "           2       0.95      0.89      0.92     18667\n",
            "           3       0.84      0.69      0.76      8090\n",
            "           4       0.78      0.83      0.80      9226\n",
            "           5       0.88      0.87      0.88       932\n",
            "           6       0.75      0.82      0.78      4579\n",
            "           7       0.79      0.79      0.79      5752\n",
            "           8       0.93      0.62      0.74       883\n",
            "           9       0.54      0.92      0.68      6825\n",
            "          10       0.69      0.80      0.74      4471\n",
            "          11       0.92      0.92      0.92      9267\n",
            "          12       0.93      0.88      0.90      9849\n",
            "          13       0.79      0.88      0.83     15254\n",
            "          14       0.93      0.97      0.95     46196\n",
            "          15       0.95      0.93      0.94     15473\n",
            "          16       0.82      0.81      0.81      4653\n",
            "          17       0.86      0.80      0.83      9270\n",
            "          18       0.98      0.95      0.97     38863\n",
            "          19       0.97      0.93      0.95     18048\n",
            "          20       0.92      0.94      0.93     23148\n",
            "          21       0.98      0.68      0.80      3359\n",
            "          22       0.95      0.79      0.86      8586\n",
            "          23       0.84      0.81      0.83      5003\n",
            "          24       0.82      0.87      0.84      8657\n",
            "          25       0.99      0.77      0.87      4851\n",
            "\n",
            "    accuracy                           0.89    297960\n",
            "   macro avg       0.87      0.84      0.85    297960\n",
            "weighted avg       0.90      0.89      0.89    297960\n",
            "\n",
            "\n",
            "\n",
            "\n",
            "Test Report: \n",
            "\n",
            "2328/2328 [==============================] - 3s 1ms/step\n",
            "              precision    recall  f1-score   support\n",
            "\n",
            "           0       0.84      0.87      0.85      2806\n",
            "           1       0.90      0.70      0.79      1673\n",
            "           2       0.95      0.89      0.92      4742\n",
            "           3       0.85      0.71      0.77      2044\n",
            "           4       0.76      0.83      0.80      2214\n",
            "           5       0.86      0.85      0.86       231\n",
            "           6       0.77      0.81      0.79      1183\n",
            "           7       0.78      0.79      0.79      1466\n",
            "           8       0.92      0.63      0.75       237\n",
            "           9       0.52      0.90      0.66      1668\n",
            "          10       0.70      0.79      0.74      1132\n",
            "          11       0.93      0.93      0.93      2319\n",
            "          12       0.92      0.88      0.90      2487\n",
            "          13       0.79      0.87      0.83      3756\n",
            "          14       0.94      0.97      0.96     11629\n",
            "          15       0.95      0.93      0.94      3868\n",
            "          16       0.79      0.80      0.79      1159\n",
            "          17       0.85      0.78      0.81      2296\n",
            "          18       0.98      0.95      0.96      9556\n",
            "          19       0.96      0.94      0.95      4447\n",
            "          20       0.92      0.93      0.93      5860\n",
            "          21       0.98      0.68      0.80       823\n",
            "          22       0.95      0.77      0.85      2198\n",
            "          23       0.86      0.80      0.83      1269\n",
            "          24       0.82      0.86      0.84      2202\n",
            "          25       0.99      0.77      0.87      1225\n",
            "\n",
            "    accuracy                           0.89     74490\n",
            "   macro avg       0.86      0.83      0.84     74490\n",
            "weighted avg       0.90      0.89      0.89     74490\n",
            "\n"
          ]
        }
      ]
    },
    {
      "cell_type": "code",
      "source": [
        "model.summary()"
      ],
      "metadata": {
        "colab": {
          "base_uri": "https://localhost:8080/"
        },
        "id": "KwjdOi-FHYpO",
        "outputId": "71d4ba82-f88e-4ceb-ed2d-e983513dd27c"
      },
      "execution_count": 48,
      "outputs": [
        {
          "output_type": "stream",
          "name": "stdout",
          "text": [
            "Model: \"sequential_5\"\n",
            "_________________________________________________________________\n",
            " Layer (type)                Output Shape              Param #   \n",
            "=================================================================\n",
            " dense_15 (Dense)            (None, 30)                23550     \n",
            "                                                                 \n",
            " dense_16 (Dense)            (None, 30)                930       \n",
            "                                                                 \n",
            " dense_17 (Dense)            (None, 26)                806       \n",
            "                                                                 \n",
            "=================================================================\n",
            "Total params: 25,286\n",
            "Trainable params: 25,286\n",
            "Non-trainable params: 0\n",
            "_________________________________________________________________\n"
          ]
        }
      ]
    },
    {
      "cell_type": "markdown",
      "source": [
        "**Using Adam optimizer**"
      ],
      "metadata": {
        "id": "rZMj_LtQHZ74"
      }
    },
    {
      "cell_type": "code",
      "source": [
        "adam_optimizer = tf.keras.optimizers.Adam()\n",
        "\n",
        "model = tf.keras.Sequential([\n",
        "    tf.keras.layers.Dense(30, activation=RELU),\n",
        "    tf.keras.layers.Dense(30, activation=RELU),\n",
        "    tf.keras.layers.Dense(26, activation=SOFTMAX)\n",
        "])\n",
        "\n",
        "model.compile(optimizer=adam_optimizer, loss='categorical_crossentropy', metrics=['accuracy'])"
      ],
      "metadata": {
        "id": "EK1vVZoqHnas"
      },
      "execution_count": 28,
      "outputs": []
    },
    {
      "cell_type": "code",
      "source": [
        "log = model.fit(x=xx_train, y=yy_train, epochs=EPOCHS, batch_size = BATCH_SIZE, validation_data=(xx_test, yy_test))"
      ],
      "metadata": {
        "colab": {
          "base_uri": "https://localhost:8080/"
        },
        "id": "BV2eP9mYHZq1",
        "outputId": "bbd8861b-425e-411d-b643-176f680aa030"
      },
      "execution_count": 29,
      "outputs": [
        {
          "output_type": "stream",
          "name": "stdout",
          "text": [
            "Epoch 1/10\n",
            "9312/9312 [==============================] - 37s 4ms/step - loss: 1.9407 - accuracy: 0.5076 - val_loss: 1.1439 - val_accuracy: 0.6749\n",
            "Epoch 2/10\n",
            "9312/9312 [==============================] - 33s 3ms/step - loss: 1.0031 - accuracy: 0.7140 - val_loss: 0.9072 - val_accuracy: 0.7410\n",
            "Epoch 3/10\n",
            "9312/9312 [==============================] - 31s 3ms/step - loss: 0.8001 - accuracy: 0.7671 - val_loss: 0.7294 - val_accuracy: 0.7906\n",
            "Epoch 4/10\n",
            "9312/9312 [==============================] - 33s 4ms/step - loss: 0.6877 - accuracy: 0.8016 - val_loss: 0.6796 - val_accuracy: 0.8050\n",
            "Epoch 5/10\n",
            "9312/9312 [==============================] - 33s 4ms/step - loss: 0.6584 - accuracy: 0.8099 - val_loss: 0.6607 - val_accuracy: 0.8104\n",
            "Epoch 6/10\n",
            "9312/9312 [==============================] - 35s 4ms/step - loss: 0.6448 - accuracy: 0.8159 - val_loss: 0.6445 - val_accuracy: 0.8202\n",
            "Epoch 7/10\n",
            "9312/9312 [==============================] - 35s 4ms/step - loss: 0.6375 - accuracy: 0.8191 - val_loss: 0.6970 - val_accuracy: 0.8023\n",
            "Epoch 8/10\n",
            "9312/9312 [==============================] - 32s 3ms/step - loss: 0.6276 - accuracy: 0.8219 - val_loss: 0.6403 - val_accuracy: 0.8169\n",
            "Epoch 9/10\n",
            "9312/9312 [==============================] - 26s 3ms/step - loss: 0.6232 - accuracy: 0.8237 - val_loss: 0.6613 - val_accuracy: 0.8143\n",
            "Epoch 10/10\n",
            "9312/9312 [==============================] - 27s 3ms/step - loss: 0.6159 - accuracy: 0.8258 - val_loss: 0.6142 - val_accuracy: 0.8304\n"
          ]
        }
      ]
    },
    {
      "cell_type": "code",
      "source": [
        "acc_loss_plot(log)"
      ],
      "metadata": {
        "colab": {
          "base_uri": "https://localhost:8080/",
          "height": 638
        },
        "id": "_AJ4oo7VHxw1",
        "outputId": "e1ba9da2-13ae-4a71-ed30-0fa72731edba"
      },
      "execution_count": 15,
      "outputs": [
        {
          "output_type": "display_data",
          "data": {
            "text/plain": [
              "<Figure size 432x288 with 0 Axes>"
            ]
          },
          "metadata": {}
        },
        {
          "output_type": "display_data",
          "data": {
            "text/plain": [
              "<Figure size 1080x720 with 2 Axes>"
            ],
            "image/png": "[encoded data removed]"
          },
          "metadata": {
            "needs_background": "light"
          }
        }
      ]
    },
    {
      "cell_type": "code",
      "source": [
        "print(\"Train Report: \\n\")\n",
        "criterion_report(xx_train, yy_train)\n",
        "print(\"\\n\\n\\nTest Report: \\n\")\n",
        "criterion_report(xx_test, yy_test)"
      ],
      "metadata": {
        "colab": {
          "base_uri": "https://localhost:8080/"
        },
        "id": "oFW1wLNxHxw2",
        "outputId": "763cb10c-451d-4fe7-a715-cff2617ae25c"
      },
      "execution_count": 16,
      "outputs": [
        {
          "output_type": "stream",
          "name": "stdout",
          "text": [
            "Train Report: \n",
            "\n",
            "8730/8730 [==============================] - 13s 1ms/step\n",
            "              precision    recall  f1-score   support\n",
            "\n",
            "           0       0.84      0.87      0.86     10413\n",
            "           1       0.81      0.83      0.82      6548\n",
            "           2       0.94      0.93      0.93     17458\n",
            "           3       0.83      0.78      0.81      7630\n",
            "           4       0.87      0.80      0.83      8637\n",
            "           5       0.88      0.78      0.83       879\n",
            "           6       0.88      0.60      0.71      4311\n",
            "           7       0.72      0.68      0.70      5400\n",
            "           8       0.96      0.24      0.39       820\n",
            "           9       0.86      0.82      0.84      6401\n",
            "          10       0.78      0.81      0.79      4182\n",
            "          11       0.97      0.91      0.94      8730\n",
            "          12       0.92      0.84      0.88      9273\n",
            "          13       0.75      0.92      0.82     14339\n",
            "          14       0.94      0.97      0.96     43227\n",
            "          15       0.92      0.95      0.94     14443\n",
            "          16       0.74      0.84      0.79      4337\n",
            "          17       0.88      0.82      0.85      8728\n",
            "          18       0.95      0.97      0.96     36450\n",
            "          19       0.94      0.97      0.95     16865\n",
            "          20       0.92      0.95      0.93     21723\n",
            "          21       0.96      0.89      0.92      3109\n",
            "          22       0.90      0.81      0.85      8062\n",
            "          23       0.93      0.87      0.90      4683\n",
            "          24       0.93      0.76      0.83      8141\n",
            "          25       0.85      0.90      0.87      4548\n",
            "\n",
            "    accuracy                           0.90    279337\n",
            "   macro avg       0.88      0.83      0.84    279337\n",
            "weighted avg       0.90      0.90      0.90    279337\n",
            "\n",
            "\n",
            "\n",
            "\n",
            "Test Report: \n",
            "\n",
            "2910/2910 [==============================] - 6s 2ms/step\n",
            "              precision    recall  f1-score   support\n",
            "\n",
            "           0       0.83      0.86      0.85      3456\n",
            "           1       0.80      0.82      0.81      2120\n",
            "           2       0.94      0.92      0.93      5951\n",
            "           3       0.83      0.78      0.80      2504\n",
            "           4       0.86      0.80      0.83      2803\n",
            "           5       0.85      0.79      0.82       284\n",
            "           6       0.88      0.61      0.72      1451\n",
            "           7       0.71      0.67      0.69      1818\n",
            "           8       0.91      0.22      0.36       300\n",
            "           9       0.86      0.81      0.83      2092\n",
            "          10       0.78      0.80      0.79      1421\n",
            "          11       0.97      0.92      0.94      2856\n",
            "          12       0.91      0.84      0.88      3063\n",
            "          13       0.74      0.92      0.82      4671\n",
            "          14       0.94      0.97      0.95     14598\n",
            "          15       0.93      0.94      0.94      4898\n",
            "          16       0.72      0.83      0.77      1475\n",
            "          17       0.87      0.81      0.84      2838\n",
            "          18       0.94      0.97      0.96     11969\n",
            "          19       0.94      0.97      0.95      5630\n",
            "          20       0.92      0.94      0.93      7285\n",
            "          21       0.95      0.89      0.92      1073\n",
            "          22       0.90      0.80      0.85      2722\n",
            "          23       0.93      0.88      0.90      1589\n",
            "          24       0.91      0.74      0.82      2718\n",
            "          25       0.85      0.90      0.87      1528\n",
            "\n",
            "    accuracy                           0.89     93113\n",
            "   macro avg       0.87      0.82      0.84     93113\n",
            "weighted avg       0.90      0.89      0.89     93113\n",
            "\n"
          ]
        }
      ]
    },
    {
      "cell_type": "code",
      "source": [
        "model.summary()"
      ],
      "metadata": {
        "colab": {
          "base_uri": "https://localhost:8080/"
        },
        "id": "sRSw_To6Hxw2",
        "outputId": "757b00e0-48c0-4463-94a4-d3a9a5c82d56"
      },
      "execution_count": 17,
      "outputs": [
        {
          "output_type": "stream",
          "name": "stdout",
          "text": [
            "Model: \"sequential\"\n",
            "_________________________________________________________________\n",
            " Layer (type)                Output Shape              Param #   \n",
            "=================================================================\n",
            " dense (Dense)               (None, 30)                23550     \n",
            "                                                                 \n",
            " dense_1 (Dense)             (None, 30)                930       \n",
            "                                                                 \n",
            " dense_2 (Dense)             (None, 26)                806       \n",
            "                                                                 \n",
            "=================================================================\n",
            "Total params: 25,286\n",
            "Trainable params: 25,286\n",
            "Non-trainable params: 0\n",
            "_________________________________________________________________\n"
          ]
        }
      ]
    },
    {
      "cell_type": "markdown",
      "source": [
        "### **Second Section) Impact on the number of Epoch:**"
      ],
      "metadata": {
        "id": "glLN262PIN8L"
      }
    },
    {
      "cell_type": "code",
      "source": [
        "EPOCHS = 20"
      ],
      "metadata": {
        "id": "jE8Er29ADaX4"
      },
      "execution_count": 22,
      "outputs": []
    },
    {
      "cell_type": "code",
      "source": [
        "adam_optimizer = tf.keras.optimizers.Adam()\n",
        "\n",
        "model = tf.keras.Sequential([\n",
        "    tf.keras.layers.Dense(30, activation=RELU),\n",
        "    tf.keras.layers.Dense(30, activation=RELU),\n",
        "    tf.keras.layers.Dense(26, activation=SOFTMAX)\n",
        "])\n",
        "\n",
        "model.compile(optimizer=adam_optimizer, loss='categorical_crossentropy', metrics=['accuracy'])"
      ],
      "metadata": {
        "id": "1bEFQJUTXbdv"
      },
      "execution_count": 23,
      "outputs": []
    },
    {
      "cell_type": "code",
      "source": [
        "log = model.fit(x=xx_train, y=yy_train, epochs=EPOCHS, batch_size = BATCH_SIZE, validation_data=(xx_test, yy_test))"
      ],
      "metadata": {
        "colab": {
          "base_uri": "https://localhost:8080/"
        },
        "id": "81I00-oBDf4h",
        "outputId": "0f14a949-c7bb-42cd-8f24-29ca0c9baf4f"
      },
      "execution_count": 24,
      "outputs": [
        {
          "output_type": "stream",
          "name": "stdout",
          "text": [
            "Epoch 1/20\n",
            "9312/9312 [==============================] - 25s 3ms/step - loss: 0.4362 - accuracy: 0.8799 - val_loss: 0.2726 - val_accuracy: 0.9238\n",
            "Epoch 2/20\n",
            "9312/9312 [==============================] - 19s 2ms/step - loss: 0.2434 - accuracy: 0.9327 - val_loss: 0.2115 - val_accuracy: 0.9410\n",
            "Epoch 3/20\n",
            "9312/9312 [==============================] - 19s 2ms/step - loss: 0.2066 - accuracy: 0.9426 - val_loss: 0.2062 - val_accuracy: 0.9414\n",
            "Epoch 4/20\n",
            "9312/9312 [==============================] - 19s 2ms/step - loss: 0.1867 - accuracy: 0.9484 - val_loss: 0.1798 - val_accuracy: 0.9507\n",
            "Epoch 5/20\n",
            "9312/9312 [==============================] - 19s 2ms/step - loss: 0.1753 - accuracy: 0.9506 - val_loss: 0.1752 - val_accuracy: 0.9515\n",
            "Epoch 6/20\n",
            "9312/9312 [==============================] - 19s 2ms/step - loss: 0.1668 - accuracy: 0.9534 - val_loss: 0.1753 - val_accuracy: 0.9515\n",
            "Epoch 7/20\n",
            "9312/9312 [==============================] - 19s 2ms/step - loss: 0.1604 - accuracy: 0.9547 - val_loss: 0.1652 - val_accuracy: 0.9548\n",
            "Epoch 8/20\n",
            "9312/9312 [==============================] - 19s 2ms/step - loss: 0.1550 - accuracy: 0.9567 - val_loss: 0.1786 - val_accuracy: 0.9504\n",
            "Epoch 9/20\n",
            "9312/9312 [==============================] - 19s 2ms/step - loss: 0.1503 - accuracy: 0.9575 - val_loss: 0.1718 - val_accuracy: 0.9527\n",
            "Epoch 10/20\n",
            "9312/9312 [==============================] - 19s 2ms/step - loss: 0.1472 - accuracy: 0.9583 - val_loss: 0.1637 - val_accuracy: 0.9558\n",
            "Epoch 11/20\n",
            "9312/9312 [==============================] - 19s 2ms/step - loss: 0.1440 - accuracy: 0.9591 - val_loss: 0.1632 - val_accuracy: 0.9546\n",
            "Epoch 12/20\n",
            "9312/9312 [==============================] - 19s 2ms/step - loss: 0.1408 - accuracy: 0.9596 - val_loss: 0.1537 - val_accuracy: 0.9573\n",
            "Epoch 13/20\n",
            "9312/9312 [==============================] - 21s 2ms/step - loss: 0.1379 - accuracy: 0.9609 - val_loss: 0.1627 - val_accuracy: 0.9546\n",
            "Epoch 14/20\n",
            "9312/9312 [==============================] - 19s 2ms/step - loss: 0.1364 - accuracy: 0.9609 - val_loss: 0.1559 - val_accuracy: 0.9553\n",
            "Epoch 15/20\n",
            "9312/9312 [==============================] - 19s 2ms/step - loss: 0.1336 - accuracy: 0.9619 - val_loss: 0.1683 - val_accuracy: 0.9525\n",
            "Epoch 16/20\n",
            "9312/9312 [==============================] - 20s 2ms/step - loss: 0.1324 - accuracy: 0.9622 - val_loss: 0.1518 - val_accuracy: 0.9590\n",
            "Epoch 17/20\n",
            "9312/9312 [==============================] - 19s 2ms/step - loss: 0.1305 - accuracy: 0.9626 - val_loss: 0.1462 - val_accuracy: 0.9611\n",
            "Epoch 18/20\n",
            "9312/9312 [==============================] - 19s 2ms/step - loss: 0.1290 - accuracy: 0.9631 - val_loss: 0.1474 - val_accuracy: 0.9595\n",
            "Epoch 19/20\n",
            "9312/9312 [==============================] - 19s 2ms/step - loss: 0.1273 - accuracy: 0.9631 - val_loss: 0.1539 - val_accuracy: 0.9575\n",
            "Epoch 20/20\n",
            "9312/9312 [==============================] - 19s 2ms/step - loss: 0.1259 - accuracy: 0.9640 - val_loss: 0.1438 - val_accuracy: 0.9607\n"
          ]
        }
      ]
    },
    {
      "cell_type": "code",
      "source": [
        "acc_loss_plot(log)"
      ],
      "metadata": {
        "colab": {
          "base_uri": "https://localhost:8080/",
          "height": 638
        },
        "id": "PtgCIdW6u2uJ",
        "outputId": "6e079738-067c-4ad5-8aa8-c79729a27d60"
      },
      "execution_count": 25,
      "outputs": [
        {
          "output_type": "display_data",
          "data": {
            "text/plain": [
              "<Figure size 432x288 with 0 Axes>"
            ]
          },
          "metadata": {}
        },
        {
          "output_type": "display_data",
          "data": {
            "text/plain": [
              "<Figure size 1080x720 with 2 Axes>"
            ],
            "image/png": "[encoded data removed]"
          },
          "metadata": {
            "needs_background": "light"
          }
        }
      ]
    },
    {
      "cell_type": "code",
      "source": [
        "print(\"Train Report: \\n\")\n",
        "criterion_report(xx_train, yy_train)\n",
        "print(\"\\n\\n\\nTest Report: \\n\")\n",
        "criterion_report(xx_test, yy_test)"
      ],
      "metadata": {
        "colab": {
          "base_uri": "https://localhost:8080/"
        },
        "id": "97UCRW83u4Us",
        "outputId": "72655167-78d1-457f-8106-cb5854919e7e"
      },
      "execution_count": 26,
      "outputs": [
        {
          "output_type": "stream",
          "name": "stdout",
          "text": [
            "Train Report: \n",
            "\n",
            "9312/9312 [==============================] - 11s 1ms/step\n",
            "              precision    recall  f1-score   support\n",
            "\n",
            "           0       0.96      0.97      0.96     11063\n",
            "           1       0.92      0.96      0.94      6995\n",
            "           2       0.97      0.98      0.97     18667\n",
            "           3       0.89      0.95      0.92      8090\n",
            "           4       0.98      0.93      0.95      9226\n",
            "           5       0.92      0.95      0.93       932\n",
            "           6       0.93      0.94      0.94      4579\n",
            "           7       0.92      0.94      0.93      5752\n",
            "           8       0.88      0.96      0.92       883\n",
            "           9       0.95      0.94      0.95      6825\n",
            "          10       0.91      0.94      0.92      4471\n",
            "          11       0.96      0.98      0.97      9267\n",
            "          12       0.95      0.98      0.97      9849\n",
            "          13       0.98      0.94      0.96     15254\n",
            "          14       0.99      0.98      0.98     46196\n",
            "          15       0.97      0.98      0.98     15473\n",
            "          16       0.96      0.91      0.93      4653\n",
            "          17       0.95      0.95      0.95      9270\n",
            "          18       0.99      0.98      0.99     38863\n",
            "          19       0.99      0.98      0.99     18048\n",
            "          20       0.97      0.98      0.98     23148\n",
            "          21       0.98      0.98      0.98      3359\n",
            "          22       0.97      0.96      0.96      8586\n",
            "          23       0.96      0.96      0.96      5003\n",
            "          24       0.97      0.96      0.96      8657\n",
            "          25       0.98      0.96      0.97      4851\n",
            "\n",
            "    accuracy                           0.97    297960\n",
            "   macro avg       0.95      0.96      0.96    297960\n",
            "weighted avg       0.97      0.97      0.97    297960\n",
            "\n",
            "\n",
            "\n",
            "\n",
            "Test Report: \n",
            "\n",
            "2328/2328 [==============================] - 3s 1ms/step\n",
            "              precision    recall  f1-score   support\n",
            "\n",
            "           0       0.96      0.96      0.96      2806\n",
            "           1       0.91      0.95      0.93      1673\n",
            "           2       0.97      0.98      0.97      4742\n",
            "           3       0.88      0.93      0.91      2044\n",
            "           4       0.97      0.92      0.94      2214\n",
            "           5       0.94      0.95      0.94       231\n",
            "           6       0.92      0.93      0.93      1183\n",
            "           7       0.89      0.92      0.90      1466\n",
            "           8       0.88      0.96      0.92       237\n",
            "           9       0.94      0.93      0.94      1668\n",
            "          10       0.89      0.92      0.90      1132\n",
            "          11       0.96      0.97      0.96      2319\n",
            "          12       0.94      0.98      0.96      2487\n",
            "          13       0.97      0.93      0.95      3756\n",
            "          14       0.98      0.97      0.98     11629\n",
            "          15       0.96      0.98      0.97      3868\n",
            "          16       0.94      0.89      0.92      1159\n",
            "          17       0.94      0.93      0.94      2296\n",
            "          18       0.99      0.98      0.98      9556\n",
            "          19       0.98      0.98      0.98      4447\n",
            "          20       0.96      0.98      0.97      5860\n",
            "          21       0.97      0.98      0.97       823\n",
            "          22       0.96      0.93      0.95      2198\n",
            "          23       0.94      0.96      0.95      1269\n",
            "          24       0.96      0.94      0.95      2202\n",
            "          25       0.97      0.94      0.96      1225\n",
            "\n",
            "    accuracy                           0.96     74490\n",
            "   macro avg       0.95      0.95      0.95     74490\n",
            "weighted avg       0.96      0.96      0.96     74490\n",
            "\n"
          ]
        }
      ]
    },
    {
      "cell_type": "code",
      "source": [
        "model.summary()"
      ],
      "metadata": {
        "colab": {
          "base_uri": "https://localhost:8080/"
        },
        "id": "5uloTFmmu34l",
        "outputId": "5a7eaee8-c70c-460f-93d8-92f31127ee20"
      },
      "execution_count": 27,
      "outputs": [
        {
          "output_type": "stream",
          "name": "stdout",
          "text": [
            "Model: \"sequential_1\"\n",
            "_________________________________________________________________\n",
            " Layer (type)                Output Shape              Param #   \n",
            "=================================================================\n",
            " dense_3 (Dense)             (None, 30)                23550     \n",
            "                                                                 \n",
            " dense_4 (Dense)             (None, 30)                930       \n",
            "                                                                 \n",
            " dense_5 (Dense)             (None, 26)                806       \n",
            "                                                                 \n",
            "=================================================================\n",
            "Total params: 25,286\n",
            "Trainable params: 25,286\n",
            "Non-trainable params: 0\n",
            "_________________________________________________________________\n"
          ]
        }
      ]
    },
    {
      "cell_type": "markdown",
      "source": [
        "### **Third Section) Impact of Loss Function:**"
      ],
      "metadata": {
        "id": "kknjFXyovQhQ"
      }
    },
    {
      "cell_type": "code",
      "source": [
        "EPOCHS = 10"
      ],
      "metadata": {
        "id": "kXzDmxR0vf7M"
      },
      "execution_count": 17,
      "outputs": []
    },
    {
      "cell_type": "code",
      "source": [
        "adam_optimizer = tf.keras.optimizers.Adam()\n",
        "\n",
        "model = tf.keras.Sequential([\n",
        "    tf.keras.layers.Dense(30, input_dim=INPUT_DIM, activation=RELU),\n",
        "    tf.keras.layers.Dense(30, activation=RELU),\n",
        "    tf.keras.layers.Dense(26, activation=SOFTMAX)\n",
        "])\n",
        "\n",
        "model.compile(optimizer=adam_optimizer, loss='mse', metrics=['accuracy'])"
      ],
      "metadata": {
        "id": "x0zdJphvvOsE"
      },
      "execution_count": 30,
      "outputs": []
    },
    {
      "cell_type": "code",
      "source": [
        "log = model.fit(x=xx_train, y=yy_train, epochs=EPOCHS, batch_size = BATCH_SIZE, validation_data=(xx_test, yy_test))"
      ],
      "metadata": {
        "colab": {
          "base_uri": "https://localhost:8080/"
        },
        "id": "YdVskIsQvjvp",
        "outputId": "8dbf71e3-87f2-4ab3-89f2-7504dac31794"
      },
      "execution_count": 34,
      "outputs": [
        {
          "output_type": "stream",
          "name": "stdout",
          "text": [
            "Epoch 1/10\n",
            "9312/9312 [==============================] - 37s 4ms/step - loss: 0.0291 - accuracy: 0.6216 - val_loss: 0.0247 - val_accuracy: 0.6784\n",
            "Epoch 2/10\n",
            "9312/9312 [==============================] - 27s 3ms/step - loss: 0.0243 - accuracy: 0.6844 - val_loss: 0.0238 - val_accuracy: 0.6902\n",
            "Epoch 3/10\n",
            "9312/9312 [==============================] - 26s 3ms/step - loss: 0.0258 - accuracy: 0.6639 - val_loss: 0.0241 - val_accuracy: 0.6871\n",
            "Epoch 4/10\n",
            "9312/9312 [==============================] - 24s 3ms/step - loss: 0.0244 - accuracy: 0.6822 - val_loss: 0.0263 - val_accuracy: 0.6576\n",
            "Epoch 5/10\n",
            "9312/9312 [==============================] - 25s 3ms/step - loss: 0.0233 - accuracy: 0.6971 - val_loss: 0.0236 - val_accuracy: 0.6928\n",
            "Epoch 6/10\n",
            "9312/9312 [==============================] - 27s 3ms/step - loss: 0.0236 - accuracy: 0.6935 - val_loss: 0.0240 - val_accuracy: 0.6884\n",
            "Epoch 7/10\n",
            "9312/9312 [==============================] - 26s 3ms/step - loss: 0.0230 - accuracy: 0.7008 - val_loss: 0.0222 - val_accuracy: 0.7112\n",
            "Epoch 8/10\n",
            "9312/9312 [==============================] - 27s 3ms/step - loss: 0.0226 - accuracy: 0.7057 - val_loss: 0.0223 - val_accuracy: 0.7104\n",
            "Epoch 9/10\n",
            "9312/9312 [==============================] - 27s 3ms/step - loss: 0.0238 - accuracy: 0.6911 - val_loss: 0.0216 - val_accuracy: 0.7185\n",
            "Epoch 10/10\n",
            "9312/9312 [==============================] - 28s 3ms/step - loss: 0.0236 - accuracy: 0.6927 - val_loss: 0.0213 - val_accuracy: 0.7228\n"
          ]
        }
      ]
    },
    {
      "cell_type": "code",
      "source": [
        "acc_loss_plot(log)"
      ],
      "metadata": {
        "colab": {
          "base_uri": "https://localhost:8080/",
          "height": 638
        },
        "id": "_HJXalFovoDJ",
        "outputId": "26e241e7-bbd3-498d-e044-60af95613d5c"
      },
      "execution_count": 35,
      "outputs": [
        {
          "output_type": "display_data",
          "data": {
            "text/plain": [
              "<Figure size 432x288 with 0 Axes>"
            ]
          },
          "metadata": {}
        },
        {
          "output_type": "display_data",
          "data": {
            "text/plain": [
              "<Figure size 1080x720 with 2 Axes>"
            ],
            "image/png": "[encoded data removed]"
          },
          "metadata": {
            "needs_background": "light"
          }
        }
      ]
    },
    {
      "cell_type": "code",
      "source": [
        "print(\"Train Report: \\n\")\n",
        "criterion_report(xx_train, yy_train)\n",
        "print(\"\\n\\n\\nTest Report: \\n\")\n",
        "criterion_report(xx_test, yy_test)"
      ],
      "metadata": {
        "colab": {
          "base_uri": "https://localhost:8080/"
        },
        "id": "zcA0fX98vy5s",
        "outputId": "6a686842-8191-414b-c7e1-e0d5299c4196"
      },
      "execution_count": 38,
      "outputs": [
        {
          "output_type": "stream",
          "name": "stdout",
          "text": [
            "Train Report: \n",
            "\n",
            "9312/9312 [==============================] - 13s 1ms/step\n"
          ]
        },
        {
          "output_type": "stream",
          "name": "stderr",
          "text": [
            "/usr/local/lib/python3.7/dist-packages/sklearn/metrics/_classification.py:1318: UndefinedMetricWarning: Precision and F-score are ill-defined and being set to 0.0 in labels with no predicted samples. Use `zero_division` parameter to control this behavior.\n",
            "  _warn_prf(average, modifier, msg_start, len(result))\n",
            "/usr/local/lib/python3.7/dist-packages/sklearn/metrics/_classification.py:1318: UndefinedMetricWarning: Precision and F-score are ill-defined and being set to 0.0 in labels with no predicted samples. Use `zero_division` parameter to control this behavior.\n",
            "  _warn_prf(average, modifier, msg_start, len(result))\n"
          ]
        },
        {
          "output_type": "stream",
          "name": "stdout",
          "text": [
            "              precision    recall  f1-score   support\n",
            "\n",
            "           0       0.75      0.65      0.69     11063\n",
            "           1       0.00      0.00      0.00      6995\n",
            "           2       0.93      0.77      0.84     18667\n",
            "           3       0.63      0.68      0.65      8090\n",
            "           4       0.39      0.80      0.52      9226\n",
            "           5       0.00      0.00      0.00       932\n",
            "           6       0.31      0.73      0.43      4579\n",
            "           7       0.00      0.00      0.00      5752\n",
            "           8       0.00      0.00      0.00       883\n",
            "           9       0.63      0.44      0.52      6825\n",
            "          10       0.68      0.30      0.41      4471\n",
            "          11       0.91      0.77      0.83      9267\n",
            "          12       0.77      0.83      0.80      9849\n",
            "          13       0.51      0.82      0.62     15254\n",
            "          14       0.91      0.89      0.90     46196\n",
            "          15       0.89      0.76      0.82     15473\n",
            "          16       0.00      0.00      0.00      4653\n",
            "          17       0.58      0.25      0.35      9270\n",
            "          18       0.70      0.94      0.80     38863\n",
            "          19       0.84      0.92      0.88     18048\n",
            "          20       0.75      0.85      0.79     23148\n",
            "          21       0.89      0.27      0.42      3359\n",
            "          22       0.72      0.76      0.74      8586\n",
            "          23       0.97      0.25      0.40      5003\n",
            "          24       0.77      0.71      0.74      8657\n",
            "          25       0.65      0.70      0.67      4851\n",
            "\n",
            "    accuracy                           0.72    297960\n",
            "   macro avg       0.58      0.54      0.53    297960\n",
            "weighted avg       0.71      0.72      0.70    297960\n",
            "\n",
            "\n",
            "\n",
            "\n",
            "Test Report: \n",
            "\n",
            "\r   1/2328 [..............................] - ETA: 43s"
          ]
        },
        {
          "output_type": "stream",
          "name": "stderr",
          "text": [
            "/usr/local/lib/python3.7/dist-packages/sklearn/metrics/_classification.py:1318: UndefinedMetricWarning: Precision and F-score are ill-defined and being set to 0.0 in labels with no predicted samples. Use `zero_division` parameter to control this behavior.\n",
            "  _warn_prf(average, modifier, msg_start, len(result))\n"
          ]
        },
        {
          "output_type": "stream",
          "name": "stdout",
          "text": [
            "2328/2328 [==============================] - 3s 1ms/step\n",
            "              precision    recall  f1-score   support\n",
            "\n",
            "           0       0.74      0.65      0.69      2806\n",
            "           1       0.00      0.00      0.00      1673\n",
            "           2       0.94      0.77      0.84      4742\n",
            "           3       0.64      0.69      0.67      2044\n",
            "           4       0.38      0.81      0.52      2214\n",
            "           5       0.00      0.00      0.00       231\n",
            "           6       0.31      0.73      0.44      1183\n",
            "           7       0.00      0.00      0.00      1466\n",
            "           8       0.00      0.00      0.00       237\n",
            "           9       0.62      0.42      0.50      1668\n",
            "          10       0.71      0.29      0.41      1132\n",
            "          11       0.92      0.79      0.85      2319\n",
            "          12       0.76      0.84      0.80      2487\n",
            "          13       0.50      0.81      0.62      3756\n",
            "          14       0.91      0.89      0.90     11629\n",
            "          15       0.89      0.77      0.82      3868\n",
            "          16       0.00      0.00      0.00      1159\n",
            "          17       0.55      0.24      0.33      2296\n",
            "          18       0.70      0.94      0.80      9556\n",
            "          19       0.84      0.92      0.88      4447\n",
            "          20       0.75      0.83      0.79      5860\n",
            "          21       0.84      0.26      0.39       823\n",
            "          22       0.70      0.74      0.72      2198\n",
            "          23       0.96      0.28      0.44      1269\n",
            "          24       0.78      0.69      0.73      2202\n",
            "          25       0.64      0.69      0.66      1225\n",
            "\n",
            "    accuracy                           0.72     74490\n",
            "   macro avg       0.58      0.54      0.53     74490\n",
            "weighted avg       0.71      0.72      0.70     74490\n",
            "\n"
          ]
        },
        {
          "output_type": "stream",
          "name": "stderr",
          "text": [
            "/usr/local/lib/python3.7/dist-packages/sklearn/metrics/_classification.py:1318: UndefinedMetricWarning: Precision and F-score are ill-defined and being set to 0.0 in labels with no predicted samples. Use `zero_division` parameter to control this behavior.\n",
            "  _warn_prf(average, modifier, msg_start, len(result))\n",
            "/usr/local/lib/python3.7/dist-packages/sklearn/metrics/_classification.py:1318: UndefinedMetricWarning: Precision and F-score are ill-defined and being set to 0.0 in labels with no predicted samples. Use `zero_division` parameter to control this behavior.\n",
            "  _warn_prf(average, modifier, msg_start, len(result))\n",
            "/usr/local/lib/python3.7/dist-packages/sklearn/metrics/_classification.py:1318: UndefinedMetricWarning: Precision and F-score are ill-defined and being set to 0.0 in labels with no predicted samples. Use `zero_division` parameter to control this behavior.\n",
            "  _warn_prf(average, modifier, msg_start, len(result))\n"
          ]
        }
      ]
    },
    {
      "cell_type": "code",
      "source": [
        "model.summary()"
      ],
      "metadata": {
        "colab": {
          "base_uri": "https://localhost:8080/"
        },
        "id": "Uj4NMLIdv0XZ",
        "outputId": "e977e798-1414-45a4-b5a9-6d4405a11db0"
      },
      "execution_count": 37,
      "outputs": [
        {
          "output_type": "stream",
          "name": "stdout",
          "text": [
            "Model: \"sequential_3\"\n",
            "_________________________________________________________________\n",
            " Layer (type)                Output Shape              Param #   \n",
            "=================================================================\n",
            " dense_9 (Dense)             (None, 30)                23550     \n",
            "                                                                 \n",
            " dense_10 (Dense)            (None, 30)                930       \n",
            "                                                                 \n",
            " dense_11 (Dense)            (None, 26)                806       \n",
            "                                                                 \n",
            "=================================================================\n",
            "Total params: 25,286\n",
            "Trainable params: 25,286\n",
            "Non-trainable params: 0\n",
            "_________________________________________________________________\n"
          ]
        }
      ]
    },
    {
      "cell_type": "markdown",
      "source": [
        "### **Fourth Section) Impact of Regularization:**"
      ],
      "metadata": {
        "id": "1ngGd2AI0LiK"
      }
    },
    {
      "cell_type": "markdown",
      "source": [
        "**1. Regularization L2**"
      ],
      "metadata": {
        "id": "fiMk77Ez0Ws4"
      }
    },
    {
      "cell_type": "code",
      "source": [
        "adam_optimizer = tf.keras.optimizers.Adam()\n",
        "\n",
        "model = tf.keras.Sequential([\n",
        "    tf.keras.layers.Dense(30, activation=RELU, kernel_regularizer=tf.keras.regularizers.l2(0.0001)),\n",
        "    tf.keras.layers.Dense(30, activation=RELU, kernel_regularizer=tf.keras.regularizers.l2(0.0001)),\n",
        "    tf.keras.layers.Dense(26, activation=SOFTMAX, kernel_regularizer=tf.keras.regularizers.l2(0.0001))\n",
        "])\n",
        "\n",
        "model.compile(optimizer=adam_optimizer, loss='categorical_crossentropy', metrics=['accuracy'])"
      ],
      "metadata": {
        "id": "vfHoySNS0eLL"
      },
      "execution_count": 25,
      "outputs": []
    },
    {
      "cell_type": "code",
      "source": [
        "log = model.fit(x=xx_train, y=yy_train, epochs=EPOCHS, batch_size = BATCH_SIZE, validation_data=(xx_test, yy_test))"
      ],
      "metadata": {
        "colab": {
          "base_uri": "https://localhost:8080/"
        },
        "id": "S_Gmrsd95W8g",
        "outputId": "b2289286-a823-4dee-c436-333da0f0f864"
      },
      "execution_count": 26,
      "outputs": [
        {
          "output_type": "stream",
          "name": "stdout",
          "text": [
            "Epoch 1/10\n",
            "9312/9312 [==============================] - 21s 2ms/step - loss: 0.4492 - accuracy: 0.8839 - val_loss: 0.2986 - val_accuracy: 0.9251\n",
            "Epoch 2/10\n",
            "9312/9312 [==============================] - 21s 2ms/step - loss: 0.2770 - accuracy: 0.9332 - val_loss: 0.2525 - val_accuracy: 0.9399\n",
            "Epoch 3/10\n",
            "9312/9312 [==============================] - 20s 2ms/step - loss: 0.2473 - accuracy: 0.9421 - val_loss: 0.2289 - val_accuracy: 0.9479\n",
            "Epoch 4/10\n",
            "9312/9312 [==============================] - 21s 2ms/step - loss: 0.2308 - accuracy: 0.9474 - val_loss: 0.2474 - val_accuracy: 0.9430\n",
            "Epoch 5/10\n",
            "9312/9312 [==============================] - 20s 2ms/step - loss: 0.2200 - accuracy: 0.9507 - val_loss: 0.2198 - val_accuracy: 0.9503\n",
            "Epoch 6/10\n",
            "9312/9312 [==============================] - 20s 2ms/step - loss: 0.2130 - accuracy: 0.9528 - val_loss: 0.2214 - val_accuracy: 0.9501\n",
            "Epoch 7/10\n",
            "9312/9312 [==============================] - 20s 2ms/step - loss: 0.2078 - accuracy: 0.9540 - val_loss: 0.2083 - val_accuracy: 0.9547\n",
            "Epoch 8/10\n",
            "9312/9312 [==============================] - 25s 3ms/step - loss: 0.2040 - accuracy: 0.9552 - val_loss: 0.2082 - val_accuracy: 0.9549\n",
            "Epoch 9/10\n",
            "9312/9312 [==============================] - 28s 3ms/step - loss: 0.2013 - accuracy: 0.9561 - val_loss: 0.2127 - val_accuracy: 0.9536\n",
            "Epoch 10/10\n",
            "9312/9312 [==============================] - 27s 3ms/step - loss: 0.1991 - accuracy: 0.9569 - val_loss: 0.2029 - val_accuracy: 0.9570\n"
          ]
        }
      ]
    },
    {
      "cell_type": "code",
      "source": [
        "acc_loss_plot(log)"
      ],
      "metadata": {
        "colab": {
          "base_uri": "https://localhost:8080/",
          "height": 638
        },
        "id": "04DUKia86n_W",
        "outputId": "e41f187e-89dc-473e-ab5e-6cfc904ed3e2"
      },
      "execution_count": 27,
      "outputs": [
        {
          "output_type": "display_data",
          "data": {
            "text/plain": [
              "<Figure size 432x288 with 0 Axes>"
            ]
          },
          "metadata": {}
        },
        {
          "output_type": "display_data",
          "data": {
            "text/plain": [
              "<Figure size 1080x720 with 2 Axes>"
            ],
            "image/png": "[encoded data removed]"
          },
          "metadata": {
            "needs_background": "light"
          }
        }
      ]
    },
    {
      "cell_type": "code",
      "source": [
        "print(\"Train Report: \\n\")\n",
        "criterion_report(xx_train, yy_train)\n",
        "print(\"\\n\\n\\nTest Report: \\n\")\n",
        "criterion_report(xx_test, yy_test)"
      ],
      "metadata": {
        "colab": {
          "base_uri": "https://localhost:8080/"
        },
        "id": "CF-6hTZS6o6N",
        "outputId": "822d1a46-f0fb-418a-8d5f-3c0bf421e8d7"
      },
      "execution_count": 28,
      "outputs": [
        {
          "output_type": "stream",
          "name": "stdout",
          "text": [
            "Train Report: \n",
            "\n",
            "9312/9312 [==============================] - 11s 1ms/step\n",
            "              precision    recall  f1-score   support\n",
            "\n",
            "           0       0.97      0.93      0.95     11063\n",
            "           1       0.92      0.94      0.93      6995\n",
            "           2       0.97      0.97      0.97     18667\n",
            "           3       0.95      0.86      0.90      8090\n",
            "           4       0.97      0.92      0.94      9226\n",
            "           5       0.96      0.87      0.91       932\n",
            "           6       0.91      0.93      0.92      4579\n",
            "           7       0.92      0.90      0.91      5752\n",
            "           8       0.97      0.89      0.93       883\n",
            "           9       0.93      0.92      0.93      6825\n",
            "          10       0.92      0.89      0.90      4471\n",
            "          11       0.98      0.96      0.97      9267\n",
            "          12       0.96      0.97      0.96      9849\n",
            "          13       0.95      0.95      0.95     15254\n",
            "          14       0.97      0.99      0.98     46196\n",
            "          15       0.98      0.97      0.97     15473\n",
            "          16       0.94      0.92      0.93      4653\n",
            "          17       0.93      0.95      0.94      9270\n",
            "          18       0.99      0.98      0.98     38863\n",
            "          19       0.97      0.99      0.98     18048\n",
            "          20       0.95      0.99      0.97     23148\n",
            "          21       0.98      0.97      0.97      3359\n",
            "          22       0.93      0.96      0.94      8586\n",
            "          23       0.97      0.92      0.95      5003\n",
            "          24       0.95      0.93      0.94      8657\n",
            "          25       0.97      0.96      0.96      4851\n",
            "\n",
            "    accuracy                           0.96    297960\n",
            "   macro avg       0.95      0.94      0.95    297960\n",
            "weighted avg       0.96      0.96      0.96    297960\n",
            "\n",
            "\n",
            "\n",
            "\n",
            "Test Report: \n",
            "\n",
            "2328/2328 [==============================] - 3s 1ms/step\n",
            "              precision    recall  f1-score   support\n",
            "\n",
            "           0       0.96      0.92      0.94      2806\n",
            "           1       0.89      0.94      0.91      1673\n",
            "           2       0.97      0.98      0.97      4742\n",
            "           3       0.94      0.87      0.90      2044\n",
            "           4       0.97      0.92      0.94      2214\n",
            "           5       0.98      0.86      0.91       231\n",
            "           6       0.91      0.93      0.92      1183\n",
            "           7       0.91      0.88      0.89      1466\n",
            "           8       0.98      0.89      0.94       237\n",
            "           9       0.93      0.92      0.92      1668\n",
            "          10       0.93      0.89      0.91      1132\n",
            "          11       0.98      0.96      0.97      2319\n",
            "          12       0.95      0.96      0.95      2487\n",
            "          13       0.95      0.95      0.95      3756\n",
            "          14       0.97      0.98      0.98     11629\n",
            "          15       0.97      0.97      0.97      3868\n",
            "          16       0.95      0.92      0.93      1159\n",
            "          17       0.92      0.94      0.93      2296\n",
            "          18       0.99      0.98      0.98      9556\n",
            "          19       0.97      0.98      0.98      4447\n",
            "          20       0.95      0.98      0.96      5860\n",
            "          21       0.97      0.98      0.97       823\n",
            "          22       0.92      0.94      0.93      2198\n",
            "          23       0.97      0.93      0.95      1269\n",
            "          24       0.95      0.93      0.94      2202\n",
            "          25       0.96      0.95      0.96      1225\n",
            "\n",
            "    accuracy                           0.96     74490\n",
            "   macro avg       0.95      0.94      0.94     74490\n",
            "weighted avg       0.96      0.96      0.96     74490\n",
            "\n"
          ]
        }
      ]
    },
    {
      "cell_type": "code",
      "source": [
        "model.summary()"
      ],
      "metadata": {
        "colab": {
          "base_uri": "https://localhost:8080/"
        },
        "id": "gKKDhGLZ6ojR",
        "outputId": "1166f7e3-8ffd-4960-e701-01e7cc33357c"
      },
      "execution_count": 29,
      "outputs": [
        {
          "output_type": "stream",
          "name": "stdout",
          "text": [
            "Model: \"sequential_4\"\n",
            "_________________________________________________________________\n",
            " Layer (type)                Output Shape              Param #   \n",
            "=================================================================\n",
            " dense_12 (Dense)            (None, 30)                23550     \n",
            "                                                                 \n",
            " dense_13 (Dense)            (None, 30)                930       \n",
            "                                                                 \n",
            " dense_14 (Dense)            (None, 26)                806       \n",
            "                                                                 \n",
            "=================================================================\n",
            "Total params: 25,286\n",
            "Trainable params: 25,286\n",
            "Non-trainable params: 0\n",
            "_________________________________________________________________\n"
          ]
        }
      ]
    },
    {
      "cell_type": "markdown",
      "source": [
        "**2. Dropout**"
      ],
      "metadata": {
        "id": "EUk6Ps6J0dv-"
      }
    },
    {
      "cell_type": "code",
      "source": [
        "adam_optimizer = tf.keras.optimizers.Adam()\n",
        "\n",
        "model = tf.keras.Sequential([\n",
        "    tf.keras.layers.Dense(30, activation=RELU),\n",
        "    tf.keras.layers.Dropout(0.1),\n",
        "    tf.keras.layers.Dense(30, activation=RELU),\n",
        "    tf.keras.layers.Dropout(0.1),\n",
        "    tf.keras.layers.Dense(26, activation=SOFTMAX),\n",
        "    tf.keras.layers.Dropout(0.1)\n",
        "])\n",
        "\n",
        "model.compile(optimizer=adam_optimizer, loss='categorical_crossentropy', metrics=['accuracy'])"
      ],
      "metadata": {
        "id": "RK65yMSg6zbx"
      },
      "execution_count": 15,
      "outputs": []
    },
    {
      "cell_type": "code",
      "source": [
        "log = model.fit(x=xx_train, y=yy_train, epochs=EPOCHS, batch_size = BATCH_SIZE, validation_data=(xx_test, yy_test))"
      ],
      "metadata": {
        "colab": {
          "base_uri": "https://localhost:8080/"
        },
        "id": "QyZVjmd967Fs",
        "outputId": "30e12f20-4b66-4498-d2e6-94bfb33428a9"
      },
      "execution_count": 17,
      "outputs": [
        {
          "output_type": "stream",
          "name": "stdout",
          "text": [
            "Epoch 1/10\n",
            "9312/9312 [==============================] - 37s 4ms/step - loss: nan - accuracy: 0.0372 - val_loss: nan - val_accuracy: 0.0377\n",
            "Epoch 2/10\n",
            "9312/9312 [==============================] - 32s 3ms/step - loss: nan - accuracy: 0.0371 - val_loss: nan - val_accuracy: 0.0377\n",
            "Epoch 3/10\n",
            "9312/9312 [==============================] - 35s 4ms/step - loss: nan - accuracy: 0.0371 - val_loss: nan - val_accuracy: 0.0377\n",
            "Epoch 4/10\n",
            "9312/9312 [==============================] - 35s 4ms/step - loss: nan - accuracy: 0.0371 - val_loss: nan - val_accuracy: 0.0377\n",
            "Epoch 5/10\n",
            "9312/9312 [==============================] - 36s 4ms/step - loss: nan - accuracy: 0.0371 - val_loss: nan - val_accuracy: 0.0377\n",
            "Epoch 6/10\n",
            "9312/9312 [==============================] - 34s 4ms/step - loss: nan - accuracy: 0.0371 - val_loss: nan - val_accuracy: 0.0377\n",
            "Epoch 7/10\n",
            "9312/9312 [==============================] - 35s 4ms/step - loss: nan - accuracy: 0.0371 - val_loss: nan - val_accuracy: 0.0377\n",
            "Epoch 8/10\n",
            "9312/9312 [==============================] - 36s 4ms/step - loss: nan - accuracy: 0.0371 - val_loss: nan - val_accuracy: 0.0377\n",
            "Epoch 9/10\n",
            "9312/9312 [==============================] - 33s 4ms/step - loss: nan - accuracy: 0.0371 - val_loss: nan - val_accuracy: 0.0377\n",
            "Epoch 10/10\n",
            "9312/9312 [==============================] - 35s 4ms/step - loss: nan - accuracy: 0.0371 - val_loss: nan - val_accuracy: 0.0377\n"
          ]
        }
      ]
    },
    {
      "cell_type": "code",
      "source": [
        "acc_loss_plot(log)"
      ],
      "metadata": {
        "colab": {
          "base_uri": "https://localhost:8080/",
          "height": 638
        },
        "id": "GIL0XlCS6zqm",
        "outputId": "ed0bf755-768a-4022-e11f-f0622f0ef5b8"
      },
      "execution_count": 18,
      "outputs": [
        {
          "output_type": "display_data",
          "data": {
            "text/plain": [
              "<Figure size 432x288 with 0 Axes>"
            ]
          },
          "metadata": {}
        },
        {
          "output_type": "display_data",
          "data": {
            "text/plain": [
              "<Figure size 1080x720 with 2 Axes>"
            ],
            "image/png": "[encoded data removed]"
          },
          "metadata": {
            "needs_background": "light"
          }
        }
      ]
    },
    {
      "cell_type": "code",
      "source": [
        "print(\"Train Report: \\n\")\n",
        "criterion_report(xx_train, yy_train)\n",
        "print(\"\\n\\n\\nTest Report: \\n\")\n",
        "criterion_report(xx_test, yy_test)"
      ],
      "metadata": {
        "colab": {
          "base_uri": "https://localhost:8080/"
        },
        "id": "24J8mnsH6zqm",
        "outputId": "aff03a02-2d20-4871-a3d9-e94519ffdd15"
      },
      "execution_count": 19,
      "outputs": [
        {
          "output_type": "stream",
          "name": "stdout",
          "text": [
            "Train Report: \n",
            "\n",
            "9312/9312 [==============================] - 13s 1ms/step\n"
          ]
        },
        {
          "output_type": "stream",
          "name": "stderr",
          "text": [
            "/usr/local/lib/python3.7/dist-packages/sklearn/metrics/_classification.py:1318: UndefinedMetricWarning: Precision and F-score are ill-defined and being set to 0.0 in labels with no predicted samples. Use `zero_division` parameter to control this behavior.\n",
            "  _warn_prf(average, modifier, msg_start, len(result))\n",
            "/usr/local/lib/python3.7/dist-packages/sklearn/metrics/_classification.py:1318: UndefinedMetricWarning: Precision and F-score are ill-defined and being set to 0.0 in labels with no predicted samples. Use `zero_division` parameter to control this behavior.\n",
            "  _warn_prf(average, modifier, msg_start, len(result))\n",
            "/usr/local/lib/python3.7/dist-packages/sklearn/metrics/_classification.py:1318: UndefinedMetricWarning: Precision and F-score are ill-defined and being set to 0.0 in labels with no predicted samples. Use `zero_division` parameter to control this behavior.\n",
            "  _warn_prf(average, modifier, msg_start, len(result))\n"
          ]
        },
        {
          "output_type": "stream",
          "name": "stdout",
          "text": [
            "              precision    recall  f1-score   support\n",
            "\n",
            "           0       0.04      1.00      0.07     11063\n",
            "           1       0.00      0.00      0.00      6995\n",
            "           2       0.00      0.00      0.00     18667\n",
            "           3       0.00      0.00      0.00      8090\n",
            "           4       0.00      0.00      0.00      9226\n",
            "           5       0.00      0.00      0.00       932\n",
            "           6       0.00      0.00      0.00      4579\n",
            "           7       0.00      0.00      0.00      5752\n",
            "           8       0.00      0.00      0.00       883\n",
            "           9       0.00      0.00      0.00      6825\n",
            "          10       0.00      0.00      0.00      4471\n",
            "          11       0.00      0.00      0.00      9267\n",
            "          12       0.00      0.00      0.00      9849\n",
            "          13       0.00      0.00      0.00     15254\n",
            "          14       0.00      0.00      0.00     46196\n",
            "          15       0.00      0.00      0.00     15473\n",
            "          16       0.00      0.00      0.00      4653\n",
            "          17       0.00      0.00      0.00      9270\n",
            "          18       0.00      0.00      0.00     38863\n",
            "          19       0.00      0.00      0.00     18048\n",
            "          20       0.00      0.00      0.00     23148\n",
            "          21       0.00      0.00      0.00      3359\n",
            "          22       0.00      0.00      0.00      8586\n",
            "          23       0.00      0.00      0.00      5003\n",
            "          24       0.00      0.00      0.00      8657\n",
            "          25       0.00      0.00      0.00      4851\n",
            "\n",
            "    accuracy                           0.04    297960\n",
            "   macro avg       0.00      0.04      0.00    297960\n",
            "weighted avg       0.00      0.04      0.00    297960\n",
            "\n",
            "\n",
            "\n",
            "\n",
            "Test Report: \n",
            "\n",
            "2328/2328 [==============================] - 3s 1ms/step\n",
            "              precision    recall  f1-score   support\n",
            "\n",
            "           0       0.04      1.00      0.07      2806\n",
            "           1       0.00      0.00      0.00      1673\n",
            "           2       0.00      0.00      0.00      4742\n",
            "           3       0.00      0.00      0.00      2044\n",
            "           4       0.00      0.00      0.00      2214\n",
            "           5       0.00      0.00      0.00       231\n",
            "           6       0.00      0.00      0.00      1183\n",
            "           7       0.00      0.00      0.00      1466\n",
            "           8       0.00      0.00      0.00       237\n",
            "           9       0.00      0.00      0.00      1668\n",
            "          10       0.00      0.00      0.00      1132\n",
            "          11       0.00      0.00      0.00      2319\n",
            "          12       0.00      0.00      0.00      2487\n",
            "          13       0.00      0.00      0.00      3756\n",
            "          14       0.00      0.00      0.00     11629\n",
            "          15       0.00      0.00      0.00      3868\n",
            "          16       0.00      0.00      0.00      1159\n",
            "          17       0.00      0.00      0.00      2296\n",
            "          18       0.00      0.00      0.00      9556\n",
            "          19       0.00      0.00      0.00      4447\n",
            "          20       0.00      0.00      0.00      5860\n",
            "          21       0.00      0.00      0.00       823\n",
            "          22       0.00      0.00      0.00      2198\n",
            "          23       0.00      0.00      0.00      1269\n",
            "          24       0.00      0.00      0.00      2202\n",
            "          25       0.00      0.00      0.00      1225\n",
            "\n",
            "    accuracy                           0.04     74490\n",
            "   macro avg       0.00      0.04      0.00     74490\n",
            "weighted avg       0.00      0.04      0.00     74490\n",
            "\n"
          ]
        },
        {
          "output_type": "stream",
          "name": "stderr",
          "text": [
            "/usr/local/lib/python3.7/dist-packages/sklearn/metrics/_classification.py:1318: UndefinedMetricWarning: Precision and F-score are ill-defined and being set to 0.0 in labels with no predicted samples. Use `zero_division` parameter to control this behavior.\n",
            "  _warn_prf(average, modifier, msg_start, len(result))\n",
            "/usr/local/lib/python3.7/dist-packages/sklearn/metrics/_classification.py:1318: UndefinedMetricWarning: Precision and F-score are ill-defined and being set to 0.0 in labels with no predicted samples. Use `zero_division` parameter to control this behavior.\n",
            "  _warn_prf(average, modifier, msg_start, len(result))\n",
            "/usr/local/lib/python3.7/dist-packages/sklearn/metrics/_classification.py:1318: UndefinedMetricWarning: Precision and F-score are ill-defined and being set to 0.0 in labels with no predicted samples. Use `zero_division` parameter to control this behavior.\n",
            "  _warn_prf(average, modifier, msg_start, len(result))\n"
          ]
        }
      ]
    },
    {
      "cell_type": "code",
      "source": [
        "model.summary()"
      ],
      "metadata": {
        "colab": {
          "base_uri": "https://localhost:8080/"
        },
        "id": "1f0kRw0E6zqn",
        "outputId": "88a83247-9ff4-4d70-8cc3-31b47b6720d9"
      },
      "execution_count": 20,
      "outputs": [
        {
          "output_type": "stream",
          "name": "stdout",
          "text": [
            "Model: \"sequential_1\"\n",
            "_________________________________________________________________\n",
            " Layer (type)                Output Shape              Param #   \n",
            "=================================================================\n",
            " dense_3 (Dense)             (None, 30)                23550     \n",
            "                                                                 \n",
            " dropout_3 (Dropout)         (None, 30)                0         \n",
            "                                                                 \n",
            " dense_4 (Dense)             (None, 30)                930       \n",
            "                                                                 \n",
            " dropout_4 (Dropout)         (None, 30)                0         \n",
            "                                                                 \n",
            " dense_5 (Dense)             (None, 26)                806       \n",
            "                                                                 \n",
            " dropout_5 (Dropout)         (None, 26)                0         \n",
            "                                                                 \n",
            "=================================================================\n",
            "Total params: 25,286\n",
            "Trainable params: 25,286\n",
            "Non-trainable params: 0\n",
            "_________________________________________________________________\n"
          ]
        }
      ]
    },
    {
      "cell_type": "code",
      "source": [
        "jupyter nbconvert --to html /PATH/TO/YOUR/NOTEBOOKFILE.ipynb"
      ],
      "metadata": {
        "id": "knzam4dzC5GT"
      },
      "execution_count": null,
      "outputs": []
    }
  ]
}